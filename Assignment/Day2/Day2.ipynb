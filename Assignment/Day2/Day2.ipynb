{
 "cells": [
  {
   "cell_type": "markdown",
   "id": "1128dafb-91e9-4b8c-badc-630440057642",
   "metadata": {},
   "source": [
    "# Question 1 :"
   ]
  },
  {
   "cell_type": "markdown",
   "id": "296992da-7ce9-4ab1-8572-8b14077e61f3",
   "metadata": {},
   "source": [
    "## Categorical data is the statistical datatype consisting of categorical variables or of data that has been converted into that form, for example as grouped data.\n",
    "### --> So Region, Payment , and Product are Categorical.\n",
    "### --> Since they are not ranked in in a meaningful way, they are not ordinal.\n",
    "### --> That makes Customer ID and Transaction Code Ordinal Data.\n",
    "### --> Interval data is ordered, the difference between data values hold meaning.\n",
    "### Making the time of day interval data.Ratio Data is data that is continuous numerical"
   ]
  },
  {
   "cell_type": "markdown",
   "id": "08a86df0-08d9-4395-b269-06155bf3fd79",
   "metadata": {},
   "source": [
    "# Question 2 :"
   ]
  },
  {
   "cell_type": "code",
   "execution_count": 5,
   "id": "08154d9b-91bd-4b20-8212-80f328e633ce",
   "metadata": {},
   "outputs": [],
   "source": [
    "import pandas as pd\n",
    "import numpy as np\n",
    "import matplotlib.pyplot as plt\n",
    "from scipy import stats"
   ]
  },
  {
   "cell_type": "code",
   "execution_count": 6,
   "id": "993ee072-fa97-45ef-adf7-4c4cb4dc4c69",
   "metadata": {},
   "outputs": [
    {
     "name": "stderr",
     "output_type": "stream",
     "text": [
      "/home/abhishek/anaconda3/lib/python3.8/site-packages/openpyxl/worksheet/_reader.py:312: UserWarning: Unknown extension is not supported and will be removed\n",
      "  warn(msg)\n"
     ]
    }
   ],
   "source": [
    "df = pd.read_excel('/media/abhishek/589E61B39E618A782/C-DAC Document/Advanced Analytics/Assignment/Datasets/Purchase Orders.xlsx', skiprows = 2)"
   ]
  },
  {
   "cell_type": "code",
   "execution_count": 7,
   "id": "8b42ca88-bb43-460a-8016-684269d30886",
   "metadata": {},
   "outputs": [
    {
     "data": {
      "text/html": [
       "<div>\n",
       "<style scoped>\n",
       "    .dataframe tbody tr th:only-of-type {\n",
       "        vertical-align: middle;\n",
       "    }\n",
       "\n",
       "    .dataframe tbody tr th {\n",
       "        vertical-align: top;\n",
       "    }\n",
       "\n",
       "    .dataframe thead th {\n",
       "        text-align: right;\n",
       "    }\n",
       "</style>\n",
       "<table border=\"1\" class=\"dataframe\">\n",
       "  <thead>\n",
       "    <tr style=\"text-align: right;\">\n",
       "      <th></th>\n",
       "      <th>Supplier</th>\n",
       "      <th>Order No.</th>\n",
       "      <th>Item No.</th>\n",
       "      <th>Item Description</th>\n",
       "      <th>Item Cost</th>\n",
       "      <th>Quantity</th>\n",
       "      <th>Cost per order</th>\n",
       "      <th>A/P Terms (Months)</th>\n",
       "      <th>Order Date</th>\n",
       "      <th>Arrival Date</th>\n",
       "    </tr>\n",
       "  </thead>\n",
       "  <tbody>\n",
       "    <tr>\n",
       "      <th>0</th>\n",
       "      <td>Hulkey Fasteners</td>\n",
       "      <td>Aug11001</td>\n",
       "      <td>1122</td>\n",
       "      <td>Airframe fasteners</td>\n",
       "      <td>4.25</td>\n",
       "      <td>19500</td>\n",
       "      <td>82875.00</td>\n",
       "      <td>30</td>\n",
       "      <td>2011-08-05</td>\n",
       "      <td>2011-08-13</td>\n",
       "    </tr>\n",
       "    <tr>\n",
       "      <th>1</th>\n",
       "      <td>Alum Sheeting</td>\n",
       "      <td>Aug11002</td>\n",
       "      <td>1243</td>\n",
       "      <td>Airframe fasteners</td>\n",
       "      <td>4.25</td>\n",
       "      <td>10000</td>\n",
       "      <td>42500.00</td>\n",
       "      <td>30</td>\n",
       "      <td>2011-08-08</td>\n",
       "      <td>2011-08-14</td>\n",
       "    </tr>\n",
       "    <tr>\n",
       "      <th>2</th>\n",
       "      <td>Fast-Tie Aerospace</td>\n",
       "      <td>Aug11003</td>\n",
       "      <td>5462</td>\n",
       "      <td>Shielded Cable/ft.</td>\n",
       "      <td>1.05</td>\n",
       "      <td>23000</td>\n",
       "      <td>24150.00</td>\n",
       "      <td>30</td>\n",
       "      <td>2011-08-10</td>\n",
       "      <td>2011-08-15</td>\n",
       "    </tr>\n",
       "    <tr>\n",
       "      <th>3</th>\n",
       "      <td>Fast-Tie Aerospace</td>\n",
       "      <td>Aug11004</td>\n",
       "      <td>5462</td>\n",
       "      <td>Shielded Cable/ft.</td>\n",
       "      <td>1.05</td>\n",
       "      <td>21500</td>\n",
       "      <td>22575.00</td>\n",
       "      <td>30</td>\n",
       "      <td>2011-08-15</td>\n",
       "      <td>2011-08-22</td>\n",
       "    </tr>\n",
       "    <tr>\n",
       "      <th>4</th>\n",
       "      <td>Steelpin Inc.</td>\n",
       "      <td>Aug11005</td>\n",
       "      <td>5319</td>\n",
       "      <td>Shielded Cable/ft.</td>\n",
       "      <td>1.10</td>\n",
       "      <td>17500</td>\n",
       "      <td>19250.00</td>\n",
       "      <td>30</td>\n",
       "      <td>2011-08-20</td>\n",
       "      <td>2011-08-31</td>\n",
       "    </tr>\n",
       "    <tr>\n",
       "      <th>...</th>\n",
       "      <td>...</td>\n",
       "      <td>...</td>\n",
       "      <td>...</td>\n",
       "      <td>...</td>\n",
       "      <td>...</td>\n",
       "      <td>...</td>\n",
       "      <td>...</td>\n",
       "      <td>...</td>\n",
       "      <td>...</td>\n",
       "      <td>...</td>\n",
       "    </tr>\n",
       "    <tr>\n",
       "      <th>89</th>\n",
       "      <td>Manley Valve</td>\n",
       "      <td>Nov11006</td>\n",
       "      <td>9967</td>\n",
       "      <td>Hatch Decal</td>\n",
       "      <td>0.85</td>\n",
       "      <td>550</td>\n",
       "      <td>467.50</td>\n",
       "      <td>30</td>\n",
       "      <td>2011-11-05</td>\n",
       "      <td>2011-11-11</td>\n",
       "    </tr>\n",
       "    <tr>\n",
       "      <th>90</th>\n",
       "      <td>Fast-Tie Aerospace</td>\n",
       "      <td>Nov11007</td>\n",
       "      <td>7268</td>\n",
       "      <td>Pressure Gauge</td>\n",
       "      <td>95.00</td>\n",
       "      <td>105</td>\n",
       "      <td>9975.00</td>\n",
       "      <td>30</td>\n",
       "      <td>2011-11-05</td>\n",
       "      <td>2011-11-16</td>\n",
       "    </tr>\n",
       "    <tr>\n",
       "      <th>91</th>\n",
       "      <td>Fast-Tie Aerospace</td>\n",
       "      <td>Nov11008</td>\n",
       "      <td>5689</td>\n",
       "      <td>Side Panel</td>\n",
       "      <td>175.00</td>\n",
       "      <td>175</td>\n",
       "      <td>30625.00</td>\n",
       "      <td>30</td>\n",
       "      <td>2011-11-05</td>\n",
       "      <td>2011-11-15</td>\n",
       "    </tr>\n",
       "    <tr>\n",
       "      <th>92</th>\n",
       "      <td>Steelpin Inc.</td>\n",
       "      <td>Nov11009</td>\n",
       "      <td>5677</td>\n",
       "      <td>Side Panel</td>\n",
       "      <td>195.00</td>\n",
       "      <td>110</td>\n",
       "      <td>21450.00</td>\n",
       "      <td>30</td>\n",
       "      <td>2011-11-05</td>\n",
       "      <td>2011-11-17</td>\n",
       "    </tr>\n",
       "    <tr>\n",
       "      <th>93</th>\n",
       "      <td>Manley Valve</td>\n",
       "      <td>Nov11010</td>\n",
       "      <td>9955</td>\n",
       "      <td>Door Decal</td>\n",
       "      <td>0.55</td>\n",
       "      <td>125</td>\n",
       "      <td>68.75</td>\n",
       "      <td>30</td>\n",
       "      <td>2011-11-05</td>\n",
       "      <td>2011-11-10</td>\n",
       "    </tr>\n",
       "  </tbody>\n",
       "</table>\n",
       "<p>94 rows × 10 columns</p>\n",
       "</div>"
      ],
      "text/plain": [
       "             Supplier  Order No.  Item No.    Item Description  Item Cost  \\\n",
       "0     Hulkey Fasteners  Aug11001      1122  Airframe fasteners       4.25   \n",
       "1        Alum Sheeting  Aug11002      1243  Airframe fasteners       4.25   \n",
       "2   Fast-Tie Aerospace  Aug11003      5462  Shielded Cable/ft.       1.05   \n",
       "3   Fast-Tie Aerospace  Aug11004      5462  Shielded Cable/ft.       1.05   \n",
       "4        Steelpin Inc.  Aug11005      5319  Shielded Cable/ft.       1.10   \n",
       "..                 ...       ...       ...                 ...        ...   \n",
       "89        Manley Valve  Nov11006      9967         Hatch Decal       0.85   \n",
       "90  Fast-Tie Aerospace  Nov11007      7268      Pressure Gauge      95.00   \n",
       "91  Fast-Tie Aerospace  Nov11008      5689          Side Panel     175.00   \n",
       "92       Steelpin Inc.  Nov11009      5677          Side Panel     195.00   \n",
       "93        Manley Valve  Nov11010      9955          Door Decal       0.55   \n",
       "\n",
       "    Quantity  Cost per order  A/P Terms (Months) Order Date Arrival Date  \n",
       "0      19500        82875.00                  30 2011-08-05   2011-08-13  \n",
       "1      10000        42500.00                  30 2011-08-08   2011-08-14  \n",
       "2      23000        24150.00                  30 2011-08-10   2011-08-15  \n",
       "3      21500        22575.00                  30 2011-08-15   2011-08-22  \n",
       "4      17500        19250.00                  30 2011-08-20   2011-08-31  \n",
       "..       ...             ...                 ...        ...          ...  \n",
       "89       550          467.50                  30 2011-11-05   2011-11-11  \n",
       "90       105         9975.00                  30 2011-11-05   2011-11-16  \n",
       "91       175        30625.00                  30 2011-11-05   2011-11-15  \n",
       "92       110        21450.00                  30 2011-11-05   2011-11-17  \n",
       "93       125           68.75                  30 2011-11-05   2011-11-10  \n",
       "\n",
       "[94 rows x 10 columns]"
      ]
     },
     "execution_count": 7,
     "metadata": {},
     "output_type": "execute_result"
    }
   ],
   "source": [
    "df"
   ]
  },
  {
   "cell_type": "markdown",
   "id": "5b947bc4-d2ca-4656-8328-928daeb2bf5b",
   "metadata": {},
   "source": [
    "## 1. Smallest and largest quantity of any item ordered"
   ]
  },
  {
   "cell_type": "code",
   "execution_count": 8,
   "id": "812fc7e0-401c-42d7-bf84-ed713eef55ec",
   "metadata": {},
   "outputs": [
    {
     "name": "stdout",
     "output_type": "stream",
     "text": [
      "maximum quantity : 25000\n",
      "minimum quantity : 90\n"
     ]
    }
   ],
   "source": [
    "print(\"maximum quantity :\", df[\"Quantity\"].max())\n",
    "print(\"minimum quantity :\", df[\"Quantity\"].min())"
   ]
  },
  {
   "cell_type": "markdown",
   "id": "6308f586-073d-4e10-b71f-508809a3f47c",
   "metadata": {},
   "source": [
    "## 2. Total order costs"
   ]
  },
  {
   "cell_type": "code",
   "execution_count": 9,
   "id": "fdffb388-7062-485a-9194-141bcffcdc14",
   "metadata": {},
   "outputs": [
    {
     "name": "stdout",
     "output_type": "stream",
     "text": [
      "Total order cost : 2471760.0\n"
     ]
    }
   ],
   "source": [
    "print(\"Total order cost :\", df[\"Cost per order\"].sum())"
   ]
  },
  {
   "cell_type": "markdown",
   "id": "209e4aad-fbe1-472c-9725-16b13564efbf",
   "metadata": {},
   "source": [
    "## 3. Average number of months per order for accounts payable"
   ]
  },
  {
   "cell_type": "code",
   "execution_count": 10,
   "id": "c4082d02-daf9-49bc-a75f-b3c09d17f811",
   "metadata": {},
   "outputs": [
    {
     "name": "stdout",
     "output_type": "stream",
     "text": [
      "Average number of months per order for accounts payable : 30.638297872340427\n"
     ]
    }
   ],
   "source": [
    "print(\"Average number of months per order for accounts payable :\", df[\"A/P Terms (Months)\"].mean())"
   ]
  },
  {
   "cell_type": "markdown",
   "id": "799e6852-1bd7-4b21-b380-e2105f58167d",
   "metadata": {},
   "source": [
    "## 4. Number of purchase orders placed"
   ]
  },
  {
   "cell_type": "code",
   "execution_count": 11,
   "id": "f78724c8-23dc-4ddf-a38a-d57af0c70bf4",
   "metadata": {},
   "outputs": [
    {
     "name": "stdout",
     "output_type": "stream",
     "text": [
      "purchase orders placed : 94\n"
     ]
    }
   ],
   "source": [
    "print(\"purchase orders placed :\", df[\"Order No.\"].count())"
   ]
  },
  {
   "cell_type": "markdown",
   "id": "33b3a3de-6aef-42a2-8053-75d2c368beda",
   "metadata": {},
   "source": [
    "## 5. Number of orders placed for O-rings"
   ]
  },
  {
   "cell_type": "code",
   "execution_count": 12,
   "id": "2c2c30a0-f70b-47fc-9593-cd034ea588f6",
   "metadata": {},
   "outputs": [
    {
     "name": "stdout",
     "output_type": "stream",
     "text": [
      "orders placed for O-rings : Supplier              12\n",
      "Order No.             12\n",
      "Item No.              12\n",
      "Item Description      12\n",
      "Item Cost             12\n",
      "Quantity              12\n",
      "Cost per order        12\n",
      "A/P Terms (Months)    12\n",
      "Order Date            12\n",
      "Arrival Date          12\n",
      "dtype: int64\n"
     ]
    }
   ],
   "source": [
    "print(\"orders placed for O-rings :\", df.loc[df[\"Item Description\"] == 'O-Ring'].count())"
   ]
  },
  {
   "cell_type": "markdown",
   "id": "bbd13f3a-9ec4-484b-9ecd-c44fd4d463f9",
   "metadata": {},
   "source": [
    "## 6. Number of orders with A/P term shorter than 30 months"
   ]
  },
  {
   "cell_type": "code",
   "execution_count": 13,
   "id": "b96f70dd-d533-4288-9f57-61ebf21078b5",
   "metadata": {},
   "outputs": [
    {
     "name": "stdout",
     "output_type": "stream",
     "text": [
      "Number of orders with A/P term shorter than 30 months :  Supplier              17\n",
      "Order No.             17\n",
      "Item No.              17\n",
      "Item Description      17\n",
      "Item Cost             17\n",
      "Quantity              17\n",
      "Cost per order        17\n",
      "A/P Terms (Months)    17\n",
      "Order Date            17\n",
      "Arrival Date          17\n",
      "dtype: int64\n"
     ]
    }
   ],
   "source": [
    "print(\"Number of orders with A/P term shorter than 30 months : \", df.loc[df[\"A/P Terms (Months)\"] < 30].count())"
   ]
  },
  {
   "cell_type": "markdown",
   "id": "9702bb0f-5d8b-4425-a6e9-c6573c7980d7",
   "metadata": {},
   "source": [
    "# Question 3 :"
   ]
  },
  {
   "cell_type": "code",
   "execution_count": 14,
   "id": "8b4b2d8a-a699-44b0-be65-20031c4566f2",
   "metadata": {},
   "outputs": [
    {
     "name": "stderr",
     "output_type": "stream",
     "text": [
      "/home/abhishek/anaconda3/lib/python3.8/site-packages/openpyxl/worksheet/_reader.py:312: UserWarning: Unknown extension is not supported and will be removed\n",
      "  warn(msg)\n"
     ]
    }
   ],
   "source": [
    "df1 = pd.read_excel('/media/abhishek/589E61B39E618A782/C-DAC Document/Advanced Analytics/Assignment/Datasets/Sales Transactions.xlsx',skiprows = 2)"
   ]
  },
  {
   "cell_type": "code",
   "execution_count": 15,
   "id": "b971798c-7e80-4bf6-a0a4-20eb2b0477a0",
   "metadata": {},
   "outputs": [
    {
     "data": {
      "text/html": [
       "<div>\n",
       "<style scoped>\n",
       "    .dataframe tbody tr th:only-of-type {\n",
       "        vertical-align: middle;\n",
       "    }\n",
       "\n",
       "    .dataframe tbody tr th {\n",
       "        vertical-align: top;\n",
       "    }\n",
       "\n",
       "    .dataframe thead th {\n",
       "        text-align: right;\n",
       "    }\n",
       "</style>\n",
       "<table border=\"1\" class=\"dataframe\">\n",
       "  <thead>\n",
       "    <tr style=\"text-align: right;\">\n",
       "      <th></th>\n",
       "      <th>Cust ID</th>\n",
       "      <th>Region</th>\n",
       "      <th>Payment</th>\n",
       "      <th>Transaction Code</th>\n",
       "      <th>Source</th>\n",
       "      <th>Amount</th>\n",
       "      <th>Product</th>\n",
       "      <th>Time Of Day</th>\n",
       "    </tr>\n",
       "  </thead>\n",
       "  <tbody>\n",
       "    <tr>\n",
       "      <th>0</th>\n",
       "      <td>10001</td>\n",
       "      <td>East</td>\n",
       "      <td>Paypal</td>\n",
       "      <td>93816545</td>\n",
       "      <td>Web</td>\n",
       "      <td>20.19</td>\n",
       "      <td>DVD</td>\n",
       "      <td>22:19:00</td>\n",
       "    </tr>\n",
       "    <tr>\n",
       "      <th>1</th>\n",
       "      <td>10002</td>\n",
       "      <td>West</td>\n",
       "      <td>Credit</td>\n",
       "      <td>74083490</td>\n",
       "      <td>Web</td>\n",
       "      <td>17.85</td>\n",
       "      <td>DVD</td>\n",
       "      <td>13:27:00</td>\n",
       "    </tr>\n",
       "    <tr>\n",
       "      <th>2</th>\n",
       "      <td>10003</td>\n",
       "      <td>North</td>\n",
       "      <td>Credit</td>\n",
       "      <td>64942368</td>\n",
       "      <td>Web</td>\n",
       "      <td>23.98</td>\n",
       "      <td>DVD</td>\n",
       "      <td>14:27:00</td>\n",
       "    </tr>\n",
       "    <tr>\n",
       "      <th>3</th>\n",
       "      <td>10004</td>\n",
       "      <td>West</td>\n",
       "      <td>Paypal</td>\n",
       "      <td>70560957</td>\n",
       "      <td>Email</td>\n",
       "      <td>23.51</td>\n",
       "      <td>Book</td>\n",
       "      <td>15:38:00</td>\n",
       "    </tr>\n",
       "    <tr>\n",
       "      <th>4</th>\n",
       "      <td>10005</td>\n",
       "      <td>South</td>\n",
       "      <td>Credit</td>\n",
       "      <td>35208817</td>\n",
       "      <td>Web</td>\n",
       "      <td>15.33</td>\n",
       "      <td>Book</td>\n",
       "      <td>15:21:00</td>\n",
       "    </tr>\n",
       "    <tr>\n",
       "      <th>...</th>\n",
       "      <td>...</td>\n",
       "      <td>...</td>\n",
       "      <td>...</td>\n",
       "      <td>...</td>\n",
       "      <td>...</td>\n",
       "      <td>...</td>\n",
       "      <td>...</td>\n",
       "      <td>...</td>\n",
       "    </tr>\n",
       "    <tr>\n",
       "      <th>467</th>\n",
       "      <td>10468</td>\n",
       "      <td>South</td>\n",
       "      <td>Credit</td>\n",
       "      <td>47286881</td>\n",
       "      <td>Email</td>\n",
       "      <td>22.05</td>\n",
       "      <td>DVD</td>\n",
       "      <td>10:27:00</td>\n",
       "    </tr>\n",
       "    <tr>\n",
       "      <th>468</th>\n",
       "      <td>10469</td>\n",
       "      <td>North</td>\n",
       "      <td>Paypal</td>\n",
       "      <td>62265606</td>\n",
       "      <td>Email</td>\n",
       "      <td>17.88</td>\n",
       "      <td>Book</td>\n",
       "      <td>06:06:00</td>\n",
       "    </tr>\n",
       "    <tr>\n",
       "      <th>469</th>\n",
       "      <td>10470</td>\n",
       "      <td>West</td>\n",
       "      <td>Credit</td>\n",
       "      <td>63133211</td>\n",
       "      <td>Email</td>\n",
       "      <td>15.18</td>\n",
       "      <td>DVD</td>\n",
       "      <td>19:25:00</td>\n",
       "    </tr>\n",
       "    <tr>\n",
       "      <th>470</th>\n",
       "      <td>10471</td>\n",
       "      <td>West</td>\n",
       "      <td>Paypal</td>\n",
       "      <td>24646414</td>\n",
       "      <td>Web</td>\n",
       "      <td>15.62</td>\n",
       "      <td>DVD</td>\n",
       "      <td>03:03:00</td>\n",
       "    </tr>\n",
       "    <tr>\n",
       "      <th>471</th>\n",
       "      <td>10472</td>\n",
       "      <td>North</td>\n",
       "      <td>Credit</td>\n",
       "      <td>65043803</td>\n",
       "      <td>Web</td>\n",
       "      <td>20.58</td>\n",
       "      <td>DVD</td>\n",
       "      <td>18:02:00</td>\n",
       "    </tr>\n",
       "  </tbody>\n",
       "</table>\n",
       "<p>472 rows × 8 columns</p>\n",
       "</div>"
      ],
      "text/plain": [
       "     Cust ID Region Payment   Transaction Code Source  Amount Product  \\\n",
       "0      10001   East   Paypal          93816545    Web   20.19     DVD   \n",
       "1      10002   West   Credit          74083490    Web   17.85     DVD   \n",
       "2      10003  North   Credit          64942368    Web   23.98     DVD   \n",
       "3      10004   West   Paypal          70560957  Email   23.51    Book   \n",
       "4      10005  South   Credit          35208817    Web   15.33    Book   \n",
       "..       ...    ...      ...               ...    ...     ...     ...   \n",
       "467    10468  South   Credit          47286881  Email   22.05     DVD   \n",
       "468    10469  North   Paypal          62265606  Email   17.88    Book   \n",
       "469    10470   West   Credit          63133211  Email   15.18     DVD   \n",
       "470    10471   West   Paypal          24646414    Web   15.62     DVD   \n",
       "471    10472  North   Credit          65043803    Web   20.58     DVD   \n",
       "\n",
       "    Time Of Day  \n",
       "0      22:19:00  \n",
       "1      13:27:00  \n",
       "2      14:27:00  \n",
       "3      15:38:00  \n",
       "4      15:21:00  \n",
       "..          ...  \n",
       "467    10:27:00  \n",
       "468    06:06:00  \n",
       "469    19:25:00  \n",
       "470    03:03:00  \n",
       "471    18:02:00  \n",
       "\n",
       "[472 rows x 8 columns]"
      ]
     },
     "execution_count": 15,
     "metadata": {},
     "output_type": "execute_result"
    }
   ],
   "source": [
    "df1"
   ]
  },
  {
   "cell_type": "markdown",
   "id": "39e904e6-c083-49d9-b495-318f2ba83e3b",
   "metadata": {},
   "source": [
    "## 1. Find the transaction code and payment type for customer ID 10005."
   ]
  },
  {
   "cell_type": "code",
   "execution_count": 16,
   "id": "e006d366-17ff-43a0-bf82-b7fd01d06b47",
   "metadata": {},
   "outputs": [],
   "source": [
    "ID = df1[df1[\"Cust ID\"] == 10005]"
   ]
  },
  {
   "cell_type": "code",
   "execution_count": 17,
   "id": "4f57f679-5e3d-4d81-b3f7-c040d0bc7ecc",
   "metadata": {},
   "outputs": [
    {
     "data": {
      "text/html": [
       "<div>\n",
       "<style scoped>\n",
       "    .dataframe tbody tr th:only-of-type {\n",
       "        vertical-align: middle;\n",
       "    }\n",
       "\n",
       "    .dataframe tbody tr th {\n",
       "        vertical-align: top;\n",
       "    }\n",
       "\n",
       "    .dataframe thead th {\n",
       "        text-align: right;\n",
       "    }\n",
       "</style>\n",
       "<table border=\"1\" class=\"dataframe\">\n",
       "  <thead>\n",
       "    <tr style=\"text-align: right;\">\n",
       "      <th></th>\n",
       "      <th>Cust ID</th>\n",
       "      <th>Region</th>\n",
       "      <th>Payment</th>\n",
       "      <th>Transaction Code</th>\n",
       "      <th>Source</th>\n",
       "      <th>Amount</th>\n",
       "      <th>Product</th>\n",
       "      <th>Time Of Day</th>\n",
       "    </tr>\n",
       "  </thead>\n",
       "  <tbody>\n",
       "    <tr>\n",
       "      <th>4</th>\n",
       "      <td>10005</td>\n",
       "      <td>South</td>\n",
       "      <td>Credit</td>\n",
       "      <td>35208817</td>\n",
       "      <td>Web</td>\n",
       "      <td>15.33</td>\n",
       "      <td>Book</td>\n",
       "      <td>15:21:00</td>\n",
       "    </tr>\n",
       "  </tbody>\n",
       "</table>\n",
       "</div>"
      ],
      "text/plain": [
       "   Cust ID Region Payment   Transaction Code Source  Amount Product  \\\n",
       "4    10005  South   Credit          35208817    Web   15.33    Book   \n",
       "\n",
       "  Time Of Day  \n",
       "4    15:21:00  "
      ]
     },
     "execution_count": 17,
     "metadata": {},
     "output_type": "execute_result"
    }
   ],
   "source": [
    "ID"
   ]
  },
  {
   "cell_type": "markdown",
   "id": "9ddf3338-d085-48c4-ae5b-db6fdd5018b7",
   "metadata": {},
   "source": [
    "## 2.Find the transaction code for customer id – 10007."
   ]
  },
  {
   "cell_type": "code",
   "execution_count": 18,
   "id": "735e6260-c001-4ce6-80ec-3940d7746d81",
   "metadata": {},
   "outputs": [],
   "source": [
    "ID1 = df1[df1[\"Cust ID\"] == 10007]"
   ]
  },
  {
   "cell_type": "code",
   "execution_count": 19,
   "id": "ca51ceec-b2c0-43bf-920d-e59a336d5e0d",
   "metadata": {},
   "outputs": [
    {
     "data": {
      "text/plain": [
       "6    80103311\n",
       "Name: Transaction Code, dtype: int64"
      ]
     },
     "execution_count": 19,
     "metadata": {},
     "output_type": "execute_result"
    }
   ],
   "source": [
    "ID1[\"Transaction Code\"]"
   ]
  },
  {
   "cell_type": "markdown",
   "id": "7e5f8cb6-a2af-46c8-86af-5206d85c2bf7",
   "metadata": {},
   "source": [
    "## 3.Find whether transaction code 10001 exist in the file."
   ]
  },
  {
   "cell_type": "code",
   "execution_count": 20,
   "id": "fb7a18b8-c90e-4076-92c5-996fe09800e3",
   "metadata": {},
   "outputs": [],
   "source": [
    "Transaction_code = df1[df1['Transaction Code'] == 10001]"
   ]
  },
  {
   "cell_type": "code",
   "execution_count": 21,
   "id": "6a636a19-4b1f-4dec-824b-429ce2247e11",
   "metadata": {},
   "outputs": [
    {
     "data": {
      "text/html": [
       "<div>\n",
       "<style scoped>\n",
       "    .dataframe tbody tr th:only-of-type {\n",
       "        vertical-align: middle;\n",
       "    }\n",
       "\n",
       "    .dataframe tbody tr th {\n",
       "        vertical-align: top;\n",
       "    }\n",
       "\n",
       "    .dataframe thead th {\n",
       "        text-align: right;\n",
       "    }\n",
       "</style>\n",
       "<table border=\"1\" class=\"dataframe\">\n",
       "  <thead>\n",
       "    <tr style=\"text-align: right;\">\n",
       "      <th></th>\n",
       "      <th>Cust ID</th>\n",
       "      <th>Region</th>\n",
       "      <th>Payment</th>\n",
       "      <th>Transaction Code</th>\n",
       "      <th>Source</th>\n",
       "      <th>Amount</th>\n",
       "      <th>Product</th>\n",
       "      <th>Time Of Day</th>\n",
       "    </tr>\n",
       "  </thead>\n",
       "  <tbody>\n",
       "  </tbody>\n",
       "</table>\n",
       "</div>"
      ],
      "text/plain": [
       "Empty DataFrame\n",
       "Columns: [Cust ID, Region, Payment , Transaction Code, Source, Amount, Product, Time Of Day]\n",
       "Index: []"
      ]
     },
     "execution_count": 21,
     "metadata": {},
     "output_type": "execute_result"
    }
   ],
   "source": [
    "Transaction_code"
   ]
  },
  {
   "cell_type": "markdown",
   "id": "da96e410-6738-45b4-9b01-f0d4ab4ff4b1",
   "metadata": {},
   "source": [
    "# Question 4 :"
   ]
  },
  {
   "cell_type": "code",
   "execution_count": 22,
   "id": "12d1adfa-7ef1-4760-b052-93eabf0f1e59",
   "metadata": {},
   "outputs": [
    {
     "name": "stderr",
     "output_type": "stream",
     "text": [
      "/home/abhishek/anaconda3/lib/python3.8/site-packages/openpyxl/worksheet/_reader.py:312: UserWarning: Unknown extension is not supported and will be removed\n",
      "  warn(msg)\n"
     ]
    }
   ],
   "source": [
    "df3 = pd.read_excel(\"/media/abhishek/589E61B39E618A782/C-DAC Document/Advanced Analytics/Assignment/Datasets/S&P 500.xlsx\", skiprows = 2)"
   ]
  },
  {
   "cell_type": "code",
   "execution_count": 23,
   "id": "023b215b-5985-4ec4-bf4b-02ee90dda60f",
   "metadata": {},
   "outputs": [
    {
     "data": {
      "text/html": [
       "<div>\n",
       "<style scoped>\n",
       "    .dataframe tbody tr th:only-of-type {\n",
       "        vertical-align: middle;\n",
       "    }\n",
       "\n",
       "    .dataframe tbody tr th {\n",
       "        vertical-align: top;\n",
       "    }\n",
       "\n",
       "    .dataframe thead th {\n",
       "        text-align: right;\n",
       "    }\n",
       "</style>\n",
       "<table border=\"1\" class=\"dataframe\">\n",
       "  <thead>\n",
       "    <tr style=\"text-align: right;\">\n",
       "      <th></th>\n",
       "      <th>Date</th>\n",
       "      <th>Open</th>\n",
       "      <th>High</th>\n",
       "      <th>Low</th>\n",
       "      <th>Close</th>\n",
       "    </tr>\n",
       "  </thead>\n",
       "  <tbody>\n",
       "    <tr>\n",
       "      <th>0</th>\n",
       "      <td>2007-10-03</td>\n",
       "      <td>1539.7400</td>\n",
       "      <td>1545.8401</td>\n",
       "      <td>1536.3398</td>\n",
       "      <td>1539.5898</td>\n",
       "    </tr>\n",
       "    <tr>\n",
       "      <th>1</th>\n",
       "      <td>2007-10-04</td>\n",
       "      <td>1542.6299</td>\n",
       "      <td>1544.0200</td>\n",
       "      <td>1537.6299</td>\n",
       "      <td>1542.8398</td>\n",
       "    </tr>\n",
       "    <tr>\n",
       "      <th>2</th>\n",
       "      <td>2007-10-05</td>\n",
       "      <td>1550.5100</td>\n",
       "      <td>1561.9099</td>\n",
       "      <td>1543.8398</td>\n",
       "      <td>1557.5898</td>\n",
       "    </tr>\n",
       "    <tr>\n",
       "      <th>3</th>\n",
       "      <td>2007-10-08</td>\n",
       "      <td>1553.6899</td>\n",
       "      <td>1556.5100</td>\n",
       "      <td>1549.0000</td>\n",
       "      <td>1552.5798</td>\n",
       "    </tr>\n",
       "    <tr>\n",
       "      <th>4</th>\n",
       "      <td>2007-10-09</td>\n",
       "      <td>1556.2900</td>\n",
       "      <td>1565.2700</td>\n",
       "      <td>1551.8098</td>\n",
       "      <td>1565.1499</td>\n",
       "    </tr>\n",
       "    <tr>\n",
       "      <th>...</th>\n",
       "      <td>...</td>\n",
       "      <td>...</td>\n",
       "      <td>...</td>\n",
       "      <td>...</td>\n",
       "      <td>...</td>\n",
       "    </tr>\n",
       "    <tr>\n",
       "      <th>1484</th>\n",
       "      <td>2013-08-26</td>\n",
       "      <td>1664.2900</td>\n",
       "      <td>1669.5100</td>\n",
       "      <td>1656.0200</td>\n",
       "      <td>1656.7800</td>\n",
       "    </tr>\n",
       "    <tr>\n",
       "      <th>1485</th>\n",
       "      <td>2013-08-27</td>\n",
       "      <td>1652.5400</td>\n",
       "      <td>1652.5400</td>\n",
       "      <td>1629.0500</td>\n",
       "      <td>1630.4800</td>\n",
       "    </tr>\n",
       "    <tr>\n",
       "      <th>1486</th>\n",
       "      <td>2013-08-28</td>\n",
       "      <td>1630.2500</td>\n",
       "      <td>1641.1800</td>\n",
       "      <td>1627.4700</td>\n",
       "      <td>1634.9600</td>\n",
       "    </tr>\n",
       "    <tr>\n",
       "      <th>1487</th>\n",
       "      <td>2013-08-29</td>\n",
       "      <td>1633.5000</td>\n",
       "      <td>1646.4100</td>\n",
       "      <td>1630.8800</td>\n",
       "      <td>1638.1700</td>\n",
       "    </tr>\n",
       "    <tr>\n",
       "      <th>1488</th>\n",
       "      <td>2013-08-30</td>\n",
       "      <td>1638.8900</td>\n",
       "      <td>1640.0800</td>\n",
       "      <td>1628.0500</td>\n",
       "      <td>1632.9700</td>\n",
       "    </tr>\n",
       "  </tbody>\n",
       "</table>\n",
       "<p>1489 rows × 5 columns</p>\n",
       "</div>"
      ],
      "text/plain": [
       "           Date       Open       High        Low      Close\n",
       "0    2007-10-03  1539.7400  1545.8401  1536.3398  1539.5898\n",
       "1    2007-10-04  1542.6299  1544.0200  1537.6299  1542.8398\n",
       "2    2007-10-05  1550.5100  1561.9099  1543.8398  1557.5898\n",
       "3    2007-10-08  1553.6899  1556.5100  1549.0000  1552.5798\n",
       "4    2007-10-09  1556.2900  1565.2700  1551.8098  1565.1499\n",
       "...         ...        ...        ...        ...        ...\n",
       "1484 2013-08-26  1664.2900  1669.5100  1656.0200  1656.7800\n",
       "1485 2013-08-27  1652.5400  1652.5400  1629.0500  1630.4800\n",
       "1486 2013-08-28  1630.2500  1641.1800  1627.4700  1634.9600\n",
       "1487 2013-08-29  1633.5000  1646.4100  1630.8800  1638.1700\n",
       "1488 2013-08-30  1638.8900  1640.0800  1628.0500  1632.9700\n",
       "\n",
       "[1489 rows x 5 columns]"
      ]
     },
     "execution_count": 23,
     "metadata": {},
     "output_type": "execute_result"
    }
   ],
   "source": [
    "df3"
   ]
  },
  {
   "cell_type": "markdown",
   "id": "06b3f41a-d629-4c52-bcd7-e3fff43b9bb0",
   "metadata": {},
   "source": [
    "## 1. Create line chart for the closing prices in the Excel file S&P 500."
   ]
  },
  {
   "cell_type": "code",
   "execution_count": 24,
   "id": "055c8a23-fd12-4b22-a1d9-09cb6cc75c16",
   "metadata": {},
   "outputs": [
    {
     "data": {
      "image/png": "[encoded data removed]",
      "text/plain": [
       "<Figure size 432x288 with 1 Axes>"
      ]
     },
     "metadata": {
      "needs_background": "light"
     },
     "output_type": "display_data"
    }
   ],
   "source": [
    "x = df3[df3.columns[0]].tolist()\n",
    "y = df3[df3.columns[4]].tolist()\n",
    "plt.xlabel('Date')\n",
    "plt.ylabel('Close')\n",
    "plt.title('Line Chart')\n",
    "plt.plot(x,y)\n",
    "plt.show()"
   ]
  },
  {
   "cell_type": "markdown",
   "id": "b106384a-0ddb-48e2-865f-04b1d22e3d66",
   "metadata": {},
   "source": [
    "# Question 5 :"
   ]
  },
  {
   "cell_type": "code",
   "execution_count": 25,
   "id": "18b2bbb7-d665-4c09-95ce-daf6ad8dc98b",
   "metadata": {},
   "outputs": [
    {
     "name": "stderr",
     "output_type": "stream",
     "text": [
      "/home/abhishek/anaconda3/lib/python3.8/site-packages/openpyxl/worksheet/_reader.py:312: UserWarning: Unknown extension is not supported and will be removed\n",
      "  warn(msg)\n"
     ]
    }
   ],
   "source": [
    "df4 = pd.read_excel(\"/media/abhishek/589E61B39E618A782/C-DAC Document/Advanced Analytics/Assignment/Datasets/Science and Engineering Jobs.xlsx\",skiprows = 2, usecols = \"A,B,C\", nrows = 8)"
   ]
  },
  {
   "cell_type": "code",
   "execution_count": 26,
   "id": "c5df4075-73ac-4cb8-992c-09c9d0a1f846",
   "metadata": {},
   "outputs": [
    {
     "data": {
      "text/html": [
       "<div>\n",
       "<style scoped>\n",
       "    .dataframe tbody tr th:only-of-type {\n",
       "        vertical-align: middle;\n",
       "    }\n",
       "\n",
       "    .dataframe tbody tr th {\n",
       "        vertical-align: top;\n",
       "    }\n",
       "\n",
       "    .dataframe thead th {\n",
       "        text-align: right;\n",
       "    }\n",
       "</style>\n",
       "<table border=\"1\" class=\"dataframe\">\n",
       "  <thead>\n",
       "    <tr style=\"text-align: right;\">\n",
       "      <th></th>\n",
       "      <th>Occupation</th>\n",
       "      <th>2000</th>\n",
       "      <th>2010</th>\n",
       "    </tr>\n",
       "  </thead>\n",
       "  <tbody>\n",
       "    <tr>\n",
       "      <th>0</th>\n",
       "      <td>Scientists</td>\n",
       "      <td>3241</td>\n",
       "      <td>5301</td>\n",
       "    </tr>\n",
       "    <tr>\n",
       "      <th>1</th>\n",
       "      <td>Life scientists</td>\n",
       "      <td>184</td>\n",
       "      <td>218</td>\n",
       "    </tr>\n",
       "    <tr>\n",
       "      <th>2</th>\n",
       "      <td>Mathematical/computer scientists</td>\n",
       "      <td>2408</td>\n",
       "      <td>4308</td>\n",
       "    </tr>\n",
       "    <tr>\n",
       "      <th>3</th>\n",
       "      <td>Computer specialists</td>\n",
       "      <td>2318</td>\n",
       "      <td>4213</td>\n",
       "    </tr>\n",
       "    <tr>\n",
       "      <th>4</th>\n",
       "      <td>Mathematical scientists</td>\n",
       "      <td>89</td>\n",
       "      <td>95</td>\n",
       "    </tr>\n",
       "    <tr>\n",
       "      <th>5</th>\n",
       "      <td>Physical scientists</td>\n",
       "      <td>239</td>\n",
       "      <td>283</td>\n",
       "    </tr>\n",
       "    <tr>\n",
       "      <th>6</th>\n",
       "      <td>Social scientists</td>\n",
       "      <td>410</td>\n",
       "      <td>492</td>\n",
       "    </tr>\n",
       "    <tr>\n",
       "      <th>7</th>\n",
       "      <td>Engineers</td>\n",
       "      <td>1465</td>\n",
       "      <td>1603</td>\n",
       "    </tr>\n",
       "  </tbody>\n",
       "</table>\n",
       "</div>"
      ],
      "text/plain": [
       "                         Occupation  2000  2010\n",
       "0                        Scientists  3241  5301\n",
       "1                   Life scientists   184   218\n",
       "2  Mathematical/computer scientists  2408  4308\n",
       "3              Computer specialists  2318  4213\n",
       "4           Mathematical scientists    89    95\n",
       "5               Physical scientists   239   283\n",
       "6                 Social scientists   410   492\n",
       "7                         Engineers  1465  1603"
      ]
     },
     "execution_count": 26,
     "metadata": {},
     "output_type": "execute_result"
    }
   ],
   "source": [
    "df4"
   ]
  },
  {
   "cell_type": "markdown",
   "id": "ef213df0-4293-4fd5-a222-b68f72a9da16",
   "metadata": {},
   "source": [
    "## Create a pie chart showing the breakdown of occupations in the Science and Engineering Jobs Excel file."
   ]
  },
  {
   "cell_type": "code",
   "execution_count": 27,
   "id": "368a354f-32e6-4d2e-aa1c-ad48f770da79",
   "metadata": {},
   "outputs": [
    {
     "data": {
      "image/png": "[encoded data removed]",
      "text/plain": [
       "<Figure size 432x288 with 1 Axes>"
      ]
     },
     "metadata": {},
     "output_type": "display_data"
    }
   ],
   "source": [
    "fig = plt.figure()\n",
    "ax = fig.add_axes([0,0,1,1])\n",
    "ax.axis('equal')\n",
    "Occupation = df4[df4.columns[0]].tolist()\n",
    "counts = df4[df4.columns[1]].tolist()\n",
    "ax.pie(counts, labels = Occupation)\n",
    "ax.set_title('Occupations')\n",
    "plt.show()"
   ]
  },
  {
   "cell_type": "markdown",
   "id": "f79a657f-ebd8-4e58-a08b-1acb3e253992",
   "metadata": {},
   "source": [
    "# Question 6 :"
   ]
  },
  {
   "cell_type": "code",
   "execution_count": 28,
   "id": "5c9859f9-0bf6-410e-83d0-0faa707eacdb",
   "metadata": {},
   "outputs": [],
   "source": [
    "df5 = pd.read_excel(\"/media/abhishek/589E61B39E618A782/C-DAC Document/Advanced Analytics/Assignment/Datasets/Facebook Survey.xlsx\", skiprows =  2)"
   ]
  },
  {
   "cell_type": "code",
   "execution_count": 29,
   "id": "2ae7e012-687c-46e4-b328-7552b99c67fa",
   "metadata": {},
   "outputs": [
    {
     "data": {
      "text/html": [
       "<div>\n",
       "<style scoped>\n",
       "    .dataframe tbody tr th:only-of-type {\n",
       "        vertical-align: middle;\n",
       "    }\n",
       "\n",
       "    .dataframe tbody tr th {\n",
       "        vertical-align: top;\n",
       "    }\n",
       "\n",
       "    .dataframe thead th {\n",
       "        text-align: right;\n",
       "    }\n",
       "</style>\n",
       "<table border=\"1\" class=\"dataframe\">\n",
       "  <thead>\n",
       "    <tr style=\"text-align: right;\">\n",
       "      <th></th>\n",
       "      <th>Student</th>\n",
       "      <th>Gender</th>\n",
       "      <th>Hours online/week</th>\n",
       "      <th>Friends</th>\n",
       "      <th>Unnamed: 4</th>\n",
       "      <th>Unnamed: 5</th>\n",
       "      <th>Unnamed: 6</th>\n",
       "    </tr>\n",
       "  </thead>\n",
       "  <tbody>\n",
       "    <tr>\n",
       "      <th>0</th>\n",
       "      <td>1</td>\n",
       "      <td>female</td>\n",
       "      <td>4</td>\n",
       "      <td>150</td>\n",
       "      <td>NaN</td>\n",
       "      <td>NaN</td>\n",
       "      <td>NaN</td>\n",
       "    </tr>\n",
       "    <tr>\n",
       "      <th>1</th>\n",
       "      <td>2</td>\n",
       "      <td>female</td>\n",
       "      <td>10</td>\n",
       "      <td>400</td>\n",
       "      <td>NaN</td>\n",
       "      <td>NaN</td>\n",
       "      <td>NaN</td>\n",
       "    </tr>\n",
       "    <tr>\n",
       "      <th>2</th>\n",
       "      <td>3</td>\n",
       "      <td>male</td>\n",
       "      <td>7</td>\n",
       "      <td>120</td>\n",
       "      <td>NaN</td>\n",
       "      <td>NaN</td>\n",
       "      <td>NaN</td>\n",
       "    </tr>\n",
       "    <tr>\n",
       "      <th>3</th>\n",
       "      <td>4</td>\n",
       "      <td>male</td>\n",
       "      <td>15</td>\n",
       "      <td>500</td>\n",
       "      <td>NaN</td>\n",
       "      <td>NaN</td>\n",
       "      <td>NaN</td>\n",
       "    </tr>\n",
       "    <tr>\n",
       "      <th>4</th>\n",
       "      <td>5</td>\n",
       "      <td>female</td>\n",
       "      <td>9</td>\n",
       "      <td>260</td>\n",
       "      <td>NaN</td>\n",
       "      <td>NaN</td>\n",
       "      <td>NaN</td>\n",
       "    </tr>\n",
       "    <tr>\n",
       "      <th>5</th>\n",
       "      <td>6</td>\n",
       "      <td>female</td>\n",
       "      <td>5</td>\n",
       "      <td>70</td>\n",
       "      <td>NaN</td>\n",
       "      <td>NaN</td>\n",
       "      <td>NaN</td>\n",
       "    </tr>\n",
       "    <tr>\n",
       "      <th>6</th>\n",
       "      <td>7</td>\n",
       "      <td>female</td>\n",
       "      <td>7</td>\n",
       "      <td>90</td>\n",
       "      <td>NaN</td>\n",
       "      <td>NaN</td>\n",
       "      <td>NaN</td>\n",
       "    </tr>\n",
       "    <tr>\n",
       "      <th>7</th>\n",
       "      <td>8</td>\n",
       "      <td>male</td>\n",
       "      <td>5</td>\n",
       "      <td>250</td>\n",
       "      <td>NaN</td>\n",
       "      <td>NaN</td>\n",
       "      <td>NaN</td>\n",
       "    </tr>\n",
       "    <tr>\n",
       "      <th>8</th>\n",
       "      <td>9</td>\n",
       "      <td>female</td>\n",
       "      <td>12</td>\n",
       "      <td>110</td>\n",
       "      <td>NaN</td>\n",
       "      <td>NaN</td>\n",
       "      <td>NaN</td>\n",
       "    </tr>\n",
       "    <tr>\n",
       "      <th>9</th>\n",
       "      <td>10</td>\n",
       "      <td>female</td>\n",
       "      <td>2</td>\n",
       "      <td>30</td>\n",
       "      <td>NaN</td>\n",
       "      <td>NaN</td>\n",
       "      <td>NaN</td>\n",
       "    </tr>\n",
       "    <tr>\n",
       "      <th>10</th>\n",
       "      <td>11</td>\n",
       "      <td>female</td>\n",
       "      <td>6</td>\n",
       "      <td>80</td>\n",
       "      <td>NaN</td>\n",
       "      <td>NaN</td>\n",
       "      <td>NaN</td>\n",
       "    </tr>\n",
       "    <tr>\n",
       "      <th>11</th>\n",
       "      <td>12</td>\n",
       "      <td>female</td>\n",
       "      <td>2</td>\n",
       "      <td>30</td>\n",
       "      <td>NaN</td>\n",
       "      <td>NaN</td>\n",
       "      <td>NaN</td>\n",
       "    </tr>\n",
       "    <tr>\n",
       "      <th>12</th>\n",
       "      <td>13</td>\n",
       "      <td>male</td>\n",
       "      <td>3</td>\n",
       "      <td>200</td>\n",
       "      <td>NaN</td>\n",
       "      <td>NaN</td>\n",
       "      <td>NaN</td>\n",
       "    </tr>\n",
       "    <tr>\n",
       "      <th>13</th>\n",
       "      <td>14</td>\n",
       "      <td>female</td>\n",
       "      <td>6</td>\n",
       "      <td>240</td>\n",
       "      <td>NaN</td>\n",
       "      <td>NaN</td>\n",
       "      <td>NaN</td>\n",
       "    </tr>\n",
       "    <tr>\n",
       "      <th>14</th>\n",
       "      <td>15</td>\n",
       "      <td>male</td>\n",
       "      <td>6</td>\n",
       "      <td>150</td>\n",
       "      <td>NaN</td>\n",
       "      <td>NaN</td>\n",
       "      <td>NaN</td>\n",
       "    </tr>\n",
       "    <tr>\n",
       "      <th>15</th>\n",
       "      <td>16</td>\n",
       "      <td>male</td>\n",
       "      <td>4</td>\n",
       "      <td>90</td>\n",
       "      <td>NaN</td>\n",
       "      <td>NaN</td>\n",
       "      <td>NaN</td>\n",
       "    </tr>\n",
       "    <tr>\n",
       "      <th>16</th>\n",
       "      <td>17</td>\n",
       "      <td>female</td>\n",
       "      <td>8</td>\n",
       "      <td>340</td>\n",
       "      <td>NaN</td>\n",
       "      <td>NaN</td>\n",
       "      <td>NaN</td>\n",
       "    </tr>\n",
       "    <tr>\n",
       "      <th>17</th>\n",
       "      <td>18</td>\n",
       "      <td>male</td>\n",
       "      <td>10</td>\n",
       "      <td>450</td>\n",
       "      <td>NaN</td>\n",
       "      <td>NaN</td>\n",
       "      <td>NaN</td>\n",
       "    </tr>\n",
       "    <tr>\n",
       "      <th>18</th>\n",
       "      <td>19</td>\n",
       "      <td>female</td>\n",
       "      <td>4</td>\n",
       "      <td>50</td>\n",
       "      <td>NaN</td>\n",
       "      <td>NaN</td>\n",
       "      <td>NaN</td>\n",
       "    </tr>\n",
       "    <tr>\n",
       "      <th>19</th>\n",
       "      <td>20</td>\n",
       "      <td>male</td>\n",
       "      <td>4</td>\n",
       "      <td>120</td>\n",
       "      <td>NaN</td>\n",
       "      <td>NaN</td>\n",
       "      <td>NaN</td>\n",
       "    </tr>\n",
       "    <tr>\n",
       "      <th>20</th>\n",
       "      <td>21</td>\n",
       "      <td>male</td>\n",
       "      <td>6</td>\n",
       "      <td>180</td>\n",
       "      <td>NaN</td>\n",
       "      <td>NaN</td>\n",
       "      <td>NaN</td>\n",
       "    </tr>\n",
       "    <tr>\n",
       "      <th>21</th>\n",
       "      <td>22</td>\n",
       "      <td>female</td>\n",
       "      <td>4</td>\n",
       "      <td>280</td>\n",
       "      <td>NaN</td>\n",
       "      <td>NaN</td>\n",
       "      <td>NaN</td>\n",
       "    </tr>\n",
       "    <tr>\n",
       "      <th>22</th>\n",
       "      <td>23</td>\n",
       "      <td>female</td>\n",
       "      <td>5</td>\n",
       "      <td>60</td>\n",
       "      <td>NaN</td>\n",
       "      <td>NaN</td>\n",
       "      <td>NaN</td>\n",
       "    </tr>\n",
       "    <tr>\n",
       "      <th>23</th>\n",
       "      <td>24</td>\n",
       "      <td>female</td>\n",
       "      <td>9</td>\n",
       "      <td>100</td>\n",
       "      <td>NaN</td>\n",
       "      <td>NaN</td>\n",
       "      <td>NaN</td>\n",
       "    </tr>\n",
       "    <tr>\n",
       "      <th>24</th>\n",
       "      <td>25</td>\n",
       "      <td>female</td>\n",
       "      <td>12</td>\n",
       "      <td>380</td>\n",
       "      <td>NaN</td>\n",
       "      <td>NaN</td>\n",
       "      <td>NaN</td>\n",
       "    </tr>\n",
       "    <tr>\n",
       "      <th>25</th>\n",
       "      <td>26</td>\n",
       "      <td>male</td>\n",
       "      <td>8</td>\n",
       "      <td>430</td>\n",
       "      <td>NaN</td>\n",
       "      <td>NaN</td>\n",
       "      <td>NaN</td>\n",
       "    </tr>\n",
       "    <tr>\n",
       "      <th>26</th>\n",
       "      <td>27</td>\n",
       "      <td>female</td>\n",
       "      <td>2</td>\n",
       "      <td>80</td>\n",
       "      <td>NaN</td>\n",
       "      <td>NaN</td>\n",
       "      <td>NaN</td>\n",
       "    </tr>\n",
       "    <tr>\n",
       "      <th>27</th>\n",
       "      <td>28</td>\n",
       "      <td>female</td>\n",
       "      <td>7</td>\n",
       "      <td>170</td>\n",
       "      <td>NaN</td>\n",
       "      <td>NaN</td>\n",
       "      <td>NaN</td>\n",
       "    </tr>\n",
       "    <tr>\n",
       "      <th>28</th>\n",
       "      <td>29</td>\n",
       "      <td>male</td>\n",
       "      <td>6</td>\n",
       "      <td>90</td>\n",
       "      <td>NaN</td>\n",
       "      <td>NaN</td>\n",
       "      <td>NaN</td>\n",
       "    </tr>\n",
       "    <tr>\n",
       "      <th>29</th>\n",
       "      <td>30</td>\n",
       "      <td>male</td>\n",
       "      <td>4</td>\n",
       "      <td>50</td>\n",
       "      <td>NaN</td>\n",
       "      <td>NaN</td>\n",
       "      <td>NaN</td>\n",
       "    </tr>\n",
       "    <tr>\n",
       "      <th>30</th>\n",
       "      <td>31</td>\n",
       "      <td>female</td>\n",
       "      <td>2</td>\n",
       "      <td>50</td>\n",
       "      <td>NaN</td>\n",
       "      <td>NaN</td>\n",
       "      <td>NaN</td>\n",
       "    </tr>\n",
       "    <tr>\n",
       "      <th>31</th>\n",
       "      <td>32</td>\n",
       "      <td>male</td>\n",
       "      <td>5</td>\n",
       "      <td>70</td>\n",
       "      <td>NaN</td>\n",
       "      <td>NaN</td>\n",
       "      <td>NaN</td>\n",
       "    </tr>\n",
       "    <tr>\n",
       "      <th>32</th>\n",
       "      <td>33</td>\n",
       "      <td>female</td>\n",
       "      <td>7</td>\n",
       "      <td>170</td>\n",
       "      <td>NaN</td>\n",
       "      <td>NaN</td>\n",
       "      <td>NaN</td>\n",
       "    </tr>\n",
       "  </tbody>\n",
       "</table>\n",
       "</div>"
      ],
      "text/plain": [
       "    Student  Gender  Hours online/week  Friends  Unnamed: 4  Unnamed: 5  \\\n",
       "0         1  female                  4      150         NaN         NaN   \n",
       "1         2  female                 10      400         NaN         NaN   \n",
       "2         3    male                  7      120         NaN         NaN   \n",
       "3         4    male                 15      500         NaN         NaN   \n",
       "4         5  female                  9      260         NaN         NaN   \n",
       "5         6  female                  5       70         NaN         NaN   \n",
       "6         7  female                  7       90         NaN         NaN   \n",
       "7         8    male                  5      250         NaN         NaN   \n",
       "8         9  female                 12      110         NaN         NaN   \n",
       "9        10  female                  2       30         NaN         NaN   \n",
       "10       11  female                  6       80         NaN         NaN   \n",
       "11       12  female                  2       30         NaN         NaN   \n",
       "12       13    male                  3      200         NaN         NaN   \n",
       "13       14  female                  6      240         NaN         NaN   \n",
       "14       15    male                  6      150         NaN         NaN   \n",
       "15       16    male                  4       90         NaN         NaN   \n",
       "16       17  female                  8      340         NaN         NaN   \n",
       "17       18    male                 10      450         NaN         NaN   \n",
       "18       19  female                  4       50         NaN         NaN   \n",
       "19       20    male                  4      120         NaN         NaN   \n",
       "20       21    male                  6      180         NaN         NaN   \n",
       "21       22  female                  4      280         NaN         NaN   \n",
       "22       23  female                  5       60         NaN         NaN   \n",
       "23       24  female                  9      100         NaN         NaN   \n",
       "24       25  female                 12      380         NaN         NaN   \n",
       "25       26    male                  8      430         NaN         NaN   \n",
       "26       27  female                  2       80         NaN         NaN   \n",
       "27       28  female                  7      170         NaN         NaN   \n",
       "28       29    male                  6       90         NaN         NaN   \n",
       "29       30    male                  4       50         NaN         NaN   \n",
       "30       31  female                  2       50         NaN         NaN   \n",
       "31       32    male                  5       70         NaN         NaN   \n",
       "32       33  female                  7      170         NaN         NaN   \n",
       "\n",
       "    Unnamed: 6  \n",
       "0          NaN  \n",
       "1          NaN  \n",
       "2          NaN  \n",
       "3          NaN  \n",
       "4          NaN  \n",
       "5          NaN  \n",
       "6          NaN  \n",
       "7          NaN  \n",
       "8          NaN  \n",
       "9          NaN  \n",
       "10         NaN  \n",
       "11         NaN  \n",
       "12         NaN  \n",
       "13         NaN  \n",
       "14         NaN  \n",
       "15         NaN  \n",
       "16         NaN  \n",
       "17         NaN  \n",
       "18         NaN  \n",
       "19         NaN  \n",
       "20         NaN  \n",
       "21         NaN  \n",
       "22         NaN  \n",
       "23         NaN  \n",
       "24         NaN  \n",
       "25         NaN  \n",
       "26         NaN  \n",
       "27         NaN  \n",
       "28         NaN  \n",
       "29         NaN  \n",
       "30         NaN  \n",
       "31         NaN  \n",
       "32         NaN  "
      ]
     },
     "execution_count": 29,
     "metadata": {},
     "output_type": "execute_result"
    }
   ],
   "source": [
    "df5"
   ]
  },
  {
   "cell_type": "markdown",
   "id": "cd5421f0-dbf9-4b78-ac8d-cbcf3ed6339e",
   "metadata": {},
   "source": [
    "## Create a scatter diagram showing the relationship between Hours online/week and Friends."
   ]
  },
  {
   "cell_type": "code",
   "execution_count": 30,
   "id": "3e59f31c-a16b-41ab-a08e-a65fa021ef16",
   "metadata": {},
   "outputs": [
    {
     "name": "stdout",
     "output_type": "stream",
     "text": [
      "Covarience :  [[9.81439394e+00 2.90757576e+02]\n",
      " [2.90757576e+02 1.79967803e+04]]\n",
      "Correlation :  (0.6918339795143523, 8.224280934770067e-06)\n"
     ]
    },
    {
     "data": {
      "image/png": "[encoded data removed]",
      "text/plain": [
       "<Figure size 432x288 with 1 Axes>"
      ]
     },
     "metadata": {
      "needs_background": "light"
     },
     "output_type": "display_data"
    }
   ],
   "source": [
    "Hours_Online_Week = df5[\"Hours online/week\"].tolist()\n",
    "Friends = df5[\"Friends\"].tolist()\n",
    "\n",
    "fig = plt.figure()\n",
    "ax = fig.add_axes([0,0,1,1])\n",
    "ax.scatter(Hours_Online_Week, Friends, color = 'r')\n",
    "ax.set_xlabel('Hours online/week')\n",
    "ax.set_ylabel('Friends')\n",
    "ax.set_title(' : Relationship Between Hours_online/week and Friends : ')\n",
    "\n",
    "print(\"Covarience : \", np.cov(Hours_Online_Week, Friends))\n",
    "print(\"Correlation : \", stats.pearsonr(Hours_Online_Week, Friends))\n",
    "\n"
   ]
  },
  {
   "cell_type": "markdown",
   "id": "ef426a9e-9399-4f1c-bf2a-8801d06bf236",
   "metadata": {},
   "source": [
    "# Question 7 :"
   ]
  },
  {
   "cell_type": "code",
   "execution_count": 54,
   "id": "2ac5edfb-1bd5-40f8-9f78-70ead77dacf4",
   "metadata": {},
   "outputs": [],
   "source": [
    "cf = pd.read_excel(\"/media/abhishek/589E61B39E618A782/C-DAC Document/Advanced Analytics/Assignment/Datasets/Atlanta Airline Data.xlsx\", skiprows  = 2)"
   ]
  },
  {
   "cell_type": "code",
   "execution_count": 55,
   "id": "3606d49e-3a6f-4b75-a701-b38d5578f2f4",
   "metadata": {},
   "outputs": [
    {
     "data": {
      "text/html": [
       "<div>\n",
       "<style scoped>\n",
       "    .dataframe tbody tr th:only-of-type {\n",
       "        vertical-align: middle;\n",
       "    }\n",
       "\n",
       "    .dataframe tbody tr th {\n",
       "        vertical-align: top;\n",
       "    }\n",
       "\n",
       "    .dataframe thead th {\n",
       "        text-align: right;\n",
       "    }\n",
       "</style>\n",
       "<table border=\"1\" class=\"dataframe\">\n",
       "  <thead>\n",
       "    <tr style=\"text-align: right;\">\n",
       "      <th></th>\n",
       "      <th>Flight Number</th>\n",
       "      <th>Origin Airport</th>\n",
       "      <th>Scheduled Arrival Time</th>\n",
       "      <th>Actual Arrival Time</th>\n",
       "      <th>Time Difference (Minutes)</th>\n",
       "      <th>Taxi-in Time (Minutes)</th>\n",
       "    </tr>\n",
       "  </thead>\n",
       "  <tbody>\n",
       "    <tr>\n",
       "      <th>0</th>\n",
       "      <td>8</td>\n",
       "      <td>IAH</td>\n",
       "      <td>19:04</td>\n",
       "      <td>19:19</td>\n",
       "      <td>15</td>\n",
       "      <td>14</td>\n",
       "    </tr>\n",
       "    <tr>\n",
       "      <th>1</th>\n",
       "      <td>16</td>\n",
       "      <td>LAX</td>\n",
       "      <td>15:10</td>\n",
       "      <td>15:04</td>\n",
       "      <td>-6</td>\n",
       "      <td>6</td>\n",
       "    </tr>\n",
       "    <tr>\n",
       "      <th>2</th>\n",
       "      <td>22</td>\n",
       "      <td>MSY</td>\n",
       "      <td>16:33</td>\n",
       "      <td>16:24</td>\n",
       "      <td>-9</td>\n",
       "      <td>11</td>\n",
       "    </tr>\n",
       "    <tr>\n",
       "      <th>3</th>\n",
       "      <td>24</td>\n",
       "      <td>LAS</td>\n",
       "      <td>14:33</td>\n",
       "      <td>14:27</td>\n",
       "      <td>-6</td>\n",
       "      <td>9</td>\n",
       "    </tr>\n",
       "    <tr>\n",
       "      <th>4</th>\n",
       "      <td>28</td>\n",
       "      <td>MCO</td>\n",
       "      <td>14:10</td>\n",
       "      <td>14:15</td>\n",
       "      <td>5</td>\n",
       "      <td>13</td>\n",
       "    </tr>\n",
       "    <tr>\n",
       "      <th>5</th>\n",
       "      <td>38</td>\n",
       "      <td>MCO</td>\n",
       "      <td>16:10</td>\n",
       "      <td>15:48</td>\n",
       "      <td>-22</td>\n",
       "      <td>6</td>\n",
       "    </tr>\n",
       "    <tr>\n",
       "      <th>6</th>\n",
       "      <td>57</td>\n",
       "      <td>JFK</td>\n",
       "      <td>19:41</td>\n",
       "      <td>19:54</td>\n",
       "      <td>13</td>\n",
       "      <td>12</td>\n",
       "    </tr>\n",
       "    <tr>\n",
       "      <th>7</th>\n",
       "      <td>61</td>\n",
       "      <td>LAX</td>\n",
       "      <td>19:02</td>\n",
       "      <td>19:22</td>\n",
       "      <td>20</td>\n",
       "      <td>11</td>\n",
       "    </tr>\n",
       "    <tr>\n",
       "      <th>8</th>\n",
       "      <td>64</td>\n",
       "      <td>LAS</td>\n",
       "      <td>18:00</td>\n",
       "      <td>17:58</td>\n",
       "      <td>-2</td>\n",
       "      <td>10</td>\n",
       "    </tr>\n",
       "    <tr>\n",
       "      <th>9</th>\n",
       "      <td>66</td>\n",
       "      <td>DFW</td>\n",
       "      <td>15:18</td>\n",
       "      <td>15:14</td>\n",
       "      <td>-4</td>\n",
       "      <td>9</td>\n",
       "    </tr>\n",
       "  </tbody>\n",
       "</table>\n",
       "</div>"
      ],
      "text/plain": [
       "  Flight Number Origin Airport  Scheduled Arrival Time               \\\n",
       "0             8             IAH                               19:04   \n",
       "1            16             LAX                               15:10   \n",
       "2            22             MSY                               16:33   \n",
       "3            24             LAS                               14:33   \n",
       "4            28             MCO                               14:10   \n",
       "5            38             MCO                               16:10   \n",
       "6            57             JFK                               19:41   \n",
       "7            61             LAX                               19:02   \n",
       "8            64             LAS                               18:00   \n",
       "9            66             DFW                               15:18   \n",
       "\n",
       "  Actual Arrival Time              Time Difference (Minutes)  \\\n",
       "0                            19:19                        15   \n",
       "1                            15:04                        -6   \n",
       "2                            16:24                        -9   \n",
       "3                            14:27                        -6   \n",
       "4                            14:15                         5   \n",
       "5                            15:48                       -22   \n",
       "6                            19:54                        13   \n",
       "7                            19:22                        20   \n",
       "8                            17:58                        -2   \n",
       "9                            15:14                        -4   \n",
       "\n",
       "  Taxi-in Time (Minutes)  \n",
       "0                     14  \n",
       "1                      6  \n",
       "2                     11  \n",
       "3                      9  \n",
       "4                     13  \n",
       "5                      6  \n",
       "6                     12  \n",
       "7                     11  \n",
       "8                     10  \n",
       "9                      9  "
      ]
     },
     "execution_count": 55,
     "metadata": {},
     "output_type": "execute_result"
    }
   ],
   "source": [
    "cf.head(10)"
   ]
  },
  {
   "cell_type": "markdown",
   "id": "18a343cb-6bea-475a-a3ed-6a0555535554",
   "metadata": {},
   "source": [
    "## Find the 10th and 90th percentiles and the 1st and 3rd quartiles for the time difference between the scheduled and actual arrival times."
   ]
  },
  {
   "cell_type": "markdown",
   "id": "170707bf-5d77-49ae-a91e-eebc01ede0de",
   "metadata": {},
   "source": [
    "### Percentile"
   ]
  },
  {
   "cell_type": "code",
   "execution_count": 57,
   "id": "09b5592a-326c-4d31-8619-36afdacaeed2",
   "metadata": {
    "tags": []
   },
   "outputs": [
    {
     "ename": "KeyError",
     "evalue": "'Time Difference(Minutes)'",
     "output_type": "error",
     "traceback": [
      "\u001b[0;31m---------------------------------------------------------------------------\u001b[0m",
      "\u001b[0;31mKeyError\u001b[0m                                  Traceback (most recent call last)",
      "\u001b[0;32m~/anaconda3/lib/python3.8/site-packages/pandas/core/indexes/base.py\u001b[0m in \u001b[0;36mget_loc\u001b[0;34m(self, key, method, tolerance)\u001b[0m\n\u001b[1;32m   3080\u001b[0m             \u001b[0;32mtry\u001b[0m\u001b[0;34m:\u001b[0m\u001b[0;34m\u001b[0m\u001b[0;34m\u001b[0m\u001b[0m\n\u001b[0;32m-> 3081\u001b[0;31m                 \u001b[0;32mreturn\u001b[0m \u001b[0mself\u001b[0m\u001b[0;34m.\u001b[0m\u001b[0m_engine\u001b[0m\u001b[0;34m.\u001b[0m\u001b[0mget_loc\u001b[0m\u001b[0;34m(\u001b[0m\u001b[0mcasted_key\u001b[0m\u001b[0;34m)\u001b[0m\u001b[0;34m\u001b[0m\u001b[0;34m\u001b[0m\u001b[0m\n\u001b[0m\u001b[1;32m   3082\u001b[0m             \u001b[0;32mexcept\u001b[0m \u001b[0mKeyError\u001b[0m \u001b[0;32mas\u001b[0m \u001b[0merr\u001b[0m\u001b[0;34m:\u001b[0m\u001b[0;34m\u001b[0m\u001b[0;34m\u001b[0m\u001b[0m\n",
      "\u001b[0;32mpandas/_libs/index.pyx\u001b[0m in \u001b[0;36mpandas._libs.index.IndexEngine.get_loc\u001b[0;34m()\u001b[0m\n",
      "\u001b[0;32mpandas/_libs/index.pyx\u001b[0m in \u001b[0;36mpandas._libs.index.IndexEngine.get_loc\u001b[0;34m()\u001b[0m\n",
      "\u001b[0;32mpandas/_libs/hashtable_class_helper.pxi\u001b[0m in \u001b[0;36mpandas._libs.hashtable.PyObjectHashTable.get_item\u001b[0;34m()\u001b[0m\n",
      "\u001b[0;32mpandas/_libs/hashtable_class_helper.pxi\u001b[0m in \u001b[0;36mpandas._libs.hashtable.PyObjectHashTable.get_item\u001b[0;34m()\u001b[0m\n",
      "\u001b[0;31mKeyError\u001b[0m: 'Time Difference(Minutes)'",
      "\nThe above exception was the direct cause of the following exception:\n",
      "\u001b[0;31mKeyError\u001b[0m                                  Traceback (most recent call last)",
      "\u001b[0;32m<ipython-input-57-3768eb1ece55>\u001b[0m in \u001b[0;36m<module>\u001b[0;34m\u001b[0m\n\u001b[0;32m----> 1\u001b[0;31m \u001b[0mprint\u001b[0m\u001b[0;34m(\u001b[0m\u001b[0;34m\"Score at percentile : \"\u001b[0m\u001b[0;34m,\u001b[0m \u001b[0mstats\u001b[0m\u001b[0;34m.\u001b[0m\u001b[0mscoreatpercentile\u001b[0m\u001b[0;34m(\u001b[0m\u001b[0mcf\u001b[0m\u001b[0;34m[\u001b[0m\u001b[0;34m'Time Difference(Minutes)'\u001b[0m\u001b[0;34m]\u001b[0m\u001b[0;34m,\u001b[0m \u001b[0;36m10\u001b[0m\u001b[0;34m)\u001b[0m\u001b[0;34m)\u001b[0m\u001b[0;34m\u001b[0m\u001b[0;34m\u001b[0m\u001b[0m\n\u001b[0m",
      "\u001b[0;32m~/anaconda3/lib/python3.8/site-packages/pandas/core/frame.py\u001b[0m in \u001b[0;36m__getitem__\u001b[0;34m(self, key)\u001b[0m\n\u001b[1;32m   3022\u001b[0m             \u001b[0;32mif\u001b[0m \u001b[0mself\u001b[0m\u001b[0;34m.\u001b[0m\u001b[0mcolumns\u001b[0m\u001b[0;34m.\u001b[0m\u001b[0mnlevels\u001b[0m \u001b[0;34m>\u001b[0m \u001b[0;36m1\u001b[0m\u001b[0;34m:\u001b[0m\u001b[0;34m\u001b[0m\u001b[0;34m\u001b[0m\u001b[0m\n\u001b[1;32m   3023\u001b[0m                 \u001b[0;32mreturn\u001b[0m \u001b[0mself\u001b[0m\u001b[0;34m.\u001b[0m\u001b[0m_getitem_multilevel\u001b[0m\u001b[0;34m(\u001b[0m\u001b[0mkey\u001b[0m\u001b[0;34m)\u001b[0m\u001b[0;34m\u001b[0m\u001b[0;34m\u001b[0m\u001b[0m\n\u001b[0;32m-> 3024\u001b[0;31m             \u001b[0mindexer\u001b[0m \u001b[0;34m=\u001b[0m \u001b[0mself\u001b[0m\u001b[0;34m.\u001b[0m\u001b[0mcolumns\u001b[0m\u001b[0;34m.\u001b[0m\u001b[0mget_loc\u001b[0m\u001b[0;34m(\u001b[0m\u001b[0mkey\u001b[0m\u001b[0;34m)\u001b[0m\u001b[0;34m\u001b[0m\u001b[0;34m\u001b[0m\u001b[0m\n\u001b[0m\u001b[1;32m   3025\u001b[0m             \u001b[0;32mif\u001b[0m \u001b[0mis_integer\u001b[0m\u001b[0;34m(\u001b[0m\u001b[0mindexer\u001b[0m\u001b[0;34m)\u001b[0m\u001b[0;34m:\u001b[0m\u001b[0;34m\u001b[0m\u001b[0;34m\u001b[0m\u001b[0m\n\u001b[1;32m   3026\u001b[0m                 \u001b[0mindexer\u001b[0m \u001b[0;34m=\u001b[0m \u001b[0;34m[\u001b[0m\u001b[0mindexer\u001b[0m\u001b[0;34m]\u001b[0m\u001b[0;34m\u001b[0m\u001b[0;34m\u001b[0m\u001b[0m\n",
      "\u001b[0;32m~/anaconda3/lib/python3.8/site-packages/pandas/core/indexes/base.py\u001b[0m in \u001b[0;36mget_loc\u001b[0;34m(self, key, method, tolerance)\u001b[0m\n\u001b[1;32m   3081\u001b[0m                 \u001b[0;32mreturn\u001b[0m \u001b[0mself\u001b[0m\u001b[0;34m.\u001b[0m\u001b[0m_engine\u001b[0m\u001b[0;34m.\u001b[0m\u001b[0mget_loc\u001b[0m\u001b[0;34m(\u001b[0m\u001b[0mcasted_key\u001b[0m\u001b[0;34m)\u001b[0m\u001b[0;34m\u001b[0m\u001b[0;34m\u001b[0m\u001b[0m\n\u001b[1;32m   3082\u001b[0m             \u001b[0;32mexcept\u001b[0m \u001b[0mKeyError\u001b[0m \u001b[0;32mas\u001b[0m \u001b[0merr\u001b[0m\u001b[0;34m:\u001b[0m\u001b[0;34m\u001b[0m\u001b[0;34m\u001b[0m\u001b[0m\n\u001b[0;32m-> 3083\u001b[0;31m                 \u001b[0;32mraise\u001b[0m \u001b[0mKeyError\u001b[0m\u001b[0;34m(\u001b[0m\u001b[0mkey\u001b[0m\u001b[0;34m)\u001b[0m \u001b[0;32mfrom\u001b[0m \u001b[0merr\u001b[0m\u001b[0;34m\u001b[0m\u001b[0;34m\u001b[0m\u001b[0m\n\u001b[0m\u001b[1;32m   3084\u001b[0m \u001b[0;34m\u001b[0m\u001b[0m\n\u001b[1;32m   3085\u001b[0m         \u001b[0;32mif\u001b[0m \u001b[0mtolerance\u001b[0m \u001b[0;32mis\u001b[0m \u001b[0;32mnot\u001b[0m \u001b[0;32mNone\u001b[0m\u001b[0;34m:\u001b[0m\u001b[0;34m\u001b[0m\u001b[0;34m\u001b[0m\u001b[0m\n",
      "\u001b[0;31mKeyError\u001b[0m: 'Time Difference(Minutes)'"
     ]
    }
   ],
   "source": [
    "print(\"Score at percentile : \", stats.scoreatpercentile(cf['Time Difference(Minutes)'], 10))"
   ]
  },
  {
   "cell_type": "code",
   "execution_count": null,
   "id": "65074dae-e286-43f2-a9cf-4e4f0c369d58",
   "metadata": {
    "tags": []
   },
   "outputs": [],
   "source": [
    "print(\"Score at percentile : \", stats.scoreatpercentile(cf['Time Difference(Minutes)'], 90))"
   ]
  },
  {
   "cell_type": "markdown",
   "id": "d4603070-ad11-4856-878f-f063eb38b93c",
   "metadata": {},
   "source": [
    "### Quartiles"
   ]
  },
  {
   "cell_type": "code",
   "execution_count": null,
   "id": "8e7c4301-8f33-48f8-bd5c-0f5875509b2f",
   "metadata": {},
   "outputs": [],
   "source": [
    "print(\"1st Quartiles for the Scheduled Arrival Time : \",np.percentile(cf[\"Time Difference(Minutes)\"],np.arange(0,100,25)))"
   ]
  },
  {
   "cell_type": "code",
   "execution_count": null,
   "id": "91307430-f4c9-409a-9289-d8f97ecd031c",
   "metadata": {},
   "outputs": [],
   "source": [
    "print(\"3rd Quartiles for the Scheduled Arrival Time : \",np.percentile(cf[\"Time Difference(Minutes)\"],np.arange(0,100,75)))"
   ]
  },
  {
   "cell_type": "markdown",
   "id": "4ef10cfd-e971-4026-839e-613d76e122e2",
   "metadata": {},
   "source": [
    "# Question 8 :"
   ]
  },
  {
   "cell_type": "code",
   "execution_count": 34,
   "id": "328fc0a4-d069-4c1f-9804-adb339a77820",
   "metadata": {},
   "outputs": [
    {
     "name": "stderr",
     "output_type": "stream",
     "text": [
      "/home/abhishek/anaconda3/lib/python3.8/site-packages/openpyxl/worksheet/_reader.py:312: UserWarning: Unknown extension is not supported and will be removed\n",
      "  warn(msg)\n"
     ]
    }
   ],
   "source": [
    "cf1 = pd.read_excel('/media/abhishek/589E61B39E618A782/C-DAC Document/Advanced Analytics/Assignment/Datasets/Cell Phone Survey.xlsx', skiprows =  2)"
   ]
  },
  {
   "cell_type": "code",
   "execution_count": 35,
   "id": "3bec98fd-6f8e-42d7-adc8-1aac32f8c344",
   "metadata": {},
   "outputs": [
    {
     "data": {
      "text/html": [
       "<div>\n",
       "<style scoped>\n",
       "    .dataframe tbody tr th:only-of-type {\n",
       "        vertical-align: middle;\n",
       "    }\n",
       "\n",
       "    .dataframe tbody tr th {\n",
       "        vertical-align: top;\n",
       "    }\n",
       "\n",
       "    .dataframe thead th {\n",
       "        text-align: right;\n",
       "    }\n",
       "</style>\n",
       "<table border=\"1\" class=\"dataframe\">\n",
       "  <thead>\n",
       "    <tr style=\"text-align: right;\">\n",
       "      <th></th>\n",
       "      <th>Gender</th>\n",
       "      <th>Carrier</th>\n",
       "      <th>Type</th>\n",
       "      <th>Usage</th>\n",
       "      <th>Signal strength</th>\n",
       "      <th>Value for the Dollar</th>\n",
       "      <th>Customer Service</th>\n",
       "    </tr>\n",
       "  </thead>\n",
       "  <tbody>\n",
       "    <tr>\n",
       "      <th>0</th>\n",
       "      <td>M</td>\n",
       "      <td>AT&amp;T</td>\n",
       "      <td>Smart</td>\n",
       "      <td>High</td>\n",
       "      <td>5</td>\n",
       "      <td>4</td>\n",
       "      <td>4</td>\n",
       "    </tr>\n",
       "    <tr>\n",
       "      <th>1</th>\n",
       "      <td>M</td>\n",
       "      <td>AT&amp;T</td>\n",
       "      <td>Smart</td>\n",
       "      <td>High</td>\n",
       "      <td>5</td>\n",
       "      <td>4</td>\n",
       "      <td>2</td>\n",
       "    </tr>\n",
       "    <tr>\n",
       "      <th>2</th>\n",
       "      <td>M</td>\n",
       "      <td>AT&amp;T</td>\n",
       "      <td>Smart</td>\n",
       "      <td>Average</td>\n",
       "      <td>4</td>\n",
       "      <td>4</td>\n",
       "      <td>4</td>\n",
       "    </tr>\n",
       "    <tr>\n",
       "      <th>3</th>\n",
       "      <td>M</td>\n",
       "      <td>AT&amp;T</td>\n",
       "      <td>Smart</td>\n",
       "      <td>Very high</td>\n",
       "      <td>2</td>\n",
       "      <td>3</td>\n",
       "      <td>3</td>\n",
       "    </tr>\n",
       "    <tr>\n",
       "      <th>4</th>\n",
       "      <td>M</td>\n",
       "      <td>AT&amp;T</td>\n",
       "      <td>Smart</td>\n",
       "      <td>Very high</td>\n",
       "      <td>5</td>\n",
       "      <td>5</td>\n",
       "      <td>2</td>\n",
       "    </tr>\n",
       "    <tr>\n",
       "      <th>5</th>\n",
       "      <td>M</td>\n",
       "      <td>AT&amp;T</td>\n",
       "      <td>Smart</td>\n",
       "      <td>Very high</td>\n",
       "      <td>4</td>\n",
       "      <td>3</td>\n",
       "      <td>5</td>\n",
       "    </tr>\n",
       "    <tr>\n",
       "      <th>6</th>\n",
       "      <td>M</td>\n",
       "      <td>AT&amp;T</td>\n",
       "      <td>Smart</td>\n",
       "      <td>Very high</td>\n",
       "      <td>3</td>\n",
       "      <td>4</td>\n",
       "      <td>4</td>\n",
       "    </tr>\n",
       "    <tr>\n",
       "      <th>7</th>\n",
       "      <td>F</td>\n",
       "      <td>AT&amp;T</td>\n",
       "      <td>Smart</td>\n",
       "      <td>Very high</td>\n",
       "      <td>3</td>\n",
       "      <td>2</td>\n",
       "      <td>3</td>\n",
       "    </tr>\n",
       "    <tr>\n",
       "      <th>8</th>\n",
       "      <td>F</td>\n",
       "      <td>AT&amp;T</td>\n",
       "      <td>Smart</td>\n",
       "      <td>Very high</td>\n",
       "      <td>4</td>\n",
       "      <td>3</td>\n",
       "      <td>4</td>\n",
       "    </tr>\n",
       "    <tr>\n",
       "      <th>9</th>\n",
       "      <td>M</td>\n",
       "      <td>AT&amp;T</td>\n",
       "      <td>Smart</td>\n",
       "      <td>Very high</td>\n",
       "      <td>3</td>\n",
       "      <td>3</td>\n",
       "      <td>1</td>\n",
       "    </tr>\n",
       "  </tbody>\n",
       "</table>\n",
       "</div>"
      ],
      "text/plain": [
       "  Gender Carrier   Type      Usage  Signal strength  Value for the Dollar  \\\n",
       "0      M    AT&T  Smart       High                5                     4   \n",
       "1      M    AT&T  Smart       High                5                     4   \n",
       "2      M    AT&T  Smart    Average                4                     4   \n",
       "3      M    AT&T  Smart  Very high                2                     3   \n",
       "4      M    AT&T  Smart  Very high                5                     5   \n",
       "5      M    AT&T  Smart  Very high                4                     3   \n",
       "6      M    AT&T  Smart  Very high                3                     4   \n",
       "7      F    AT&T  Smart  Very high                3                     2   \n",
       "8      F    AT&T  Smart  Very high                4                     3   \n",
       "9      M    AT&T  Smart  Very high                3                     3   \n",
       "\n",
       "   Customer Service  \n",
       "0                 4  \n",
       "1                 2  \n",
       "2                 4  \n",
       "3                 3  \n",
       "4                 2  \n",
       "5                 5  \n",
       "6                 4  \n",
       "7                 3  \n",
       "8                 4  \n",
       "9                 1  "
      ]
     },
     "execution_count": 35,
     "metadata": {},
     "output_type": "execute_result"
    }
   ],
   "source": [
    "cf1.head(10)"
   ]
  },
  {
   "cell_type": "code",
   "execution_count": 36,
   "id": "ba857617-c7dd-45c4-a54d-72497888f12b",
   "metadata": {},
   "outputs": [
    {
     "name": "stdout",
     "output_type": "stream",
     "text": [
      "1     2\n",
      "2     8\n",
      "3    20\n",
      "4    16\n",
      "5     6\n",
      "Name: Signal strength, dtype: int64\n",
      "1     1\n",
      "2     6\n",
      "3    23\n",
      "4    14\n",
      "5     8\n",
      "Name: Value for the Dollar, dtype: int64\n",
      "1     3\n",
      "2     6\n",
      "3    23\n",
      "4    16\n",
      "5     4\n",
      "Name: Customer Service, dtype: int64\n"
     ]
    }
   ],
   "source": [
    "freq_dist1=cf1[\"Signal strength\"].value_counts().sort_index()\n",
    "print(freq_dist1)\n",
    "\n",
    "freq_dist2=cf1[\"Value for the Dollar\"].value_counts().sort_index()\n",
    "print(freq_dist2)\n",
    "\n",
    "freq_dist3=cf1[\"Customer Service\"].value_counts().sort_index()\n",
    "print(freq_dist3)"
   ]
  },
  {
   "cell_type": "code",
   "execution_count": 37,
   "id": "f0053802-f1ce-43f3-855b-ca785a097190",
   "metadata": {},
   "outputs": [
    {
     "data": {
      "text/html": [
       "<div>\n",
       "<style scoped>\n",
       "    .dataframe tbody tr th:only-of-type {\n",
       "        vertical-align: middle;\n",
       "    }\n",
       "\n",
       "    .dataframe tbody tr th {\n",
       "        vertical-align: top;\n",
       "    }\n",
       "\n",
       "    .dataframe thead th {\n",
       "        text-align: right;\n",
       "    }\n",
       "</style>\n",
       "<table border=\"1\" class=\"dataframe\">\n",
       "  <thead>\n",
       "    <tr style=\"text-align: right;\">\n",
       "      <th></th>\n",
       "      <th>Gender</th>\n",
       "      <th>Carrier</th>\n",
       "      <th>Type</th>\n",
       "      <th>Usage</th>\n",
       "      <th>Signal strength</th>\n",
       "      <th>Value for the Dollar</th>\n",
       "      <th>Customer Service</th>\n",
       "    </tr>\n",
       "  </thead>\n",
       "  <tbody>\n",
       "    <tr>\n",
       "      <th>0</th>\n",
       "      <td>M</td>\n",
       "      <td>AT&amp;T</td>\n",
       "      <td>Smart</td>\n",
       "      <td>High</td>\n",
       "      <td>5</td>\n",
       "      <td>4</td>\n",
       "      <td>4</td>\n",
       "    </tr>\n",
       "    <tr>\n",
       "      <th>1</th>\n",
       "      <td>M</td>\n",
       "      <td>AT&amp;T</td>\n",
       "      <td>Smart</td>\n",
       "      <td>High</td>\n",
       "      <td>5</td>\n",
       "      <td>4</td>\n",
       "      <td>2</td>\n",
       "    </tr>\n",
       "    <tr>\n",
       "      <th>2</th>\n",
       "      <td>M</td>\n",
       "      <td>AT&amp;T</td>\n",
       "      <td>Smart</td>\n",
       "      <td>Average</td>\n",
       "      <td>4</td>\n",
       "      <td>4</td>\n",
       "      <td>4</td>\n",
       "    </tr>\n",
       "    <tr>\n",
       "      <th>3</th>\n",
       "      <td>M</td>\n",
       "      <td>AT&amp;T</td>\n",
       "      <td>Smart</td>\n",
       "      <td>Very high</td>\n",
       "      <td>2</td>\n",
       "      <td>3</td>\n",
       "      <td>3</td>\n",
       "    </tr>\n",
       "    <tr>\n",
       "      <th>4</th>\n",
       "      <td>M</td>\n",
       "      <td>AT&amp;T</td>\n",
       "      <td>Smart</td>\n",
       "      <td>Very high</td>\n",
       "      <td>5</td>\n",
       "      <td>5</td>\n",
       "      <td>2</td>\n",
       "    </tr>\n",
       "    <tr>\n",
       "      <th>5</th>\n",
       "      <td>M</td>\n",
       "      <td>AT&amp;T</td>\n",
       "      <td>Smart</td>\n",
       "      <td>Very high</td>\n",
       "      <td>4</td>\n",
       "      <td>3</td>\n",
       "      <td>5</td>\n",
       "    </tr>\n",
       "    <tr>\n",
       "      <th>6</th>\n",
       "      <td>M</td>\n",
       "      <td>AT&amp;T</td>\n",
       "      <td>Smart</td>\n",
       "      <td>Very high</td>\n",
       "      <td>3</td>\n",
       "      <td>4</td>\n",
       "      <td>4</td>\n",
       "    </tr>\n",
       "    <tr>\n",
       "      <th>7</th>\n",
       "      <td>F</td>\n",
       "      <td>AT&amp;T</td>\n",
       "      <td>Smart</td>\n",
       "      <td>Very high</td>\n",
       "      <td>3</td>\n",
       "      <td>2</td>\n",
       "      <td>3</td>\n",
       "    </tr>\n",
       "    <tr>\n",
       "      <th>8</th>\n",
       "      <td>F</td>\n",
       "      <td>AT&amp;T</td>\n",
       "      <td>Smart</td>\n",
       "      <td>Very high</td>\n",
       "      <td>4</td>\n",
       "      <td>3</td>\n",
       "      <td>4</td>\n",
       "    </tr>\n",
       "    <tr>\n",
       "      <th>9</th>\n",
       "      <td>M</td>\n",
       "      <td>AT&amp;T</td>\n",
       "      <td>Smart</td>\n",
       "      <td>Very high</td>\n",
       "      <td>3</td>\n",
       "      <td>3</td>\n",
       "      <td>1</td>\n",
       "    </tr>\n",
       "  </tbody>\n",
       "</table>\n",
       "</div>"
      ],
      "text/plain": [
       "  Gender Carrier   Type      Usage  Signal strength  Value for the Dollar  \\\n",
       "0      M    AT&T  Smart       High                5                     4   \n",
       "1      M    AT&T  Smart       High                5                     4   \n",
       "2      M    AT&T  Smart    Average                4                     4   \n",
       "3      M    AT&T  Smart  Very high                2                     3   \n",
       "4      M    AT&T  Smart  Very high                5                     5   \n",
       "5      M    AT&T  Smart  Very high                4                     3   \n",
       "6      M    AT&T  Smart  Very high                3                     4   \n",
       "7      F    AT&T  Smart  Very high                3                     2   \n",
       "8      F    AT&T  Smart  Very high                4                     3   \n",
       "9      M    AT&T  Smart  Very high                3                     3   \n",
       "\n",
       "   Customer Service  \n",
       "0                 4  \n",
       "1                 2  \n",
       "2                 4  \n",
       "3                 3  \n",
       "4                 2  \n",
       "5                 5  \n",
       "6                 4  \n",
       "7                 3  \n",
       "8                 4  \n",
       "9                 1  "
      ]
     },
     "execution_count": 37,
     "metadata": {},
     "output_type": "execute_result"
    }
   ],
   "source": [
    "cf1.head(10)"
   ]
  },
  {
   "cell_type": "markdown",
   "id": "f7058b93-4902-4880-873e-000fc2f45e2e",
   "metadata": {},
   "source": [
    "## Frequency distributions and histograms for the numerical data :"
   ]
  },
  {
   "cell_type": "code",
   "execution_count": 38,
   "id": "96b539fb-b993-49f2-8059-903dbf8980e1",
   "metadata": {},
   "outputs": [
    {
     "data": {
      "image/png": "[encoded data removed]",
      "text/plain": [
       "<Figure size 432x288 with 1 Axes>"
      ]
     },
     "metadata": {
      "needs_background": "light"
     },
     "output_type": "display_data"
    }
   ],
   "source": [
    "fig = plt.figure()\n",
    "ax = fig.add_axes([0,0,1,1])\n",
    "ax.bar(freq_dist1.index.tolist(),freq_dist1.tolist())\n",
    "plt.xticks(rotation=90)\n",
    "plt.ylabel('Frequency')\n",
    "plt.xlabel('Signal strength')\n",
    "plt.title('Frequency Distribution for Signal Strength')\n",
    "plt.show()"
   ]
  },
  {
   "cell_type": "code",
   "execution_count": 39,
   "id": "92a001ef-0f32-4d39-9430-5f422d6bc1e3",
   "metadata": {},
   "outputs": [
    {
     "data": {
      "image/png": "[encoded data removed]",
      "text/plain": [
       "<Figure size 432x288 with 1 Axes>"
      ]
     },
     "metadata": {
      "needs_background": "light"
     },
     "output_type": "display_data"
    }
   ],
   "source": [
    "fig = plt.figure()\n",
    "ax = fig.add_axes([0,0,1,1])\n",
    "ax.bar(freq_dist2.index.tolist(), freq_dist2.tolist())\n",
    "plt.xticks(rotation = 90)\n",
    "plt.ylabel('Frequency')\n",
    "plt.xlabel('Dollar')\n",
    "plt.title('Frequency Distribution for Dollar')\n",
    "plt.show()"
   ]
  },
  {
   "cell_type": "code",
   "execution_count": 40,
   "id": "19351d91-ab8a-4f8a-ad84-e056d88e9c4f",
   "metadata": {},
   "outputs": [
    {
     "data": {
      "image/png": "[encoded data removed]",
      "text/plain": [
       "<Figure size 432x288 with 1 Axes>"
      ]
     },
     "metadata": {
      "needs_background": "light"
     },
     "output_type": "display_data"
    }
   ],
   "source": [
    "fig = plt.figure()\n",
    "ax = fig.add_axes([0,0,1,1])\n",
    "ax.bar(freq_dist3.index.tolist(), freq_dist3.tolist())\n",
    "plt.xticks(rotation = 90)\n",
    "plt.ylabel('Frequency')\n",
    "plt.xlabel('Customer Service')\n",
    "plt.show()"
   ]
  },
  {
   "cell_type": "markdown",
   "id": "1ff0e15f-3d43-48cf-abb1-10b44224cc92",
   "metadata": {},
   "source": [
    "## Compute the relative frequencies :"
   ]
  },
  {
   "cell_type": "code",
   "execution_count": 41,
   "id": "fe2701ed-48b3-4fd9-be18-161847bf300e",
   "metadata": {},
   "outputs": [
    {
     "name": "stdout",
     "output_type": "stream",
     "text": [
      "   index  Signal strength  Relative Frequency 1\n",
      "0      1                2              0.038462\n",
      "1      2                8              0.153846\n",
      "2      3               20              0.384615\n",
      "3      4               16              0.307692\n",
      "4      5                6              0.115385\n"
     ]
    }
   ],
   "source": [
    "freq_dist_df1 = freq_dist1.to_frame().reset_index()\n",
    "count = len(cf1)\n",
    "freq_dist_df1['Relative Frequency 1'] = freq_dist_df1[freq_dist_df1.columns[1]]/count\n",
    "print(freq_dist_df1)"
   ]
  },
  {
   "cell_type": "code",
   "execution_count": 44,
   "id": "822e3d46-abcf-4296-a7a8-e9ef81720738",
   "metadata": {},
   "outputs": [
    {
     "name": "stdout",
     "output_type": "stream",
     "text": [
      "   index  Value for the Dollar  Relative Frequency 2\n",
      "0      1                     1              0.019231\n",
      "1      2                     6              0.115385\n",
      "2      3                    23              0.442308\n",
      "3      4                    14              0.269231\n",
      "4      5                     8              0.153846\n"
     ]
    }
   ],
   "source": [
    "freq_dist_df2 = freq_dist2.to_frame().reset_index()\n",
    "count = len(cf1)\n",
    "freq_dist_df2['Relative Frequency 2'] = freq_dist_df2[freq_dist_df2.columns[1]]/count\n",
    "print(freq_dist_df2)"
   ]
  },
  {
   "cell_type": "code",
   "execution_count": 45,
   "id": "32d1a7e6-1218-412a-94a5-1676edc5134e",
   "metadata": {},
   "outputs": [
    {
     "name": "stdout",
     "output_type": "stream",
     "text": [
      "   index  Customer Service  Relative Frequency 3\n",
      "0      1                 3              0.057692\n",
      "1      2                 6              0.115385\n",
      "2      3                23              0.442308\n",
      "3      4                16              0.307692\n",
      "4      5                 4              0.076923\n"
     ]
    }
   ],
   "source": [
    "freq_dist_df3 = freq_dist3.to_frame().reset_index()\n",
    "count = len(cf1)\n",
    "freq_dist_df3['Relative Frequency 3'] = freq_dist_df3[freq_dist_df3.columns[1]]/count\n",
    "print(freq_dist_df3)"
   ]
  },
  {
   "cell_type": "markdown",
   "id": "17f18859-d726-4f8e-b20a-8300b2124efb",
   "metadata": {},
   "source": [
    "## Compute the cumulative relative frequencies:"
   ]
  },
  {
   "cell_type": "code",
   "execution_count": 47,
   "id": "8ab254cb-33b0-4e96-abcb-75f4037fe50f",
   "metadata": {},
   "outputs": [
    {
     "data": {
      "text/plain": [
       "(array([ 2.,  2., 10., 10., 10., 30., 30., 46., 46., 52.]),\n",
       " array([1. , 1.4, 1.8, 2.2, 2.6, 3. , 3.4, 3.8, 4.2, 4.6, 5. ]),\n",
       " <BarContainer object of 10 artists>)"
      ]
     },
     "execution_count": 47,
     "metadata": {},
     "output_type": "execute_result"
    },
    {
     "data": {
      "image/png": "[encoded data removed]",
      "text/plain": [
       "<Figure size 432x288 with 1 Axes>"
      ]
     },
     "metadata": {
      "needs_background": "light"
     },
     "output_type": "display_data"
    }
   ],
   "source": [
    "freq_dist_df1['Cumulative Frequency 1'] = freq_dist_df1[\"Relative Frequency 1\"].cumsum()\n",
    "plt.hist(cf1['Signal strength'], bins = 10, cumulative = True)"
   ]
  },
  {
   "cell_type": "code",
   "execution_count": 49,
   "id": "7f8eb50c-194f-4a58-9230-550e9f1b5490",
   "metadata": {},
   "outputs": [
    {
     "data": {
      "text/plain": [
       "(array([ 1.,  1.,  7.,  7.,  7., 30., 30., 44., 44., 52.]),\n",
       " array([1. , 1.4, 1.8, 2.2, 2.6, 3. , 3.4, 3.8, 4.2, 4.6, 5. ]),\n",
       " <BarContainer object of 10 artists>)"
      ]
     },
     "execution_count": 49,
     "metadata": {},
     "output_type": "execute_result"
    },
    {
     "data": {
      "image/png": "[encoded data removed]",
      "text/plain": [
       "<Figure size 432x288 with 1 Axes>"
      ]
     },
     "metadata": {
      "needs_background": "light"
     },
     "output_type": "display_data"
    }
   ],
   "source": [
    "freq_dist_df2['Cumulative Frequency 2'] = freq_dist_df2[\"Relative Frequency 2\"].cumsum()\n",
    "plt.hist(cf1['Value for the Dollar'], bins = 10, cumulative = True)"
   ]
  },
  {
   "cell_type": "code",
   "execution_count": 51,
   "id": "99265243-6e3d-4a9d-b8ca-686b20a387cd",
   "metadata": {},
   "outputs": [
    {
     "data": {
      "text/plain": [
       "(array([ 3.,  3.,  9.,  9.,  9., 32., 32., 48., 48., 52.]),\n",
       " array([1. , 1.4, 1.8, 2.2, 2.6, 3. , 3.4, 3.8, 4.2, 4.6, 5. ]),\n",
       " <BarContainer object of 10 artists>)"
      ]
     },
     "execution_count": 51,
     "metadata": {},
     "output_type": "execute_result"
    },
    {
     "data": {
      "image/png": "[encoded data removed]",
      "text/plain": [
       "<Figure size 432x288 with 1 Axes>"
      ]
     },
     "metadata": {
      "needs_background": "light"
     },
     "output_type": "display_data"
    }
   ],
   "source": [
    "freq_dist_df3['Cumulative Frequency 3'] = freq_dist_df3[\"Relative Frequency 3\"].cumsum()\n",
    "plt.hist(cf1['Customer Service'], bins = 10, cumulative = True)"
   ]
  },
  {
   "cell_type": "code",
   "execution_count": null,
   "id": "4e7345c8-725a-4bdc-abc7-876193c46682",
   "metadata": {},
   "outputs": [],
   "source": []
  }
 ],
 "metadata": {
  "kernelspec": {
   "display_name": "Python 3",
   "language": "python",
   "name": "python3"
  },
  "language_info": {
   "codemirror_mode": {
    "name": "ipython",
    "version": 3
   },
   "file_extension": ".py",
   "mimetype": "text/x-python",
   "name": "python",
   "nbconvert_exporter": "python",
   "pygments_lexer": "ipython3",
   "version": "3.8.8"
  }
 },
 "nbformat": 4,
 "nbformat_minor": 5
}
