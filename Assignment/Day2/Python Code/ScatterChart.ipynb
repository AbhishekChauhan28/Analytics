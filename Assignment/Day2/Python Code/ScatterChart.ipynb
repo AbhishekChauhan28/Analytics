{
 "cells": [
  {
   "cell_type": "code",
   "execution_count": 3,
   "id": "80a52182-2de4-42c7-b6d7-9f3bd8b0c3b1",
   "metadata": {},
   "outputs": [],
   "source": [
    "import matplotlib.pyplot as plt\n",
    "import pandas as pd\n",
    "import numpy as np\n",
    "from scipy import stats"
   ]
  },
  {
   "cell_type": "code",
   "execution_count": 4,
   "id": "ac558d77-ed11-40a2-82e1-6af9cce5ab47",
   "metadata": {},
   "outputs": [
    {
     "name": "stdout",
     "output_type": "stream",
     "text": [
      "    House Age  Square Feet  Market Value\n",
      "0          33         1812         90000\n",
      "1          32         1914        104400\n",
      "2          32         1842         93300\n",
      "3          33         1812         91000\n",
      "4          32         1836        101900\n",
      "5          33         2028        108500\n",
      "6          32         1732         87600\n",
      "7          33         1850         96000\n",
      "8          32         1791         89200\n",
      "9          33         1666         88400\n",
      "10         32         1852        100800\n",
      "11         32         1620         96700\n",
      "12         32         1692         87500\n",
      "13         32         2372        114000\n",
      "14         32         2372        113200\n",
      "15         33         1666         87500\n",
      "16         32         2123        116100\n",
      "17         32         1620         94700\n",
      "18         32         1731         86400\n",
      "19         32         1666         87100\n",
      "20         28         1520         83400\n",
      "21         27         1484         79800\n",
      "22         28         1588         81500\n",
      "23         28         1598         87100\n",
      "24         28         1484         82600\n",
      "25         28         1484         78800\n",
      "26         28         1520         87600\n",
      "27         27         1701         94200\n",
      "28         28         1484         82000\n",
      "29         28         1468         88100\n",
      "30         28         1520         88100\n",
      "31         27         1520         88600\n",
      "32         27         1484         76600\n",
      "33         28         1520         84400\n",
      "34         27         1668         90900\n",
      "35         28         1588         81000\n",
      "36         28         1784         91300\n",
      "37         27         1484         81300\n",
      "38         27         1520        100700\n",
      "39         28         1520         87200\n",
      "40         27         1684         96700\n",
      "41         27         1581        120700\n"
     ]
    },
    {
     "name": "stderr",
     "output_type": "stream",
     "text": [
      "/home/abhishek/anaconda3/lib/python3.8/site-packages/openpyxl/worksheet/_reader.py:312: UserWarning: Unknown extension is not supported and will be removed\n",
      "  warn(msg)\n"
     ]
    }
   ],
   "source": [
    "df=pd.read_excel(\"/media/abhishek/589E61B39E618A782/C-DAC Document/Advanced Analytics/Day2/Data_Files New/Home Market Value.xlsx\",skiprows=2)\n",
    "print(df)"
   ]
  },
  {
   "cell_type": "code",
   "execution_count": 5,
   "id": "51479b58-e6e0-4d1b-a6d4-299699b72544",
   "metadata": {},
   "outputs": [
    {
     "data": {
      "image/png": "[encoded data removed]",
      "text/plain": [
       "<Figure size 432x288 with 1 Axes>"
      ]
     },
     "metadata": {
      "needs_background": "light"
     },
     "output_type": "display_data"
    },
    {
     "name": "stdout",
     "output_type": "stream",
     "text": [
      "Covariance  [[4.85130273e+04 1.69972050e+06]\n",
      " [1.69972050e+06 1.11367555e+08]]\n",
      "Correlation  (0.7312552233485188, 3.79801750880146e-08)\n"
     ]
    }
   ],
   "source": [
    "square_feet = df[\"Square Feet\"].tolist()\n",
    "market_value = df[\"Market Value\"].tolist()\n",
    "fig=plt.figure()\n",
    "ax=fig.add_axes([0,0,1,1])\n",
    "ax.scatter(square_feet, market_value, color='r')\n",
    "ax.set_xlabel('Square Feet')\n",
    "ax.set_ylabel('Market Value')\n",
    "ax.set_title('Home Market Value')\n",
    "plt.show()\n",
    "\n",
    "#Measure of association\n",
    "print(\"Covariance \",np.cov(square_feet,market_value))\n",
    "print(\"Correlation \",stats.pearsonr(square_feet,market_value))\n",
    "#sbn.regplot(x=\"Square Feet\",y=\"Market Value\", data=df)"
   ]
  },
  {
   "cell_type": "code",
   "execution_count": null,
   "id": "8801e614-a862-4161-805c-2508a12e3f9b",
   "metadata": {},
   "outputs": [],
   "source": []
  }
 ],
 "metadata": {
  "kernelspec": {
   "display_name": "Python 3",
   "language": "python",
   "name": "python3"
  },
  "language_info": {
   "codemirror_mode": {
    "name": "ipython",
    "version": 3
   },
   "file_extension": ".py",
   "mimetype": "text/x-python",
   "name": "python",
   "nbconvert_exporter": "python",
   "pygments_lexer": "ipython3",
   "version": "3.8.8"
  }
 },
 "nbformat": 4,
 "nbformat_minor": 5
}
