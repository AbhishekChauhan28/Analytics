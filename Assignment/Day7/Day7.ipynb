{
 "cells": [
  {
   "cell_type": "code",
   "execution_count": 1,
   "id": "9129a0a6-bc54-4f15-8503-9a992f9f090e",
   "metadata": {},
   "outputs": [],
   "source": [
    "import pandas as pd\n",
    "import numpy as np\n",
    "import matplotlib.pyplot as plt\n",
    "from scipy import stats\n",
    "from sklearn.metrics import mean_squared_error\n",
    "from sklearn.metrics import mean_absolute_error\n",
    "from sklearn.metrics import mean_absolute_percentage_error\n",
    "from sklearn.linear_model import LinearRegression\n",
    "from sklearn.model_selection import train_test_split\n",
    "from sklearn.metrics import r2_score\n",
    "from sklearn import linear_model\n",
    "import statsmodels.api as sm"
   ]
  },
  {
   "cell_type": "markdown",
   "id": "99d0d3ed-580a-45af-9a90-16430d2c8405",
   "metadata": {},
   "source": [
    "# Question 1 :"
   ]
  },
  {
   "cell_type": "code",
   "execution_count": 2,
   "id": "bfcb419e-d01a-48bd-92e5-74bf5b14b27a",
   "metadata": {},
   "outputs": [
    {
     "name": "stderr",
     "output_type": "stream",
     "text": [
      "/home/abhishek/anaconda3/lib/python3.8/site-packages/openpyxl/worksheet/_reader.py:312: UserWarning: Unknown extension is not supported and will be removed\n",
      "  warn(msg)\n"
     ]
    }
   ],
   "source": [
    "df = pd.read_excel('/media/abhishek/589E61B39E618A782/C-DAC Document/Advanced Analytics/Assignment/Datasets/Closing Stock Prices.xlsx', skiprows = 2)"
   ]
  },
  {
   "cell_type": "code",
   "execution_count": 3,
   "id": "eef75e69-ca72-48f8-aa86-cc69a740ab00",
   "metadata": {},
   "outputs": [
    {
     "data": {
      "text/html": [
       "<div>\n",
       "<style scoped>\n",
       "    .dataframe tbody tr th:only-of-type {\n",
       "        vertical-align: middle;\n",
       "    }\n",
       "\n",
       "    .dataframe tbody tr th {\n",
       "        vertical-align: top;\n",
       "    }\n",
       "\n",
       "    .dataframe thead th {\n",
       "        text-align: right;\n",
       "    }\n",
       "</style>\n",
       "<table border=\"1\" class=\"dataframe\">\n",
       "  <thead>\n",
       "    <tr style=\"text-align: right;\">\n",
       "      <th></th>\n",
       "      <th>Date</th>\n",
       "      <th>IBM</th>\n",
       "      <th>INTC</th>\n",
       "      <th>CSCO</th>\n",
       "      <th>GE</th>\n",
       "      <th>DJ Industrials \\nIndex</th>\n",
       "    </tr>\n",
       "  </thead>\n",
       "  <tbody>\n",
       "    <tr>\n",
       "      <th>0</th>\n",
       "      <td>2010-09-03</td>\n",
       "      <td>127.58</td>\n",
       "      <td>18.430</td>\n",
       "      <td>21.040</td>\n",
       "      <td>15.392</td>\n",
       "      <td>10447.93</td>\n",
       "    </tr>\n",
       "    <tr>\n",
       "      <th>1</th>\n",
       "      <td>2010-09-07</td>\n",
       "      <td>125.95</td>\n",
       "      <td>18.120</td>\n",
       "      <td>20.580</td>\n",
       "      <td>15.440</td>\n",
       "      <td>10340.69</td>\n",
       "    </tr>\n",
       "    <tr>\n",
       "      <th>2</th>\n",
       "      <td>2010-09-08</td>\n",
       "      <td>126.08</td>\n",
       "      <td>17.900</td>\n",
       "      <td>20.640</td>\n",
       "      <td>15.700</td>\n",
       "      <td>10387.01</td>\n",
       "    </tr>\n",
       "    <tr>\n",
       "      <th>3</th>\n",
       "      <td>2010-09-09</td>\n",
       "      <td>126.36</td>\n",
       "      <td>18.000</td>\n",
       "      <td>20.610</td>\n",
       "      <td>15.910</td>\n",
       "      <td>10415.24</td>\n",
       "    </tr>\n",
       "    <tr>\n",
       "      <th>4</th>\n",
       "      <td>2010-09-10</td>\n",
       "      <td>127.99</td>\n",
       "      <td>17.970</td>\n",
       "      <td>20.620</td>\n",
       "      <td>15.980</td>\n",
       "      <td>10462.77</td>\n",
       "    </tr>\n",
       "    <tr>\n",
       "      <th>5</th>\n",
       "      <td>2010-09-13</td>\n",
       "      <td>129.61</td>\n",
       "      <td>18.557</td>\n",
       "      <td>21.260</td>\n",
       "      <td>16.250</td>\n",
       "      <td>10544.13</td>\n",
       "    </tr>\n",
       "    <tr>\n",
       "      <th>6</th>\n",
       "      <td>2010-09-14</td>\n",
       "      <td>128.85</td>\n",
       "      <td>18.740</td>\n",
       "      <td>21.450</td>\n",
       "      <td>16.160</td>\n",
       "      <td>10526.49</td>\n",
       "    </tr>\n",
       "    <tr>\n",
       "      <th>7</th>\n",
       "      <td>2010-09-15</td>\n",
       "      <td>129.43</td>\n",
       "      <td>18.720</td>\n",
       "      <td>21.590</td>\n",
       "      <td>16.340</td>\n",
       "      <td>10572.73</td>\n",
       "    </tr>\n",
       "    <tr>\n",
       "      <th>8</th>\n",
       "      <td>2010-09-16</td>\n",
       "      <td>129.67</td>\n",
       "      <td>18.970</td>\n",
       "      <td>21.930</td>\n",
       "      <td>16.230</td>\n",
       "      <td>10594.83</td>\n",
       "    </tr>\n",
       "    <tr>\n",
       "      <th>9</th>\n",
       "      <td>2010-09-17</td>\n",
       "      <td>130.19</td>\n",
       "      <td>18.810</td>\n",
       "      <td>21.863</td>\n",
       "      <td>16.290</td>\n",
       "      <td>10607.85</td>\n",
       "    </tr>\n",
       "    <tr>\n",
       "      <th>10</th>\n",
       "      <td>2010-09-20</td>\n",
       "      <td>131.79</td>\n",
       "      <td>18.930</td>\n",
       "      <td>21.750</td>\n",
       "      <td>16.550</td>\n",
       "      <td>10753.62</td>\n",
       "    </tr>\n",
       "    <tr>\n",
       "      <th>11</th>\n",
       "      <td>2010-09-21</td>\n",
       "      <td>131.98</td>\n",
       "      <td>19.140</td>\n",
       "      <td>21.640</td>\n",
       "      <td>16.520</td>\n",
       "      <td>10761.03</td>\n",
       "    </tr>\n",
       "    <tr>\n",
       "      <th>12</th>\n",
       "      <td>2010-09-22</td>\n",
       "      <td>132.57</td>\n",
       "      <td>19.010</td>\n",
       "      <td>21.670</td>\n",
       "      <td>16.500</td>\n",
       "      <td>10739.31</td>\n",
       "    </tr>\n",
       "    <tr>\n",
       "      <th>13</th>\n",
       "      <td>2010-09-23</td>\n",
       "      <td>131.67</td>\n",
       "      <td>18.980</td>\n",
       "      <td>21.530</td>\n",
       "      <td>16.140</td>\n",
       "      <td>10662.42</td>\n",
       "    </tr>\n",
       "    <tr>\n",
       "      <th>14</th>\n",
       "      <td>2010-09-24</td>\n",
       "      <td>134.11</td>\n",
       "      <td>19.423</td>\n",
       "      <td>22.090</td>\n",
       "      <td>16.660</td>\n",
       "      <td>10860.26</td>\n",
       "    </tr>\n",
       "    <tr>\n",
       "      <th>15</th>\n",
       "      <td>2010-09-27</td>\n",
       "      <td>134.65</td>\n",
       "      <td>19.235</td>\n",
       "      <td>22.110</td>\n",
       "      <td>16.430</td>\n",
       "      <td>10812.04</td>\n",
       "    </tr>\n",
       "    <tr>\n",
       "      <th>16</th>\n",
       "      <td>2010-09-28</td>\n",
       "      <td>134.89</td>\n",
       "      <td>19.505</td>\n",
       "      <td>21.863</td>\n",
       "      <td>16.440</td>\n",
       "      <td>10858.14</td>\n",
       "    </tr>\n",
       "    <tr>\n",
       "      <th>17</th>\n",
       "      <td>2010-09-29</td>\n",
       "      <td>135.48</td>\n",
       "      <td>19.240</td>\n",
       "      <td>21.870</td>\n",
       "      <td>16.360</td>\n",
       "      <td>10835.28</td>\n",
       "    </tr>\n",
       "    <tr>\n",
       "      <th>18</th>\n",
       "      <td>2010-09-30</td>\n",
       "      <td>134.14</td>\n",
       "      <td>19.200</td>\n",
       "      <td>21.900</td>\n",
       "      <td>16.250</td>\n",
       "      <td>10788.05</td>\n",
       "    </tr>\n",
       "    <tr>\n",
       "      <th>19</th>\n",
       "      <td>2010-10-01</td>\n",
       "      <td>135.64</td>\n",
       "      <td>19.320</td>\n",
       "      <td>21.910</td>\n",
       "      <td>16.360</td>\n",
       "      <td>10829.68</td>\n",
       "    </tr>\n",
       "  </tbody>\n",
       "</table>\n",
       "</div>"
      ],
      "text/plain": [
       "         Date     IBM    INTC    CSCO      GE  DJ Industrials \\nIndex\n",
       "0  2010-09-03  127.58  18.430  21.040  15.392                10447.93\n",
       "1  2010-09-07  125.95  18.120  20.580  15.440                10340.69\n",
       "2  2010-09-08  126.08  17.900  20.640  15.700                10387.01\n",
       "3  2010-09-09  126.36  18.000  20.610  15.910                10415.24\n",
       "4  2010-09-10  127.99  17.970  20.620  15.980                10462.77\n",
       "5  2010-09-13  129.61  18.557  21.260  16.250                10544.13\n",
       "6  2010-09-14  128.85  18.740  21.450  16.160                10526.49\n",
       "7  2010-09-15  129.43  18.720  21.590  16.340                10572.73\n",
       "8  2010-09-16  129.67  18.970  21.930  16.230                10594.83\n",
       "9  2010-09-17  130.19  18.810  21.863  16.290                10607.85\n",
       "10 2010-09-20  131.79  18.930  21.750  16.550                10753.62\n",
       "11 2010-09-21  131.98  19.140  21.640  16.520                10761.03\n",
       "12 2010-09-22  132.57  19.010  21.670  16.500                10739.31\n",
       "13 2010-09-23  131.67  18.980  21.530  16.140                10662.42\n",
       "14 2010-09-24  134.11  19.423  22.090  16.660                10860.26\n",
       "15 2010-09-27  134.65  19.235  22.110  16.430                10812.04\n",
       "16 2010-09-28  134.89  19.505  21.863  16.440                10858.14\n",
       "17 2010-09-29  135.48  19.240  21.870  16.360                10835.28\n",
       "18 2010-09-30  134.14  19.200  21.900  16.250                10788.05\n",
       "19 2010-10-01  135.64  19.320  21.910  16.360                10829.68"
      ]
     },
     "execution_count": 3,
     "metadata": {},
     "output_type": "execute_result"
    }
   ],
   "source": [
    "df"
   ]
  },
  {
   "cell_type": "markdown",
   "id": "6577cc66-dd73-4d7e-aeb0-a614e1792528",
   "metadata": {},
   "source": [
    "## 1st Part :"
   ]
  },
  {
   "cell_type": "markdown",
   "id": "c98ffad4-c872-4cb0-918d-5903f3a3c16a",
   "metadata": {},
   "source": [
    " ### MovingAverages "
   ]
  },
  {
   "cell_type": "code",
   "execution_count": 4,
   "id": "c4317553-0ef7-4cf5-b617-21f2ac08a7c2",
   "metadata": {},
   "outputs": [],
   "source": [
    "df[\"ma_4\"] = df[\"IBM\"].rolling(window = 1).mean().shift(1)\n",
    "df[\"ma_5\"] = df[\"INTC\"].rolling(window = 1).mean().shift(1)\n",
    "df[\"ma_6\"] = df[\"CSCO\"].rolling(window = 1).mean().shift(1)"
   ]
  },
  {
   "cell_type": "code",
   "execution_count": 5,
   "id": "7e513885-b106-4601-a494-8bd521c8725b",
   "metadata": {},
   "outputs": [
    {
     "data": {
      "text/html": [
       "<div>\n",
       "<style scoped>\n",
       "    .dataframe tbody tr th:only-of-type {\n",
       "        vertical-align: middle;\n",
       "    }\n",
       "\n",
       "    .dataframe tbody tr th {\n",
       "        vertical-align: top;\n",
       "    }\n",
       "\n",
       "    .dataframe thead th {\n",
       "        text-align: right;\n",
       "    }\n",
       "</style>\n",
       "<table border=\"1\" class=\"dataframe\">\n",
       "  <thead>\n",
       "    <tr style=\"text-align: right;\">\n",
       "      <th></th>\n",
       "      <th>Date</th>\n",
       "      <th>IBM</th>\n",
       "      <th>INTC</th>\n",
       "      <th>CSCO</th>\n",
       "      <th>GE</th>\n",
       "      <th>DJ Industrials \\nIndex</th>\n",
       "      <th>ma_4</th>\n",
       "      <th>ma_5</th>\n",
       "      <th>ma_6</th>\n",
       "    </tr>\n",
       "  </thead>\n",
       "  <tbody>\n",
       "    <tr>\n",
       "      <th>0</th>\n",
       "      <td>2010-09-03</td>\n",
       "      <td>127.58</td>\n",
       "      <td>18.430</td>\n",
       "      <td>21.040</td>\n",
       "      <td>15.392</td>\n",
       "      <td>10447.93</td>\n",
       "      <td>NaN</td>\n",
       "      <td>NaN</td>\n",
       "      <td>NaN</td>\n",
       "    </tr>\n",
       "    <tr>\n",
       "      <th>1</th>\n",
       "      <td>2010-09-07</td>\n",
       "      <td>125.95</td>\n",
       "      <td>18.120</td>\n",
       "      <td>20.580</td>\n",
       "      <td>15.440</td>\n",
       "      <td>10340.69</td>\n",
       "      <td>127.58</td>\n",
       "      <td>18.430</td>\n",
       "      <td>21.040</td>\n",
       "    </tr>\n",
       "    <tr>\n",
       "      <th>2</th>\n",
       "      <td>2010-09-08</td>\n",
       "      <td>126.08</td>\n",
       "      <td>17.900</td>\n",
       "      <td>20.640</td>\n",
       "      <td>15.700</td>\n",
       "      <td>10387.01</td>\n",
       "      <td>125.95</td>\n",
       "      <td>18.120</td>\n",
       "      <td>20.580</td>\n",
       "    </tr>\n",
       "    <tr>\n",
       "      <th>3</th>\n",
       "      <td>2010-09-09</td>\n",
       "      <td>126.36</td>\n",
       "      <td>18.000</td>\n",
       "      <td>20.610</td>\n",
       "      <td>15.910</td>\n",
       "      <td>10415.24</td>\n",
       "      <td>126.08</td>\n",
       "      <td>17.900</td>\n",
       "      <td>20.640</td>\n",
       "    </tr>\n",
       "    <tr>\n",
       "      <th>4</th>\n",
       "      <td>2010-09-10</td>\n",
       "      <td>127.99</td>\n",
       "      <td>17.970</td>\n",
       "      <td>20.620</td>\n",
       "      <td>15.980</td>\n",
       "      <td>10462.77</td>\n",
       "      <td>126.36</td>\n",
       "      <td>18.000</td>\n",
       "      <td>20.610</td>\n",
       "    </tr>\n",
       "    <tr>\n",
       "      <th>5</th>\n",
       "      <td>2010-09-13</td>\n",
       "      <td>129.61</td>\n",
       "      <td>18.557</td>\n",
       "      <td>21.260</td>\n",
       "      <td>16.250</td>\n",
       "      <td>10544.13</td>\n",
       "      <td>127.99</td>\n",
       "      <td>17.970</td>\n",
       "      <td>20.620</td>\n",
       "    </tr>\n",
       "    <tr>\n",
       "      <th>6</th>\n",
       "      <td>2010-09-14</td>\n",
       "      <td>128.85</td>\n",
       "      <td>18.740</td>\n",
       "      <td>21.450</td>\n",
       "      <td>16.160</td>\n",
       "      <td>10526.49</td>\n",
       "      <td>129.61</td>\n",
       "      <td>18.557</td>\n",
       "      <td>21.260</td>\n",
       "    </tr>\n",
       "    <tr>\n",
       "      <th>7</th>\n",
       "      <td>2010-09-15</td>\n",
       "      <td>129.43</td>\n",
       "      <td>18.720</td>\n",
       "      <td>21.590</td>\n",
       "      <td>16.340</td>\n",
       "      <td>10572.73</td>\n",
       "      <td>128.85</td>\n",
       "      <td>18.740</td>\n",
       "      <td>21.450</td>\n",
       "    </tr>\n",
       "    <tr>\n",
       "      <th>8</th>\n",
       "      <td>2010-09-16</td>\n",
       "      <td>129.67</td>\n",
       "      <td>18.970</td>\n",
       "      <td>21.930</td>\n",
       "      <td>16.230</td>\n",
       "      <td>10594.83</td>\n",
       "      <td>129.43</td>\n",
       "      <td>18.720</td>\n",
       "      <td>21.590</td>\n",
       "    </tr>\n",
       "    <tr>\n",
       "      <th>9</th>\n",
       "      <td>2010-09-17</td>\n",
       "      <td>130.19</td>\n",
       "      <td>18.810</td>\n",
       "      <td>21.863</td>\n",
       "      <td>16.290</td>\n",
       "      <td>10607.85</td>\n",
       "      <td>129.67</td>\n",
       "      <td>18.970</td>\n",
       "      <td>21.930</td>\n",
       "    </tr>\n",
       "    <tr>\n",
       "      <th>10</th>\n",
       "      <td>2010-09-20</td>\n",
       "      <td>131.79</td>\n",
       "      <td>18.930</td>\n",
       "      <td>21.750</td>\n",
       "      <td>16.550</td>\n",
       "      <td>10753.62</td>\n",
       "      <td>130.19</td>\n",
       "      <td>18.810</td>\n",
       "      <td>21.863</td>\n",
       "    </tr>\n",
       "    <tr>\n",
       "      <th>11</th>\n",
       "      <td>2010-09-21</td>\n",
       "      <td>131.98</td>\n",
       "      <td>19.140</td>\n",
       "      <td>21.640</td>\n",
       "      <td>16.520</td>\n",
       "      <td>10761.03</td>\n",
       "      <td>131.79</td>\n",
       "      <td>18.930</td>\n",
       "      <td>21.750</td>\n",
       "    </tr>\n",
       "    <tr>\n",
       "      <th>12</th>\n",
       "      <td>2010-09-22</td>\n",
       "      <td>132.57</td>\n",
       "      <td>19.010</td>\n",
       "      <td>21.670</td>\n",
       "      <td>16.500</td>\n",
       "      <td>10739.31</td>\n",
       "      <td>131.98</td>\n",
       "      <td>19.140</td>\n",
       "      <td>21.640</td>\n",
       "    </tr>\n",
       "    <tr>\n",
       "      <th>13</th>\n",
       "      <td>2010-09-23</td>\n",
       "      <td>131.67</td>\n",
       "      <td>18.980</td>\n",
       "      <td>21.530</td>\n",
       "      <td>16.140</td>\n",
       "      <td>10662.42</td>\n",
       "      <td>132.57</td>\n",
       "      <td>19.010</td>\n",
       "      <td>21.670</td>\n",
       "    </tr>\n",
       "    <tr>\n",
       "      <th>14</th>\n",
       "      <td>2010-09-24</td>\n",
       "      <td>134.11</td>\n",
       "      <td>19.423</td>\n",
       "      <td>22.090</td>\n",
       "      <td>16.660</td>\n",
       "      <td>10860.26</td>\n",
       "      <td>131.67</td>\n",
       "      <td>18.980</td>\n",
       "      <td>21.530</td>\n",
       "    </tr>\n",
       "    <tr>\n",
       "      <th>15</th>\n",
       "      <td>2010-09-27</td>\n",
       "      <td>134.65</td>\n",
       "      <td>19.235</td>\n",
       "      <td>22.110</td>\n",
       "      <td>16.430</td>\n",
       "      <td>10812.04</td>\n",
       "      <td>134.11</td>\n",
       "      <td>19.423</td>\n",
       "      <td>22.090</td>\n",
       "    </tr>\n",
       "    <tr>\n",
       "      <th>16</th>\n",
       "      <td>2010-09-28</td>\n",
       "      <td>134.89</td>\n",
       "      <td>19.505</td>\n",
       "      <td>21.863</td>\n",
       "      <td>16.440</td>\n",
       "      <td>10858.14</td>\n",
       "      <td>134.65</td>\n",
       "      <td>19.235</td>\n",
       "      <td>22.110</td>\n",
       "    </tr>\n",
       "    <tr>\n",
       "      <th>17</th>\n",
       "      <td>2010-09-29</td>\n",
       "      <td>135.48</td>\n",
       "      <td>19.240</td>\n",
       "      <td>21.870</td>\n",
       "      <td>16.360</td>\n",
       "      <td>10835.28</td>\n",
       "      <td>134.89</td>\n",
       "      <td>19.505</td>\n",
       "      <td>21.863</td>\n",
       "    </tr>\n",
       "    <tr>\n",
       "      <th>18</th>\n",
       "      <td>2010-09-30</td>\n",
       "      <td>134.14</td>\n",
       "      <td>19.200</td>\n",
       "      <td>21.900</td>\n",
       "      <td>16.250</td>\n",
       "      <td>10788.05</td>\n",
       "      <td>135.48</td>\n",
       "      <td>19.240</td>\n",
       "      <td>21.870</td>\n",
       "    </tr>\n",
       "    <tr>\n",
       "      <th>19</th>\n",
       "      <td>2010-10-01</td>\n",
       "      <td>135.64</td>\n",
       "      <td>19.320</td>\n",
       "      <td>21.910</td>\n",
       "      <td>16.360</td>\n",
       "      <td>10829.68</td>\n",
       "      <td>134.14</td>\n",
       "      <td>19.200</td>\n",
       "      <td>21.900</td>\n",
       "    </tr>\n",
       "  </tbody>\n",
       "</table>\n",
       "</div>"
      ],
      "text/plain": [
       "         Date     IBM    INTC    CSCO      GE  DJ Industrials \\nIndex    ma_4  \\\n",
       "0  2010-09-03  127.58  18.430  21.040  15.392                10447.93     NaN   \n",
       "1  2010-09-07  125.95  18.120  20.580  15.440                10340.69  127.58   \n",
       "2  2010-09-08  126.08  17.900  20.640  15.700                10387.01  125.95   \n",
       "3  2010-09-09  126.36  18.000  20.610  15.910                10415.24  126.08   \n",
       "4  2010-09-10  127.99  17.970  20.620  15.980                10462.77  126.36   \n",
       "5  2010-09-13  129.61  18.557  21.260  16.250                10544.13  127.99   \n",
       "6  2010-09-14  128.85  18.740  21.450  16.160                10526.49  129.61   \n",
       "7  2010-09-15  129.43  18.720  21.590  16.340                10572.73  128.85   \n",
       "8  2010-09-16  129.67  18.970  21.930  16.230                10594.83  129.43   \n",
       "9  2010-09-17  130.19  18.810  21.863  16.290                10607.85  129.67   \n",
       "10 2010-09-20  131.79  18.930  21.750  16.550                10753.62  130.19   \n",
       "11 2010-09-21  131.98  19.140  21.640  16.520                10761.03  131.79   \n",
       "12 2010-09-22  132.57  19.010  21.670  16.500                10739.31  131.98   \n",
       "13 2010-09-23  131.67  18.980  21.530  16.140                10662.42  132.57   \n",
       "14 2010-09-24  134.11  19.423  22.090  16.660                10860.26  131.67   \n",
       "15 2010-09-27  134.65  19.235  22.110  16.430                10812.04  134.11   \n",
       "16 2010-09-28  134.89  19.505  21.863  16.440                10858.14  134.65   \n",
       "17 2010-09-29  135.48  19.240  21.870  16.360                10835.28  134.89   \n",
       "18 2010-09-30  134.14  19.200  21.900  16.250                10788.05  135.48   \n",
       "19 2010-10-01  135.64  19.320  21.910  16.360                10829.68  134.14   \n",
       "\n",
       "      ma_5    ma_6  \n",
       "0      NaN     NaN  \n",
       "1   18.430  21.040  \n",
       "2   18.120  20.580  \n",
       "3   17.900  20.640  \n",
       "4   18.000  20.610  \n",
       "5   17.970  20.620  \n",
       "6   18.557  21.260  \n",
       "7   18.740  21.450  \n",
       "8   18.720  21.590  \n",
       "9   18.970  21.930  \n",
       "10  18.810  21.863  \n",
       "11  18.930  21.750  \n",
       "12  19.140  21.640  \n",
       "13  19.010  21.670  \n",
       "14  18.980  21.530  \n",
       "15  19.423  22.090  \n",
       "16  19.235  22.110  \n",
       "17  19.505  21.863  \n",
       "18  19.240  21.870  \n",
       "19  19.200  21.900  "
      ]
     },
     "execution_count": 5,
     "metadata": {},
     "output_type": "execute_result"
    }
   ],
   "source": [
    "df"
   ]
  },
  {
   "cell_type": "code",
   "execution_count": 6,
   "id": "acd2eba0-615a-4c02-802b-f2ce02d14aed",
   "metadata": {},
   "outputs": [
    {
     "data": {
      "image/png": "[encoded data removed]",
      "text/plain": [
       "<Figure size 432x288 with 1 Axes>"
      ]
     },
     "metadata": {
      "needs_background": "light"
     },
     "output_type": "display_data"
    }
   ],
   "source": [
    "plt.plot(df[df.columns[0]], df[df.columns[1]])\n",
    "plt.plot(df[df.columns[0]], df[df.columns[6]])\n",
    "plt.xlabel(\"Dates\")\n",
    "plt.ylabel(\"IBM\")\n",
    "plt.title(\"Stocks\")\n",
    "plt.show()"
   ]
  },
  {
   "cell_type": "code",
   "execution_count": 7,
   "id": "445fa8c5-9072-4d15-88c9-6fb528391a32",
   "metadata": {},
   "outputs": [
    {
     "data": {
      "image/png": "[encoded data removed]",
      "text/plain": [
       "<Figure size 432x288 with 1 Axes>"
      ]
     },
     "metadata": {
      "needs_background": "light"
     },
     "output_type": "display_data"
    }
   ],
   "source": [
    "plt.plot(df[df.columns[0]], df[df.columns[2]])\n",
    "plt.plot(df[df.columns[0]], df[df.columns[7]])\n",
    "plt.xlabel(\"Dates\")\n",
    "plt.ylabel(\"INTC\")\n",
    "plt.title(\"Stocks\")\n",
    "plt.show()"
   ]
  },
  {
   "cell_type": "code",
   "execution_count": 8,
   "id": "7777be1c-15a3-4203-8772-b68c0ea9eec6",
   "metadata": {},
   "outputs": [
    {
     "data": {
      "image/png": "[encoded data removed]",
      "text/plain": [
       "<Figure size 432x288 with 1 Axes>"
      ]
     },
     "metadata": {
      "needs_background": "light"
     },
     "output_type": "display_data"
    }
   ],
   "source": [
    "plt.plot(df[df.columns[0]], df[df.columns[3]])\n",
    "plt.plot(df[df.columns[0]], df[df.columns[8]])\n",
    "plt.xlabel(\"Dates\")\n",
    "plt.ylabel(\"CSCO\")\n",
    "plt.title(\"Stocks\")\n",
    "plt.show()"
   ]
  },
  {
   "cell_type": "markdown",
   "id": "b825b9da-e647-47ea-9fb5-67b803375f8b",
   "metadata": {},
   "source": [
    "### Exponential Smoothing :"
   ]
  },
  {
   "cell_type": "code",
   "execution_count": 9,
   "id": "2a8fb7cb-9b4d-43f9-80b8-e0aa56ca6217",
   "metadata": {},
   "outputs": [
    {
     "name": "stderr",
     "output_type": "stream",
     "text": [
      "/home/abhishek/anaconda3/lib/python3.8/site-packages/openpyxl/worksheet/_reader.py:312: UserWarning: Unknown extension is not supported and will be removed\n",
      "  warn(msg)\n"
     ]
    }
   ],
   "source": [
    "df = pd.read_excel('/media/abhishek/589E61B39E618A782/C-DAC Document/Advanced Analytics/Assignment/Datasets/Closing Stock Prices.xlsx', skiprows = 2)"
   ]
  },
  {
   "cell_type": "code",
   "execution_count": 10,
   "id": "8b6c3c7e-a489-498d-8425-45ebe29ed410",
   "metadata": {},
   "outputs": [
    {
     "data": {
      "text/html": [
       "<div>\n",
       "<style scoped>\n",
       "    .dataframe tbody tr th:only-of-type {\n",
       "        vertical-align: middle;\n",
       "    }\n",
       "\n",
       "    .dataframe tbody tr th {\n",
       "        vertical-align: top;\n",
       "    }\n",
       "\n",
       "    .dataframe thead th {\n",
       "        text-align: right;\n",
       "    }\n",
       "</style>\n",
       "<table border=\"1\" class=\"dataframe\">\n",
       "  <thead>\n",
       "    <tr style=\"text-align: right;\">\n",
       "      <th></th>\n",
       "      <th>Date</th>\n",
       "      <th>IBM</th>\n",
       "      <th>INTC</th>\n",
       "      <th>CSCO</th>\n",
       "      <th>GE</th>\n",
       "      <th>DJ Industrials \\nIndex</th>\n",
       "    </tr>\n",
       "  </thead>\n",
       "  <tbody>\n",
       "    <tr>\n",
       "      <th>0</th>\n",
       "      <td>2010-09-03</td>\n",
       "      <td>127.58</td>\n",
       "      <td>18.430</td>\n",
       "      <td>21.040</td>\n",
       "      <td>15.392</td>\n",
       "      <td>10447.93</td>\n",
       "    </tr>\n",
       "    <tr>\n",
       "      <th>1</th>\n",
       "      <td>2010-09-07</td>\n",
       "      <td>125.95</td>\n",
       "      <td>18.120</td>\n",
       "      <td>20.580</td>\n",
       "      <td>15.440</td>\n",
       "      <td>10340.69</td>\n",
       "    </tr>\n",
       "    <tr>\n",
       "      <th>2</th>\n",
       "      <td>2010-09-08</td>\n",
       "      <td>126.08</td>\n",
       "      <td>17.900</td>\n",
       "      <td>20.640</td>\n",
       "      <td>15.700</td>\n",
       "      <td>10387.01</td>\n",
       "    </tr>\n",
       "    <tr>\n",
       "      <th>3</th>\n",
       "      <td>2010-09-09</td>\n",
       "      <td>126.36</td>\n",
       "      <td>18.000</td>\n",
       "      <td>20.610</td>\n",
       "      <td>15.910</td>\n",
       "      <td>10415.24</td>\n",
       "    </tr>\n",
       "    <tr>\n",
       "      <th>4</th>\n",
       "      <td>2010-09-10</td>\n",
       "      <td>127.99</td>\n",
       "      <td>17.970</td>\n",
       "      <td>20.620</td>\n",
       "      <td>15.980</td>\n",
       "      <td>10462.77</td>\n",
       "    </tr>\n",
       "    <tr>\n",
       "      <th>5</th>\n",
       "      <td>2010-09-13</td>\n",
       "      <td>129.61</td>\n",
       "      <td>18.557</td>\n",
       "      <td>21.260</td>\n",
       "      <td>16.250</td>\n",
       "      <td>10544.13</td>\n",
       "    </tr>\n",
       "    <tr>\n",
       "      <th>6</th>\n",
       "      <td>2010-09-14</td>\n",
       "      <td>128.85</td>\n",
       "      <td>18.740</td>\n",
       "      <td>21.450</td>\n",
       "      <td>16.160</td>\n",
       "      <td>10526.49</td>\n",
       "    </tr>\n",
       "    <tr>\n",
       "      <th>7</th>\n",
       "      <td>2010-09-15</td>\n",
       "      <td>129.43</td>\n",
       "      <td>18.720</td>\n",
       "      <td>21.590</td>\n",
       "      <td>16.340</td>\n",
       "      <td>10572.73</td>\n",
       "    </tr>\n",
       "    <tr>\n",
       "      <th>8</th>\n",
       "      <td>2010-09-16</td>\n",
       "      <td>129.67</td>\n",
       "      <td>18.970</td>\n",
       "      <td>21.930</td>\n",
       "      <td>16.230</td>\n",
       "      <td>10594.83</td>\n",
       "    </tr>\n",
       "    <tr>\n",
       "      <th>9</th>\n",
       "      <td>2010-09-17</td>\n",
       "      <td>130.19</td>\n",
       "      <td>18.810</td>\n",
       "      <td>21.863</td>\n",
       "      <td>16.290</td>\n",
       "      <td>10607.85</td>\n",
       "    </tr>\n",
       "    <tr>\n",
       "      <th>10</th>\n",
       "      <td>2010-09-20</td>\n",
       "      <td>131.79</td>\n",
       "      <td>18.930</td>\n",
       "      <td>21.750</td>\n",
       "      <td>16.550</td>\n",
       "      <td>10753.62</td>\n",
       "    </tr>\n",
       "    <tr>\n",
       "      <th>11</th>\n",
       "      <td>2010-09-21</td>\n",
       "      <td>131.98</td>\n",
       "      <td>19.140</td>\n",
       "      <td>21.640</td>\n",
       "      <td>16.520</td>\n",
       "      <td>10761.03</td>\n",
       "    </tr>\n",
       "    <tr>\n",
       "      <th>12</th>\n",
       "      <td>2010-09-22</td>\n",
       "      <td>132.57</td>\n",
       "      <td>19.010</td>\n",
       "      <td>21.670</td>\n",
       "      <td>16.500</td>\n",
       "      <td>10739.31</td>\n",
       "    </tr>\n",
       "    <tr>\n",
       "      <th>13</th>\n",
       "      <td>2010-09-23</td>\n",
       "      <td>131.67</td>\n",
       "      <td>18.980</td>\n",
       "      <td>21.530</td>\n",
       "      <td>16.140</td>\n",
       "      <td>10662.42</td>\n",
       "    </tr>\n",
       "    <tr>\n",
       "      <th>14</th>\n",
       "      <td>2010-09-24</td>\n",
       "      <td>134.11</td>\n",
       "      <td>19.423</td>\n",
       "      <td>22.090</td>\n",
       "      <td>16.660</td>\n",
       "      <td>10860.26</td>\n",
       "    </tr>\n",
       "    <tr>\n",
       "      <th>15</th>\n",
       "      <td>2010-09-27</td>\n",
       "      <td>134.65</td>\n",
       "      <td>19.235</td>\n",
       "      <td>22.110</td>\n",
       "      <td>16.430</td>\n",
       "      <td>10812.04</td>\n",
       "    </tr>\n",
       "    <tr>\n",
       "      <th>16</th>\n",
       "      <td>2010-09-28</td>\n",
       "      <td>134.89</td>\n",
       "      <td>19.505</td>\n",
       "      <td>21.863</td>\n",
       "      <td>16.440</td>\n",
       "      <td>10858.14</td>\n",
       "    </tr>\n",
       "    <tr>\n",
       "      <th>17</th>\n",
       "      <td>2010-09-29</td>\n",
       "      <td>135.48</td>\n",
       "      <td>19.240</td>\n",
       "      <td>21.870</td>\n",
       "      <td>16.360</td>\n",
       "      <td>10835.28</td>\n",
       "    </tr>\n",
       "    <tr>\n",
       "      <th>18</th>\n",
       "      <td>2010-09-30</td>\n",
       "      <td>134.14</td>\n",
       "      <td>19.200</td>\n",
       "      <td>21.900</td>\n",
       "      <td>16.250</td>\n",
       "      <td>10788.05</td>\n",
       "    </tr>\n",
       "    <tr>\n",
       "      <th>19</th>\n",
       "      <td>2010-10-01</td>\n",
       "      <td>135.64</td>\n",
       "      <td>19.320</td>\n",
       "      <td>21.910</td>\n",
       "      <td>16.360</td>\n",
       "      <td>10829.68</td>\n",
       "    </tr>\n",
       "  </tbody>\n",
       "</table>\n",
       "</div>"
      ],
      "text/plain": [
       "         Date     IBM    INTC    CSCO      GE  DJ Industrials \\nIndex\n",
       "0  2010-09-03  127.58  18.430  21.040  15.392                10447.93\n",
       "1  2010-09-07  125.95  18.120  20.580  15.440                10340.69\n",
       "2  2010-09-08  126.08  17.900  20.640  15.700                10387.01\n",
       "3  2010-09-09  126.36  18.000  20.610  15.910                10415.24\n",
       "4  2010-09-10  127.99  17.970  20.620  15.980                10462.77\n",
       "5  2010-09-13  129.61  18.557  21.260  16.250                10544.13\n",
       "6  2010-09-14  128.85  18.740  21.450  16.160                10526.49\n",
       "7  2010-09-15  129.43  18.720  21.590  16.340                10572.73\n",
       "8  2010-09-16  129.67  18.970  21.930  16.230                10594.83\n",
       "9  2010-09-17  130.19  18.810  21.863  16.290                10607.85\n",
       "10 2010-09-20  131.79  18.930  21.750  16.550                10753.62\n",
       "11 2010-09-21  131.98  19.140  21.640  16.520                10761.03\n",
       "12 2010-09-22  132.57  19.010  21.670  16.500                10739.31\n",
       "13 2010-09-23  131.67  18.980  21.530  16.140                10662.42\n",
       "14 2010-09-24  134.11  19.423  22.090  16.660                10860.26\n",
       "15 2010-09-27  134.65  19.235  22.110  16.430                10812.04\n",
       "16 2010-09-28  134.89  19.505  21.863  16.440                10858.14\n",
       "17 2010-09-29  135.48  19.240  21.870  16.360                10835.28\n",
       "18 2010-09-30  134.14  19.200  21.900  16.250                10788.05\n",
       "19 2010-10-01  135.64  19.320  21.910  16.360                10829.68"
      ]
     },
     "execution_count": 10,
     "metadata": {},
     "output_type": "execute_result"
    }
   ],
   "source": [
    "df"
   ]
  },
  {
   "cell_type": "code",
   "execution_count": 11,
   "id": "877732f7-3b57-4690-a1f7-b290edf476e8",
   "metadata": {},
   "outputs": [],
   "source": [
    "df[\"es_op1\"] = df[\"IBM\"].ewm(alpha = 0.2).mean()\n",
    "df[\"es_op2\"] = df[\"INTC\"].ewm(alpha = 0.2).mean()\n",
    "df[\"es_op3\"] = df[\"CSCO\"].ewm(alpha = 0.2).mean()"
   ]
  },
  {
   "cell_type": "code",
   "execution_count": 12,
   "id": "ba1c8e32-774a-4c21-8897-3fd951ff0b81",
   "metadata": {},
   "outputs": [
    {
     "data": {
      "text/html": [
       "<div>\n",
       "<style scoped>\n",
       "    .dataframe tbody tr th:only-of-type {\n",
       "        vertical-align: middle;\n",
       "    }\n",
       "\n",
       "    .dataframe tbody tr th {\n",
       "        vertical-align: top;\n",
       "    }\n",
       "\n",
       "    .dataframe thead th {\n",
       "        text-align: right;\n",
       "    }\n",
       "</style>\n",
       "<table border=\"1\" class=\"dataframe\">\n",
       "  <thead>\n",
       "    <tr style=\"text-align: right;\">\n",
       "      <th></th>\n",
       "      <th>Date</th>\n",
       "      <th>IBM</th>\n",
       "      <th>INTC</th>\n",
       "      <th>CSCO</th>\n",
       "      <th>GE</th>\n",
       "      <th>DJ Industrials \\nIndex</th>\n",
       "      <th>es_op1</th>\n",
       "      <th>es_op2</th>\n",
       "      <th>es_op3</th>\n",
       "    </tr>\n",
       "  </thead>\n",
       "  <tbody>\n",
       "    <tr>\n",
       "      <th>0</th>\n",
       "      <td>2010-09-03</td>\n",
       "      <td>127.58</td>\n",
       "      <td>18.430</td>\n",
       "      <td>21.040</td>\n",
       "      <td>15.392</td>\n",
       "      <td>10447.93</td>\n",
       "      <td>127.580000</td>\n",
       "      <td>18.430000</td>\n",
       "      <td>21.040000</td>\n",
       "    </tr>\n",
       "    <tr>\n",
       "      <th>1</th>\n",
       "      <td>2010-09-07</td>\n",
       "      <td>125.95</td>\n",
       "      <td>18.120</td>\n",
       "      <td>20.580</td>\n",
       "      <td>15.440</td>\n",
       "      <td>10340.69</td>\n",
       "      <td>126.674444</td>\n",
       "      <td>18.257778</td>\n",
       "      <td>20.784444</td>\n",
       "    </tr>\n",
       "    <tr>\n",
       "      <th>2</th>\n",
       "      <td>2010-09-08</td>\n",
       "      <td>126.08</td>\n",
       "      <td>17.900</td>\n",
       "      <td>20.640</td>\n",
       "      <td>15.700</td>\n",
       "      <td>10387.01</td>\n",
       "      <td>126.430820</td>\n",
       "      <td>18.111148</td>\n",
       "      <td>20.725246</td>\n",
       "    </tr>\n",
       "    <tr>\n",
       "      <th>3</th>\n",
       "      <td>2010-09-09</td>\n",
       "      <td>126.36</td>\n",
       "      <td>18.000</td>\n",
       "      <td>20.610</td>\n",
       "      <td>15.910</td>\n",
       "      <td>10415.24</td>\n",
       "      <td>126.406829</td>\n",
       "      <td>18.073496</td>\n",
       "      <td>20.686206</td>\n",
       "    </tr>\n",
       "    <tr>\n",
       "      <th>4</th>\n",
       "      <td>2010-09-10</td>\n",
       "      <td>127.99</td>\n",
       "      <td>17.970</td>\n",
       "      <td>20.620</td>\n",
       "      <td>15.980</td>\n",
       "      <td>10462.77</td>\n",
       "      <td>126.877787</td>\n",
       "      <td>18.042708</td>\n",
       "      <td>20.666511</td>\n",
       "    </tr>\n",
       "    <tr>\n",
       "      <th>5</th>\n",
       "      <td>2010-09-13</td>\n",
       "      <td>129.61</td>\n",
       "      <td>18.557</td>\n",
       "      <td>21.260</td>\n",
       "      <td>16.250</td>\n",
       "      <td>10544.13</td>\n",
       "      <td>127.618368</td>\n",
       "      <td>18.182110</td>\n",
       "      <td>20.827380</td>\n",
       "    </tr>\n",
       "    <tr>\n",
       "      <th>6</th>\n",
       "      <td>2010-09-14</td>\n",
       "      <td>128.85</td>\n",
       "      <td>18.740</td>\n",
       "      <td>21.450</td>\n",
       "      <td>16.160</td>\n",
       "      <td>10526.49</td>\n",
       "      <td>127.930062</td>\n",
       "      <td>18.323297</td>\n",
       "      <td>20.984948</td>\n",
       "    </tr>\n",
       "    <tr>\n",
       "      <th>7</th>\n",
       "      <td>2010-09-15</td>\n",
       "      <td>129.43</td>\n",
       "      <td>18.720</td>\n",
       "      <td>21.590</td>\n",
       "      <td>16.340</td>\n",
       "      <td>10572.73</td>\n",
       "      <td>128.290525</td>\n",
       "      <td>18.418632</td>\n",
       "      <td>21.130354</td>\n",
       "    </tr>\n",
       "    <tr>\n",
       "      <th>8</th>\n",
       "      <td>2010-09-16</td>\n",
       "      <td>129.67</td>\n",
       "      <td>18.970</td>\n",
       "      <td>21.930</td>\n",
       "      <td>16.230</td>\n",
       "      <td>10594.83</td>\n",
       "      <td>128.609191</td>\n",
       "      <td>18.546001</td>\n",
       "      <td>21.315076</td>\n",
       "    </tr>\n",
       "    <tr>\n",
       "      <th>9</th>\n",
       "      <td>2010-09-17</td>\n",
       "      <td>130.19</td>\n",
       "      <td>18.810</td>\n",
       "      <td>21.863</td>\n",
       "      <td>16.290</td>\n",
       "      <td>10607.85</td>\n",
       "      <td>128.963384</td>\n",
       "      <td>18.605152</td>\n",
       "      <td>21.437843</td>\n",
       "    </tr>\n",
       "    <tr>\n",
       "      <th>10</th>\n",
       "      <td>2010-09-20</td>\n",
       "      <td>131.79</td>\n",
       "      <td>18.930</td>\n",
       "      <td>21.750</td>\n",
       "      <td>16.550</td>\n",
       "      <td>10753.62</td>\n",
       "      <td>129.581831</td>\n",
       "      <td>18.676227</td>\n",
       "      <td>21.506141</td>\n",
       "    </tr>\n",
       "    <tr>\n",
       "      <th>11</th>\n",
       "      <td>2010-09-21</td>\n",
       "      <td>131.98</td>\n",
       "      <td>19.140</td>\n",
       "      <td>21.640</td>\n",
       "      <td>16.520</td>\n",
       "      <td>10761.03</td>\n",
       "      <td>130.096857</td>\n",
       "      <td>18.775826</td>\n",
       "      <td>21.534888</td>\n",
       "    </tr>\n",
       "    <tr>\n",
       "      <th>12</th>\n",
       "      <td>2010-09-22</td>\n",
       "      <td>132.57</td>\n",
       "      <td>19.010</td>\n",
       "      <td>21.670</td>\n",
       "      <td>16.500</td>\n",
       "      <td>10739.31</td>\n",
       "      <td>130.620260</td>\n",
       "      <td>18.825385</td>\n",
       "      <td>21.563483</td>\n",
       "    </tr>\n",
       "    <tr>\n",
       "      <th>13</th>\n",
       "      <td>2010-09-23</td>\n",
       "      <td>131.67</td>\n",
       "      <td>18.980</td>\n",
       "      <td>21.530</td>\n",
       "      <td>16.140</td>\n",
       "      <td>10662.42</td>\n",
       "      <td>130.839867</td>\n",
       "      <td>18.857731</td>\n",
       "      <td>21.556478</td>\n",
       "    </tr>\n",
       "    <tr>\n",
       "      <th>14</th>\n",
       "      <td>2010-09-24</td>\n",
       "      <td>134.11</td>\n",
       "      <td>19.423</td>\n",
       "      <td>22.090</td>\n",
       "      <td>16.660</td>\n",
       "      <td>10860.26</td>\n",
       "      <td>131.517744</td>\n",
       "      <td>18.974907</td>\n",
       "      <td>21.667074</td>\n",
       "    </tr>\n",
       "    <tr>\n",
       "      <th>15</th>\n",
       "      <td>2010-09-27</td>\n",
       "      <td>134.65</td>\n",
       "      <td>19.235</td>\n",
       "      <td>22.110</td>\n",
       "      <td>16.430</td>\n",
       "      <td>10812.04</td>\n",
       "      <td>132.162339</td>\n",
       "      <td>19.028433</td>\n",
       "      <td>21.758225</td>\n",
       "    </tr>\n",
       "    <tr>\n",
       "      <th>16</th>\n",
       "      <td>2010-09-28</td>\n",
       "      <td>134.89</td>\n",
       "      <td>19.505</td>\n",
       "      <td>21.863</td>\n",
       "      <td>16.440</td>\n",
       "      <td>10858.14</td>\n",
       "      <td>132.720438</td>\n",
       "      <td>19.125942</td>\n",
       "      <td>21.779662</td>\n",
       "    </tr>\n",
       "    <tr>\n",
       "      <th>17</th>\n",
       "      <td>2010-09-29</td>\n",
       "      <td>135.48</td>\n",
       "      <td>19.240</td>\n",
       "      <td>21.870</td>\n",
       "      <td>16.360</td>\n",
       "      <td>10835.28</td>\n",
       "      <td>133.282475</td>\n",
       "      <td>19.149172</td>\n",
       "      <td>21.798061</td>\n",
       "    </tr>\n",
       "    <tr>\n",
       "      <th>18</th>\n",
       "      <td>2010-09-30</td>\n",
       "      <td>134.14</td>\n",
       "      <td>19.200</td>\n",
       "      <td>21.900</td>\n",
       "      <td>16.250</td>\n",
       "      <td>10788.05</td>\n",
       "      <td>133.456488</td>\n",
       "      <td>19.159486</td>\n",
       "      <td>21.818747</td>\n",
       "    </tr>\n",
       "    <tr>\n",
       "      <th>19</th>\n",
       "      <td>2010-10-01</td>\n",
       "      <td>135.64</td>\n",
       "      <td>19.320</td>\n",
       "      <td>21.910</td>\n",
       "      <td>16.360</td>\n",
       "      <td>10829.68</td>\n",
       "      <td>133.898284</td>\n",
       "      <td>19.191963</td>\n",
       "      <td>21.837211</td>\n",
       "    </tr>\n",
       "  </tbody>\n",
       "</table>\n",
       "</div>"
      ],
      "text/plain": [
       "         Date     IBM    INTC    CSCO      GE  DJ Industrials \\nIndex  \\\n",
       "0  2010-09-03  127.58  18.430  21.040  15.392                10447.93   \n",
       "1  2010-09-07  125.95  18.120  20.580  15.440                10340.69   \n",
       "2  2010-09-08  126.08  17.900  20.640  15.700                10387.01   \n",
       "3  2010-09-09  126.36  18.000  20.610  15.910                10415.24   \n",
       "4  2010-09-10  127.99  17.970  20.620  15.980                10462.77   \n",
       "5  2010-09-13  129.61  18.557  21.260  16.250                10544.13   \n",
       "6  2010-09-14  128.85  18.740  21.450  16.160                10526.49   \n",
       "7  2010-09-15  129.43  18.720  21.590  16.340                10572.73   \n",
       "8  2010-09-16  129.67  18.970  21.930  16.230                10594.83   \n",
       "9  2010-09-17  130.19  18.810  21.863  16.290                10607.85   \n",
       "10 2010-09-20  131.79  18.930  21.750  16.550                10753.62   \n",
       "11 2010-09-21  131.98  19.140  21.640  16.520                10761.03   \n",
       "12 2010-09-22  132.57  19.010  21.670  16.500                10739.31   \n",
       "13 2010-09-23  131.67  18.980  21.530  16.140                10662.42   \n",
       "14 2010-09-24  134.11  19.423  22.090  16.660                10860.26   \n",
       "15 2010-09-27  134.65  19.235  22.110  16.430                10812.04   \n",
       "16 2010-09-28  134.89  19.505  21.863  16.440                10858.14   \n",
       "17 2010-09-29  135.48  19.240  21.870  16.360                10835.28   \n",
       "18 2010-09-30  134.14  19.200  21.900  16.250                10788.05   \n",
       "19 2010-10-01  135.64  19.320  21.910  16.360                10829.68   \n",
       "\n",
       "        es_op1     es_op2     es_op3  \n",
       "0   127.580000  18.430000  21.040000  \n",
       "1   126.674444  18.257778  20.784444  \n",
       "2   126.430820  18.111148  20.725246  \n",
       "3   126.406829  18.073496  20.686206  \n",
       "4   126.877787  18.042708  20.666511  \n",
       "5   127.618368  18.182110  20.827380  \n",
       "6   127.930062  18.323297  20.984948  \n",
       "7   128.290525  18.418632  21.130354  \n",
       "8   128.609191  18.546001  21.315076  \n",
       "9   128.963384  18.605152  21.437843  \n",
       "10  129.581831  18.676227  21.506141  \n",
       "11  130.096857  18.775826  21.534888  \n",
       "12  130.620260  18.825385  21.563483  \n",
       "13  130.839867  18.857731  21.556478  \n",
       "14  131.517744  18.974907  21.667074  \n",
       "15  132.162339  19.028433  21.758225  \n",
       "16  132.720438  19.125942  21.779662  \n",
       "17  133.282475  19.149172  21.798061  \n",
       "18  133.456488  19.159486  21.818747  \n",
       "19  133.898284  19.191963  21.837211  "
      ]
     },
     "execution_count": 12,
     "metadata": {},
     "output_type": "execute_result"
    }
   ],
   "source": [
    "df"
   ]
  },
  {
   "cell_type": "code",
   "execution_count": 13,
   "id": "babed79b-314b-4ffe-b6d9-f2c4ee993bbd",
   "metadata": {},
   "outputs": [
    {
     "data": {
      "image/png": "[encoded data removed]",
      "text/plain": [
       "<Figure size 432x288 with 1 Axes>"
      ]
     },
     "metadata": {
      "needs_background": "light"
     },
     "output_type": "display_data"
    }
   ],
   "source": [
    "plt.plot(df[df.columns[0]],df[df.columns[1]])\n",
    "plt.plot(df[df.columns[0]],df[df.columns[6]])\n",
    "plt.xlabel(\"Date\")\n",
    "plt.ylabel(\"IBM\")\n",
    "plt.title(\"Exponential Smoothing alpha = 0.2\")\n",
    "plt.show()"
   ]
  },
  {
   "cell_type": "code",
   "execution_count": 14,
   "id": "8c2724c4-96b8-4d35-8c63-36384703fa99",
   "metadata": {},
   "outputs": [
    {
     "data": {
      "image/png": "[encoded data removed]",
      "text/plain": [
       "<Figure size 432x288 with 1 Axes>"
      ]
     },
     "metadata": {
      "needs_background": "light"
     },
     "output_type": "display_data"
    }
   ],
   "source": [
    "plt.plot(df[df.columns[0]],df[df.columns[2]])\n",
    "plt.plot(df[df.columns[0]],df[df.columns[7]])\n",
    "plt.xlabel(\"Date\")\n",
    "plt.ylabel(\"INTC\")\n",
    "plt.title(\"Exponential Smoothing alpha = 0.2\")\n",
    "plt.show()"
   ]
  },
  {
   "cell_type": "code",
   "execution_count": 15,
   "id": "3ae63b99-127a-42b5-9d0a-b88e1daa1008",
   "metadata": {},
   "outputs": [
    {
     "data": {
      "image/png": "[encoded data removed]",
      "text/plain": [
       "<Figure size 432x288 with 1 Axes>"
      ]
     },
     "metadata": {
      "needs_background": "light"
     },
     "output_type": "display_data"
    }
   ],
   "source": [
    "plt.plot(df[df.columns[0]],df[df.columns[3]])\n",
    "plt.plot(df[df.columns[0]],df[df.columns[7]])\n",
    "plt.xlabel(\"Date\")\n",
    "plt.ylabel(\"CSCO\")\n",
    "plt.title(\"Exponential Smoothing alpha = 0.2\")\n",
    "plt.show()"
   ]
  },
  {
   "cell_type": "markdown",
   "id": "910df465-d1a8-4577-b5a0-9745b71bf7b3",
   "metadata": {},
   "source": [
    "## 2nd Part :"
   ]
  },
  {
   "cell_type": "code",
   "execution_count": 16,
   "id": "c0506bf2-3533-4690-9065-21436d561c54",
   "metadata": {},
   "outputs": [
    {
     "name": "stderr",
     "output_type": "stream",
     "text": [
      "/home/abhishek/anaconda3/lib/python3.8/site-packages/openpyxl/worksheet/_reader.py:312: UserWarning: Unknown extension is not supported and will be removed\n",
      "  warn(msg)\n"
     ]
    }
   ],
   "source": [
    "df = pd.read_excel('/media/abhishek/589E61B39E618A782/C-DAC Document/Advanced Analytics/Assignment/Datasets/Closing Stock Prices.xlsx', skiprows = 2)"
   ]
  },
  {
   "cell_type": "code",
   "execution_count": 17,
   "id": "044dd530-d6ec-4734-864a-d0515501a36c",
   "metadata": {},
   "outputs": [],
   "source": [
    "df[\"ma_4\"] = df[\"IBM\"].rolling(window = 1).mean().shift(1)\n",
    "df[\"ma_5\"] = df[\"INTC\"].rolling(window = 1).mean().shift(1)\n",
    "df[\"ma_6\"] = df[\"CSCO\"].rolling(window = 1).mean().shift(1)"
   ]
  },
  {
   "cell_type": "code",
   "execution_count": 18,
   "id": "cd85f08a-db21-4e4d-b46c-86c6ff76e501",
   "metadata": {},
   "outputs": [
    {
     "data": {
      "text/html": [
       "<div>\n",
       "<style scoped>\n",
       "    .dataframe tbody tr th:only-of-type {\n",
       "        vertical-align: middle;\n",
       "    }\n",
       "\n",
       "    .dataframe tbody tr th {\n",
       "        vertical-align: top;\n",
       "    }\n",
       "\n",
       "    .dataframe thead th {\n",
       "        text-align: right;\n",
       "    }\n",
       "</style>\n",
       "<table border=\"1\" class=\"dataframe\">\n",
       "  <thead>\n",
       "    <tr style=\"text-align: right;\">\n",
       "      <th></th>\n",
       "      <th>Date</th>\n",
       "      <th>IBM</th>\n",
       "      <th>INTC</th>\n",
       "      <th>CSCO</th>\n",
       "      <th>GE</th>\n",
       "      <th>DJ Industrials \\nIndex</th>\n",
       "      <th>ma_4</th>\n",
       "      <th>ma_5</th>\n",
       "      <th>ma_6</th>\n",
       "    </tr>\n",
       "  </thead>\n",
       "  <tbody>\n",
       "    <tr>\n",
       "      <th>0</th>\n",
       "      <td>2010-09-03</td>\n",
       "      <td>127.58</td>\n",
       "      <td>18.430</td>\n",
       "      <td>21.040</td>\n",
       "      <td>15.392</td>\n",
       "      <td>10447.93</td>\n",
       "      <td>NaN</td>\n",
       "      <td>NaN</td>\n",
       "      <td>NaN</td>\n",
       "    </tr>\n",
       "    <tr>\n",
       "      <th>1</th>\n",
       "      <td>2010-09-07</td>\n",
       "      <td>125.95</td>\n",
       "      <td>18.120</td>\n",
       "      <td>20.580</td>\n",
       "      <td>15.440</td>\n",
       "      <td>10340.69</td>\n",
       "      <td>127.58</td>\n",
       "      <td>18.430</td>\n",
       "      <td>21.040</td>\n",
       "    </tr>\n",
       "    <tr>\n",
       "      <th>2</th>\n",
       "      <td>2010-09-08</td>\n",
       "      <td>126.08</td>\n",
       "      <td>17.900</td>\n",
       "      <td>20.640</td>\n",
       "      <td>15.700</td>\n",
       "      <td>10387.01</td>\n",
       "      <td>125.95</td>\n",
       "      <td>18.120</td>\n",
       "      <td>20.580</td>\n",
       "    </tr>\n",
       "    <tr>\n",
       "      <th>3</th>\n",
       "      <td>2010-09-09</td>\n",
       "      <td>126.36</td>\n",
       "      <td>18.000</td>\n",
       "      <td>20.610</td>\n",
       "      <td>15.910</td>\n",
       "      <td>10415.24</td>\n",
       "      <td>126.08</td>\n",
       "      <td>17.900</td>\n",
       "      <td>20.640</td>\n",
       "    </tr>\n",
       "    <tr>\n",
       "      <th>4</th>\n",
       "      <td>2010-09-10</td>\n",
       "      <td>127.99</td>\n",
       "      <td>17.970</td>\n",
       "      <td>20.620</td>\n",
       "      <td>15.980</td>\n",
       "      <td>10462.77</td>\n",
       "      <td>126.36</td>\n",
       "      <td>18.000</td>\n",
       "      <td>20.610</td>\n",
       "    </tr>\n",
       "    <tr>\n",
       "      <th>5</th>\n",
       "      <td>2010-09-13</td>\n",
       "      <td>129.61</td>\n",
       "      <td>18.557</td>\n",
       "      <td>21.260</td>\n",
       "      <td>16.250</td>\n",
       "      <td>10544.13</td>\n",
       "      <td>127.99</td>\n",
       "      <td>17.970</td>\n",
       "      <td>20.620</td>\n",
       "    </tr>\n",
       "    <tr>\n",
       "      <th>6</th>\n",
       "      <td>2010-09-14</td>\n",
       "      <td>128.85</td>\n",
       "      <td>18.740</td>\n",
       "      <td>21.450</td>\n",
       "      <td>16.160</td>\n",
       "      <td>10526.49</td>\n",
       "      <td>129.61</td>\n",
       "      <td>18.557</td>\n",
       "      <td>21.260</td>\n",
       "    </tr>\n",
       "    <tr>\n",
       "      <th>7</th>\n",
       "      <td>2010-09-15</td>\n",
       "      <td>129.43</td>\n",
       "      <td>18.720</td>\n",
       "      <td>21.590</td>\n",
       "      <td>16.340</td>\n",
       "      <td>10572.73</td>\n",
       "      <td>128.85</td>\n",
       "      <td>18.740</td>\n",
       "      <td>21.450</td>\n",
       "    </tr>\n",
       "    <tr>\n",
       "      <th>8</th>\n",
       "      <td>2010-09-16</td>\n",
       "      <td>129.67</td>\n",
       "      <td>18.970</td>\n",
       "      <td>21.930</td>\n",
       "      <td>16.230</td>\n",
       "      <td>10594.83</td>\n",
       "      <td>129.43</td>\n",
       "      <td>18.720</td>\n",
       "      <td>21.590</td>\n",
       "    </tr>\n",
       "    <tr>\n",
       "      <th>9</th>\n",
       "      <td>2010-09-17</td>\n",
       "      <td>130.19</td>\n",
       "      <td>18.810</td>\n",
       "      <td>21.863</td>\n",
       "      <td>16.290</td>\n",
       "      <td>10607.85</td>\n",
       "      <td>129.67</td>\n",
       "      <td>18.970</td>\n",
       "      <td>21.930</td>\n",
       "    </tr>\n",
       "    <tr>\n",
       "      <th>10</th>\n",
       "      <td>2010-09-20</td>\n",
       "      <td>131.79</td>\n",
       "      <td>18.930</td>\n",
       "      <td>21.750</td>\n",
       "      <td>16.550</td>\n",
       "      <td>10753.62</td>\n",
       "      <td>130.19</td>\n",
       "      <td>18.810</td>\n",
       "      <td>21.863</td>\n",
       "    </tr>\n",
       "    <tr>\n",
       "      <th>11</th>\n",
       "      <td>2010-09-21</td>\n",
       "      <td>131.98</td>\n",
       "      <td>19.140</td>\n",
       "      <td>21.640</td>\n",
       "      <td>16.520</td>\n",
       "      <td>10761.03</td>\n",
       "      <td>131.79</td>\n",
       "      <td>18.930</td>\n",
       "      <td>21.750</td>\n",
       "    </tr>\n",
       "    <tr>\n",
       "      <th>12</th>\n",
       "      <td>2010-09-22</td>\n",
       "      <td>132.57</td>\n",
       "      <td>19.010</td>\n",
       "      <td>21.670</td>\n",
       "      <td>16.500</td>\n",
       "      <td>10739.31</td>\n",
       "      <td>131.98</td>\n",
       "      <td>19.140</td>\n",
       "      <td>21.640</td>\n",
       "    </tr>\n",
       "    <tr>\n",
       "      <th>13</th>\n",
       "      <td>2010-09-23</td>\n",
       "      <td>131.67</td>\n",
       "      <td>18.980</td>\n",
       "      <td>21.530</td>\n",
       "      <td>16.140</td>\n",
       "      <td>10662.42</td>\n",
       "      <td>132.57</td>\n",
       "      <td>19.010</td>\n",
       "      <td>21.670</td>\n",
       "    </tr>\n",
       "    <tr>\n",
       "      <th>14</th>\n",
       "      <td>2010-09-24</td>\n",
       "      <td>134.11</td>\n",
       "      <td>19.423</td>\n",
       "      <td>22.090</td>\n",
       "      <td>16.660</td>\n",
       "      <td>10860.26</td>\n",
       "      <td>131.67</td>\n",
       "      <td>18.980</td>\n",
       "      <td>21.530</td>\n",
       "    </tr>\n",
       "    <tr>\n",
       "      <th>15</th>\n",
       "      <td>2010-09-27</td>\n",
       "      <td>134.65</td>\n",
       "      <td>19.235</td>\n",
       "      <td>22.110</td>\n",
       "      <td>16.430</td>\n",
       "      <td>10812.04</td>\n",
       "      <td>134.11</td>\n",
       "      <td>19.423</td>\n",
       "      <td>22.090</td>\n",
       "    </tr>\n",
       "    <tr>\n",
       "      <th>16</th>\n",
       "      <td>2010-09-28</td>\n",
       "      <td>134.89</td>\n",
       "      <td>19.505</td>\n",
       "      <td>21.863</td>\n",
       "      <td>16.440</td>\n",
       "      <td>10858.14</td>\n",
       "      <td>134.65</td>\n",
       "      <td>19.235</td>\n",
       "      <td>22.110</td>\n",
       "    </tr>\n",
       "    <tr>\n",
       "      <th>17</th>\n",
       "      <td>2010-09-29</td>\n",
       "      <td>135.48</td>\n",
       "      <td>19.240</td>\n",
       "      <td>21.870</td>\n",
       "      <td>16.360</td>\n",
       "      <td>10835.28</td>\n",
       "      <td>134.89</td>\n",
       "      <td>19.505</td>\n",
       "      <td>21.863</td>\n",
       "    </tr>\n",
       "    <tr>\n",
       "      <th>18</th>\n",
       "      <td>2010-09-30</td>\n",
       "      <td>134.14</td>\n",
       "      <td>19.200</td>\n",
       "      <td>21.900</td>\n",
       "      <td>16.250</td>\n",
       "      <td>10788.05</td>\n",
       "      <td>135.48</td>\n",
       "      <td>19.240</td>\n",
       "      <td>21.870</td>\n",
       "    </tr>\n",
       "    <tr>\n",
       "      <th>19</th>\n",
       "      <td>2010-10-01</td>\n",
       "      <td>135.64</td>\n",
       "      <td>19.320</td>\n",
       "      <td>21.910</td>\n",
       "      <td>16.360</td>\n",
       "      <td>10829.68</td>\n",
       "      <td>134.14</td>\n",
       "      <td>19.200</td>\n",
       "      <td>21.900</td>\n",
       "    </tr>\n",
       "  </tbody>\n",
       "</table>\n",
       "</div>"
      ],
      "text/plain": [
       "         Date     IBM    INTC    CSCO      GE  DJ Industrials \\nIndex    ma_4  \\\n",
       "0  2010-09-03  127.58  18.430  21.040  15.392                10447.93     NaN   \n",
       "1  2010-09-07  125.95  18.120  20.580  15.440                10340.69  127.58   \n",
       "2  2010-09-08  126.08  17.900  20.640  15.700                10387.01  125.95   \n",
       "3  2010-09-09  126.36  18.000  20.610  15.910                10415.24  126.08   \n",
       "4  2010-09-10  127.99  17.970  20.620  15.980                10462.77  126.36   \n",
       "5  2010-09-13  129.61  18.557  21.260  16.250                10544.13  127.99   \n",
       "6  2010-09-14  128.85  18.740  21.450  16.160                10526.49  129.61   \n",
       "7  2010-09-15  129.43  18.720  21.590  16.340                10572.73  128.85   \n",
       "8  2010-09-16  129.67  18.970  21.930  16.230                10594.83  129.43   \n",
       "9  2010-09-17  130.19  18.810  21.863  16.290                10607.85  129.67   \n",
       "10 2010-09-20  131.79  18.930  21.750  16.550                10753.62  130.19   \n",
       "11 2010-09-21  131.98  19.140  21.640  16.520                10761.03  131.79   \n",
       "12 2010-09-22  132.57  19.010  21.670  16.500                10739.31  131.98   \n",
       "13 2010-09-23  131.67  18.980  21.530  16.140                10662.42  132.57   \n",
       "14 2010-09-24  134.11  19.423  22.090  16.660                10860.26  131.67   \n",
       "15 2010-09-27  134.65  19.235  22.110  16.430                10812.04  134.11   \n",
       "16 2010-09-28  134.89  19.505  21.863  16.440                10858.14  134.65   \n",
       "17 2010-09-29  135.48  19.240  21.870  16.360                10835.28  134.89   \n",
       "18 2010-09-30  134.14  19.200  21.900  16.250                10788.05  135.48   \n",
       "19 2010-10-01  135.64  19.320  21.910  16.360                10829.68  134.14   \n",
       "\n",
       "      ma_5    ma_6  \n",
       "0      NaN     NaN  \n",
       "1   18.430  21.040  \n",
       "2   18.120  20.580  \n",
       "3   17.900  20.640  \n",
       "4   18.000  20.610  \n",
       "5   17.970  20.620  \n",
       "6   18.557  21.260  \n",
       "7   18.740  21.450  \n",
       "8   18.720  21.590  \n",
       "9   18.970  21.930  \n",
       "10  18.810  21.863  \n",
       "11  18.930  21.750  \n",
       "12  19.140  21.640  \n",
       "13  19.010  21.670  \n",
       "14  18.980  21.530  \n",
       "15  19.423  22.090  \n",
       "16  19.235  22.110  \n",
       "17  19.505  21.863  \n",
       "18  19.240  21.870  \n",
       "19  19.200  21.900  "
      ]
     },
     "execution_count": 18,
     "metadata": {},
     "output_type": "execute_result"
    }
   ],
   "source": [
    "df"
   ]
  },
  {
   "cell_type": "markdown",
   "id": "ba3ad7e0-3851-4e15-be3b-4b678eb5ab9f",
   "metadata": {},
   "source": [
    "### * Using MAD ~"
   ]
  },
  {
   "cell_type": "markdown",
   "id": "93c17091-cad4-4420-ad74-afa439a7f490",
   "metadata": {},
   "source": [
    "#### IBM"
   ]
  },
  {
   "cell_type": "code",
   "execution_count": 19,
   "id": "a8940a16-f455-4c43-9986-45d5df718935",
   "metadata": {},
   "outputs": [],
   "source": [
    "df = df.dropna(how = \"any\")"
   ]
  },
  {
   "cell_type": "code",
   "execution_count": 20,
   "id": "21e03d77-0861-4a09-b5a3-a0aef6d108ac",
   "metadata": {},
   "outputs": [
    {
     "data": {
      "text/plain": [
       "1.2487473684210626"
      ]
     },
     "execution_count": 20,
     "metadata": {},
     "output_type": "execute_result"
    }
   ],
   "source": [
    "mean_squared_error(df[\"IBM\"], df[\"ma_4\"])"
   ]
  },
  {
   "cell_type": "markdown",
   "id": "329d0fff-b9ba-419c-8a64-7e14a3507581",
   "metadata": {},
   "source": [
    "#### INTC"
   ]
  },
  {
   "cell_type": "code",
   "execution_count": 21,
   "id": "65271f05-7aa4-47ed-a7f6-cd5f2262d867",
   "metadata": {},
   "outputs": [],
   "source": [
    "df = df.dropna(how = \"any\")"
   ]
  },
  {
   "cell_type": "code",
   "execution_count": 22,
   "id": "f9ea4ac4-db38-4d9c-8c0b-aa3377cc5dcc",
   "metadata": {},
   "outputs": [
    {
     "data": {
      "text/plain": [
       "0.05731452631578939"
      ]
     },
     "execution_count": 22,
     "metadata": {},
     "output_type": "execute_result"
    }
   ],
   "source": [
    "mean_squared_error(df[\"INTC\"], df[\"ma_5\"])"
   ]
  },
  {
   "cell_type": "markdown",
   "id": "5a5a723d-24f8-4cee-bf25-1da6a45e6337",
   "metadata": {},
   "source": [
    "#### CSCO"
   ]
  },
  {
   "cell_type": "code",
   "execution_count": 23,
   "id": "90a1e328-a24b-46f4-89f2-3194d59a1738",
   "metadata": {},
   "outputs": [],
   "source": [
    "df = df.dropna(how = \"any\")"
   ]
  },
  {
   "cell_type": "code",
   "execution_count": 24,
   "id": "1b7988b7-947d-4c15-8e0d-fc745c709eca",
   "metadata": {},
   "outputs": [
    {
     "data": {
      "text/plain": [
       "0.06436926315789471"
      ]
     },
     "execution_count": 24,
     "metadata": {},
     "output_type": "execute_result"
    }
   ],
   "source": [
    "mean_squared_error(df[\"CSCO\"], df[\"ma_6\"])"
   ]
  },
  {
   "cell_type": "markdown",
   "id": "a39c31cc-e001-467f-b364-cf72fe59113c",
   "metadata": {},
   "source": [
    "### * Using MSE ~"
   ]
  },
  {
   "cell_type": "markdown",
   "id": "40da9e4d-9db7-40d5-be81-bb5962029f20",
   "metadata": {},
   "source": [
    "#### IBM"
   ]
  },
  {
   "cell_type": "code",
   "execution_count": 25,
   "id": "36211da3-3546-47af-a46f-07219893df2f",
   "metadata": {},
   "outputs": [
    {
     "data": {
      "text/plain": [
       "1.2487473684210626"
      ]
     },
     "execution_count": 25,
     "metadata": {},
     "output_type": "execute_result"
    }
   ],
   "source": [
    "mean_squared_error(df[\"IBM\"], df[\"ma_4\"], squared = True)"
   ]
  },
  {
   "cell_type": "markdown",
   "id": "6e9867e8-2bd2-45e8-acc0-d759ca0cd2e8",
   "metadata": {},
   "source": [
    "#### INTC "
   ]
  },
  {
   "cell_type": "code",
   "execution_count": 26,
   "id": "f3621145-95b0-492a-9c8e-794149440901",
   "metadata": {},
   "outputs": [
    {
     "data": {
      "text/plain": [
       "0.05731452631578939"
      ]
     },
     "execution_count": 26,
     "metadata": {},
     "output_type": "execute_result"
    }
   ],
   "source": [
    "mean_squared_error(df[\"INTC\"], df[\"ma_5\"], squared = True)"
   ]
  },
  {
   "cell_type": "markdown",
   "id": "5ae75b83-1ce9-40a6-8991-2b95a85a97c8",
   "metadata": {},
   "source": [
    "#### CSCO"
   ]
  },
  {
   "cell_type": "code",
   "execution_count": 27,
   "id": "8719cffd-4b5b-439d-842b-1f168895b824",
   "metadata": {},
   "outputs": [
    {
     "data": {
      "text/plain": [
       "0.06436926315789471"
      ]
     },
     "execution_count": 27,
     "metadata": {},
     "output_type": "execute_result"
    }
   ],
   "source": [
    "mean_squared_error(df[\"CSCO\"], df[\"ma_6\"], squared = True)"
   ]
  },
  {
   "cell_type": "markdown",
   "id": "7aa8472c-05ba-4c0a-bfab-c5350d75605e",
   "metadata": {},
   "source": [
    "# Question 2 :\n",
    "'''Use simple linear\n",
    "regression to forecast the data. What would be the forecasts for the next 3\n",
    "years?'''"
   ]
  },
  {
   "cell_type": "code",
   "execution_count": 28,
   "id": "2f2a4781-6558-4e62-b055-de2730e3563c",
   "metadata": {},
   "outputs": [
    {
     "name": "stderr",
     "output_type": "stream",
     "text": [
      "/home/abhishek/anaconda3/lib/python3.8/site-packages/openpyxl/worksheet/_reader.py:312: UserWarning: Unknown extension is not supported and will be removed\n",
      "  warn(msg)\n"
     ]
    }
   ],
   "source": [
    "df2 = pd.read_excel('/media/abhishek/589E61B39E618A782/C-DAC Document/Advanced Analytics/Assignment/Datasets/Nuclear Power.xlsx', skiprows = 2)"
   ]
  },
  {
   "cell_type": "code",
   "execution_count": 29,
   "id": "a3ab2733-81b7-49ae-bc2d-171eae99c6e8",
   "metadata": {},
   "outputs": [
    {
     "data": {
      "text/html": [
       "<div>\n",
       "<style scoped>\n",
       "    .dataframe tbody tr th:only-of-type {\n",
       "        vertical-align: middle;\n",
       "    }\n",
       "\n",
       "    .dataframe tbody tr th {\n",
       "        vertical-align: top;\n",
       "    }\n",
       "\n",
       "    .dataframe thead th {\n",
       "        text-align: right;\n",
       "    }\n",
       "</style>\n",
       "<table border=\"1\" class=\"dataframe\">\n",
       "  <thead>\n",
       "    <tr style=\"text-align: right;\">\n",
       "      <th></th>\n",
       "      <th>Year</th>\n",
       "      <th>US</th>\n",
       "      <th>Canada</th>\n",
       "      <th>France</th>\n",
       "      <th>Unnamed: 4</th>\n",
       "    </tr>\n",
       "  </thead>\n",
       "  <tbody>\n",
       "    <tr>\n",
       "      <th>0</th>\n",
       "      <td>1980</td>\n",
       "      <td>251.12</td>\n",
       "      <td>35.88</td>\n",
       "      <td>63.42</td>\n",
       "      <td>NaN</td>\n",
       "    </tr>\n",
       "    <tr>\n",
       "      <th>1</th>\n",
       "      <td>1981</td>\n",
       "      <td>272.67</td>\n",
       "      <td>37.80</td>\n",
       "      <td>99.24</td>\n",
       "      <td>NaN</td>\n",
       "    </tr>\n",
       "    <tr>\n",
       "      <th>2</th>\n",
       "      <td>1982</td>\n",
       "      <td>282.77</td>\n",
       "      <td>36.17</td>\n",
       "      <td>102.63</td>\n",
       "      <td>NaN</td>\n",
       "    </tr>\n",
       "    <tr>\n",
       "      <th>3</th>\n",
       "      <td>1983</td>\n",
       "      <td>293.68</td>\n",
       "      <td>46.22</td>\n",
       "      <td>135.99</td>\n",
       "      <td>NaN</td>\n",
       "    </tr>\n",
       "    <tr>\n",
       "      <th>4</th>\n",
       "      <td>1984</td>\n",
       "      <td>327.63</td>\n",
       "      <td>49.26</td>\n",
       "      <td>180.47</td>\n",
       "      <td>NaN</td>\n",
       "    </tr>\n",
       "    <tr>\n",
       "      <th>5</th>\n",
       "      <td>1985</td>\n",
       "      <td>383.69</td>\n",
       "      <td>57.10</td>\n",
       "      <td>211.19</td>\n",
       "      <td>NaN</td>\n",
       "    </tr>\n",
       "    <tr>\n",
       "      <th>6</th>\n",
       "      <td>1986</td>\n",
       "      <td>414.04</td>\n",
       "      <td>67.23</td>\n",
       "      <td>239.56</td>\n",
       "      <td>NaN</td>\n",
       "    </tr>\n",
       "    <tr>\n",
       "      <th>7</th>\n",
       "      <td>1987</td>\n",
       "      <td>455.27</td>\n",
       "      <td>72.89</td>\n",
       "      <td>249.27</td>\n",
       "      <td>NaN</td>\n",
       "    </tr>\n",
       "    <tr>\n",
       "      <th>8</th>\n",
       "      <td>1988</td>\n",
       "      <td>526.97</td>\n",
       "      <td>78.18</td>\n",
       "      <td>260.29</td>\n",
       "      <td>NaN</td>\n",
       "    </tr>\n",
       "    <tr>\n",
       "      <th>9</th>\n",
       "      <td>1989</td>\n",
       "      <td>529.35</td>\n",
       "      <td>75.35</td>\n",
       "      <td>288.72</td>\n",
       "      <td>NaN</td>\n",
       "    </tr>\n",
       "    <tr>\n",
       "      <th>10</th>\n",
       "      <td>1990</td>\n",
       "      <td>576.86</td>\n",
       "      <td>69.24</td>\n",
       "      <td>298.38</td>\n",
       "      <td>NaN</td>\n",
       "    </tr>\n",
       "    <tr>\n",
       "      <th>11</th>\n",
       "      <td>1991</td>\n",
       "      <td>612.57</td>\n",
       "      <td>80.68</td>\n",
       "      <td>314.77</td>\n",
       "      <td>NaN</td>\n",
       "    </tr>\n",
       "    <tr>\n",
       "      <th>12</th>\n",
       "      <td>1992</td>\n",
       "      <td>618.78</td>\n",
       "      <td>76.55</td>\n",
       "      <td>321.52</td>\n",
       "      <td>NaN</td>\n",
       "    </tr>\n",
       "    <tr>\n",
       "      <th>13</th>\n",
       "      <td>1993</td>\n",
       "      <td>610.29</td>\n",
       "      <td>90.08</td>\n",
       "      <td>349.78</td>\n",
       "      <td>NaN</td>\n",
       "    </tr>\n",
       "    <tr>\n",
       "      <th>14</th>\n",
       "      <td>1994</td>\n",
       "      <td>640.44</td>\n",
       "      <td>102.44</td>\n",
       "      <td>341.98</td>\n",
       "      <td>NaN</td>\n",
       "    </tr>\n",
       "    <tr>\n",
       "      <th>15</th>\n",
       "      <td>1995</td>\n",
       "      <td>673.40</td>\n",
       "      <td>92.95</td>\n",
       "      <td>358.37</td>\n",
       "      <td>NaN</td>\n",
       "    </tr>\n",
       "    <tr>\n",
       "      <th>16</th>\n",
       "      <td>1996</td>\n",
       "      <td>674.73</td>\n",
       "      <td>88.13</td>\n",
       "      <td>377.47</td>\n",
       "      <td>NaN</td>\n",
       "    </tr>\n",
       "    <tr>\n",
       "      <th>17</th>\n",
       "      <td>1997</td>\n",
       "      <td>628.64</td>\n",
       "      <td>77.86</td>\n",
       "      <td>375.71</td>\n",
       "      <td>NaN</td>\n",
       "    </tr>\n",
       "    <tr>\n",
       "      <th>18</th>\n",
       "      <td>1998</td>\n",
       "      <td>673.70</td>\n",
       "      <td>67.74</td>\n",
       "      <td>368.59</td>\n",
       "      <td>NaN</td>\n",
       "    </tr>\n",
       "    <tr>\n",
       "      <th>19</th>\n",
       "      <td>1999</td>\n",
       "      <td>728.25</td>\n",
       "      <td>69.82</td>\n",
       "      <td>374.53</td>\n",
       "      <td>NaN</td>\n",
       "    </tr>\n",
       "    <tr>\n",
       "      <th>20</th>\n",
       "      <td>2000</td>\n",
       "      <td>753.89</td>\n",
       "      <td>69.16</td>\n",
       "      <td>394.40</td>\n",
       "      <td>NaN</td>\n",
       "    </tr>\n",
       "    <tr>\n",
       "      <th>21</th>\n",
       "      <td>2001</td>\n",
       "      <td>768.83</td>\n",
       "      <td>72.86</td>\n",
       "      <td>400.02</td>\n",
       "      <td>NaN</td>\n",
       "    </tr>\n",
       "    <tr>\n",
       "      <th>22</th>\n",
       "      <td>2002</td>\n",
       "      <td>780.06</td>\n",
       "      <td>71.75</td>\n",
       "      <td>414.92</td>\n",
       "      <td>NaN</td>\n",
       "    </tr>\n",
       "    <tr>\n",
       "      <th>23</th>\n",
       "      <td>2003</td>\n",
       "      <td>763.73</td>\n",
       "      <td>71.15</td>\n",
       "      <td>419.02</td>\n",
       "      <td>NaN</td>\n",
       "    </tr>\n",
       "    <tr>\n",
       "      <th>24</th>\n",
       "      <td>2004</td>\n",
       "      <td>788.53</td>\n",
       "      <td>85.87</td>\n",
       "      <td>425.83</td>\n",
       "      <td>NaN</td>\n",
       "    </tr>\n",
       "    <tr>\n",
       "      <th>25</th>\n",
       "      <td>2005</td>\n",
       "      <td>781.99</td>\n",
       "      <td>87.44</td>\n",
       "      <td>428.95</td>\n",
       "      <td>NaN</td>\n",
       "    </tr>\n",
       "    <tr>\n",
       "      <th>26</th>\n",
       "      <td>2006</td>\n",
       "      <td>787.22</td>\n",
       "      <td>93.07</td>\n",
       "      <td>427.68</td>\n",
       "      <td>NaN</td>\n",
       "    </tr>\n",
       "  </tbody>\n",
       "</table>\n",
       "</div>"
      ],
      "text/plain": [
       "    Year      US  Canada  France  Unnamed: 4\n",
       "0   1980  251.12   35.88   63.42         NaN\n",
       "1   1981  272.67   37.80   99.24         NaN\n",
       "2   1982  282.77   36.17  102.63         NaN\n",
       "3   1983  293.68   46.22  135.99         NaN\n",
       "4   1984  327.63   49.26  180.47         NaN\n",
       "5   1985  383.69   57.10  211.19         NaN\n",
       "6   1986  414.04   67.23  239.56         NaN\n",
       "7   1987  455.27   72.89  249.27         NaN\n",
       "8   1988  526.97   78.18  260.29         NaN\n",
       "9   1989  529.35   75.35  288.72         NaN\n",
       "10  1990  576.86   69.24  298.38         NaN\n",
       "11  1991  612.57   80.68  314.77         NaN\n",
       "12  1992  618.78   76.55  321.52         NaN\n",
       "13  1993  610.29   90.08  349.78         NaN\n",
       "14  1994  640.44  102.44  341.98         NaN\n",
       "15  1995  673.40   92.95  358.37         NaN\n",
       "16  1996  674.73   88.13  377.47         NaN\n",
       "17  1997  628.64   77.86  375.71         NaN\n",
       "18  1998  673.70   67.74  368.59         NaN\n",
       "19  1999  728.25   69.82  374.53         NaN\n",
       "20  2000  753.89   69.16  394.40         NaN\n",
       "21  2001  768.83   72.86  400.02         NaN\n",
       "22  2002  780.06   71.75  414.92         NaN\n",
       "23  2003  763.73   71.15  419.02         NaN\n",
       "24  2004  788.53   85.87  425.83         NaN\n",
       "25  2005  781.99   87.44  428.95         NaN\n",
       "26  2006  787.22   93.07  427.68         NaN"
      ]
     },
     "execution_count": 29,
     "metadata": {},
     "output_type": "execute_result"
    }
   ],
   "source": [
    "df2"
   ]
  },
  {
   "cell_type": "markdown",
   "id": "148c1815-dbfa-4f55-8bb3-0e55d33243d3",
   "metadata": {},
   "source": [
    "## US"
   ]
  },
  {
   "cell_type": "code",
   "execution_count": 30,
   "id": "10008bbc-bc90-47cf-9feb-e2f156ae050e",
   "metadata": {},
   "outputs": [
    {
     "data": {
      "text/plain": [
       "LinearRegression()"
      ]
     },
     "execution_count": 30,
     "metadata": {},
     "output_type": "execute_result"
    }
   ],
   "source": [
    "X1 = df2.iloc[:, 0].values \n",
    "Y1 = df2.iloc[:, 1].values  \n",
    "#linear_regressor = LinearRegression()  \n",
    "#linear_regressor.fit(X1, Y1)  \n",
    "#Y_pred1 = linear_regressor.predict(X1) \n",
    "X_train,X_test,Y_train,Y_test = train_test_split(X1, Y1,test_size = 0.2, random_state = 10)\n",
    "linear_regressor = LinearRegression()\n",
    "X_train = np.array(X_train).reshape(-1,1)\n",
    "Y_train = np.array(Y_train)\n",
    "linear_regressor.fit(X_train,Y_train)"
   ]
  },
  {
   "cell_type": "code",
   "execution_count": 31,
   "id": "c59ed813-dfad-4487-bc29-639a206cd146",
   "metadata": {},
   "outputs": [
    {
     "data": {
      "text/plain": [
       "array([446.40985127, 403.0373247 , 684.95874742, 750.01753727,\n",
       "       533.15490441, 316.29227155])"
      ]
     },
     "execution_count": 31,
     "metadata": {},
     "output_type": "execute_result"
    }
   ],
   "source": [
    "#plt.scatter(X1, Y1)\n",
    "#plt.plot(X1, Y_pred1, color='red')\n",
    "#plt.show()\n",
    "X_test = np.array(X_test).reshape(-1,1)\n",
    "Y_prid = linear_regressor.predict(X_test)\n",
    "Y_prid"
   ]
  },
  {
   "cell_type": "code",
   "execution_count": 32,
   "id": "e2dc8595-ea65-4066-8974-b54cf2d17dc7",
   "metadata": {},
   "outputs": [
    {
     "data": {
      "text/plain": [
       "0.9485437511974354"
      ]
     },
     "execution_count": 32,
     "metadata": {},
     "output_type": "execute_result"
    }
   ],
   "source": [
    "data = pd.DataFrame({'actual' : Y_test, 'predicted ' : Y_prid}).reset_index().drop('index', axis = 1)\n",
    "r2_score(Y_test, Y_prid)"
   ]
  },
  {
   "cell_type": "code",
   "execution_count": 33,
   "id": "6780ffac-1cc4-4d3c-85ef-23675dceabce",
   "metadata": {},
   "outputs": [
    {
     "data": {
      "text/plain": [
       "array([[2007],\n",
       "       [2008],\n",
       "       [2009]])"
      ]
     },
     "execution_count": 33,
     "metadata": {},
     "output_type": "execute_result"
    }
   ],
   "source": [
    "res = np.array([2007, 2008, 2009]).reshape(-1,1)\n",
    "res"
   ]
  },
  {
   "cell_type": "code",
   "execution_count": 34,
   "id": "87b6f460-4fd4-46f1-98f1-4c3beb23d003",
   "metadata": {},
   "outputs": [
    {
     "data": {
      "text/plain": [
       "array([880.13511699, 901.82138028, 923.50764356])"
      ]
     },
     "execution_count": 34,
     "metadata": {},
     "output_type": "execute_result"
    }
   ],
   "source": [
    "Y_Pred1 = linear_regressor.predict(res)\n",
    "Y_Pred1"
   ]
  },
  {
   "cell_type": "markdown",
   "id": "fe9db750-9c8b-4c0e-920b-4068bcfd91c1",
   "metadata": {},
   "source": [
    "## Canada"
   ]
  },
  {
   "cell_type": "code",
   "execution_count": 35,
   "id": "a3f274d0-9ba3-483c-8a5d-15269e08ec5f",
   "metadata": {},
   "outputs": [
    {
     "data": {
      "text/plain": [
       "LinearRegression()"
      ]
     },
     "execution_count": 35,
     "metadata": {},
     "output_type": "execute_result"
    }
   ],
   "source": [
    "X2 = df2.iloc[:, 0].values  \n",
    "Y2 = df2.iloc[:, 2].values  \n",
    "#linear_regressor = LinearRegression()  \n",
    "#linear_regressor.fit(X1, Y2)  \n",
    "#Y_pred2 = linear_regressor.predict(X1)  \n",
    "X1_train,X1_test,Y1_train,Y1_test = train_test_split(X2, Y2, test_size = 0.2, random_state = 10)\n",
    "linear_regressor = LinearRegression()\n",
    "X1_train = np.array(X1_train).reshape(-1,1)\n",
    "Y1_train = np.array(Y1_train)\n",
    "linear_regressor.fit(X1_train, Y1_train)"
   ]
  },
  {
   "cell_type": "code",
   "execution_count": 36,
   "id": "36b90af2-f2b1-401c-a814-614d923ddd8a",
   "metadata": {},
   "outputs": [
    {
     "data": {
      "text/plain": [
       "array([62.54938035, 59.4250823 , 79.73301963, 84.41946671, 68.79797645,\n",
       "       53.1764862 ])"
      ]
     },
     "execution_count": 36,
     "metadata": {},
     "output_type": "execute_result"
    }
   ],
   "source": [
    "#plt.scatter(X1, Y2)\n",
    "#plt.plot(X1, Y_pred2, color='red')\n",
    "#plt.show()\n",
    "X1_test = np.array(X1_test).reshape(-1,1)\n",
    "Y1_prid = linear_regressor.predict(X1_test)\n",
    "Y1_prid"
   ]
  },
  {
   "cell_type": "code",
   "execution_count": 37,
   "id": "a350de3b-4ac7-47fc-bae3-71cdf5808425",
   "metadata": {},
   "outputs": [
    {
     "data": {
      "text/plain": [
       "0.3493835420388446"
      ]
     },
     "execution_count": 37,
     "metadata": {},
     "output_type": "execute_result"
    }
   ],
   "source": [
    "data = pd.DataFrame({'actual' : Y1_test, 'predicted ' : Y1_prid}).reset_index().drop('index', axis = 1)\n",
    "r2_score(Y1_test, Y1_prid)"
   ]
  },
  {
   "cell_type": "code",
   "execution_count": 38,
   "id": "cdb65413-8ce1-4513-8b05-917c16f08723",
   "metadata": {},
   "outputs": [
    {
     "data": {
      "text/plain": [
       "array([[2007],\n",
       "       [2008],\n",
       "       [2009]])"
      ]
     },
     "execution_count": 38,
     "metadata": {},
     "output_type": "execute_result"
    }
   ],
   "source": [
    "res = np.array([2007, 2008, 2009]).reshape(-1,1)\n",
    "res"
   ]
  },
  {
   "cell_type": "code",
   "execution_count": 39,
   "id": "7fc56c22-d5ba-493b-8869-3bb24c1f8332",
   "metadata": {},
   "outputs": [
    {
     "data": {
      "text/plain": [
       "array([93.79236087, 95.35450989, 96.91665892])"
      ]
     },
     "execution_count": 39,
     "metadata": {},
     "output_type": "execute_result"
    }
   ],
   "source": [
    "Y_pred2 = linear_regressor.predict(res)\n",
    "Y_pred2"
   ]
  },
  {
   "cell_type": "markdown",
   "id": "46c4ec74-8cef-4aa1-8ba4-ef6fb6bdff71",
   "metadata": {},
   "source": [
    "## France"
   ]
  },
  {
   "cell_type": "code",
   "execution_count": 40,
   "id": "35d04733-02b4-433e-a6ef-287f328d40b3",
   "metadata": {},
   "outputs": [
    {
     "data": {
      "text/plain": [
       "LinearRegression()"
      ]
     },
     "execution_count": 40,
     "metadata": {},
     "output_type": "execute_result"
    }
   ],
   "source": [
    "X3 = df2.iloc[:, 0].values  # values converts it into a numpy array {using .reshape(-1,1) function it shows ~\"error: If using all scalar values, you must pass an index\"}\n",
    "Y3 = df2.iloc[:, 3].values  # -1 means that calculate the dimension of rows, but have 1 column\n",
    "#linear_regressor = LinearRegression()  # create object for the class\n",
    "#linear_regressor.fit(X1, Y3)  # perform linear regression\n",
    "#Y_pred3 = linear_regressor.predict(X1)  # make predictions\n",
    "X2_train,X2_test,Y2_train,Y2_test = train_test_split(X3, Y3,test_size = 0.2, random_state = 10)\n",
    "linear_regressor = LinearRegression()\n",
    "X2_train = np.array(X2_train).reshape(-1,1)\n",
    "Y2_train = np.array(Y2_train)\n",
    "linear_regressor.fit(X2_train, Y2_train)"
   ]
  },
  {
   "cell_type": "code",
   "execution_count": 41,
   "id": "b3b5f5ae-5b4b-4738-b88e-c18d74ef1dc0",
   "metadata": {},
   "outputs": [
    {
     "data": {
      "text/plain": [
       "array([224.69254687, 198.29429842, 369.88291335, 409.48028602,\n",
       "       277.48904377, 145.49780152])"
      ]
     },
     "execution_count": 41,
     "metadata": {},
     "output_type": "execute_result"
    }
   ],
   "source": [
    "#plt.scatter(X1, Y3)\n",
    "#plt.plot(X1, Y_pred3, color='red')\n",
    "#plt.show()\n",
    "X2_test = np.array(X2_test).reshape(-1,1)\n",
    "Y2_prid = linear_regressor.predict(X2_test)\n",
    "Y2_prid"
   ]
  },
  {
   "cell_type": "code",
   "execution_count": 42,
   "id": "70577304-d384-4709-8244-126e3d62f7d9",
   "metadata": {},
   "outputs": [
    {
     "data": {
      "text/plain": [
       "0.9287009375411653"
      ]
     },
     "execution_count": 42,
     "metadata": {},
     "output_type": "execute_result"
    }
   ],
   "source": [
    "data = pd.DataFrame({'actual' : Y2_test, 'predicted ' : Y2_prid}).reset_index().drop('index', axis = 1)\n",
    "r2_score(Y2_test, Y2_prid)"
   ]
  },
  {
   "cell_type": "code",
   "execution_count": 43,
   "id": "bb86ff84-15d2-4051-8392-a31bd6f48bdf",
   "metadata": {},
   "outputs": [
    {
     "data": {
      "text/plain": [
       "array([[2007],\n",
       "       [2008],\n",
       "       [2009]])"
      ]
     },
     "execution_count": 43,
     "metadata": {},
     "output_type": "execute_result"
    }
   ],
   "source": [
    "res = np.array([2007, 2008, 2009]).reshape(-1,1)\n",
    "res"
   ]
  },
  {
   "cell_type": "code",
   "execution_count": 44,
   "id": "f9852c6c-cb17-4ff4-aeb2-bcf91458db59",
   "metadata": {},
   "outputs": [
    {
     "data": {
      "text/plain": [
       "array([488.67503137, 501.87415559, 515.07327982])"
      ]
     },
     "execution_count": 44,
     "metadata": {},
     "output_type": "execute_result"
    }
   ],
   "source": [
    "Y_pred3 = linear_regressor.predict(res)\n",
    "Y_pred3"
   ]
  },
  {
   "cell_type": "code",
   "execution_count": null,
   "id": "bf6ecfc4-70dc-4ffe-a469-9c9eef62f769",
   "metadata": {},
   "outputs": [],
   "source": []
  }
 ],
 "metadata": {
  "kernelspec": {
   "display_name": "Python 3",
   "language": "python",
   "name": "python3"
  },
  "language_info": {
   "codemirror_mode": {
    "name": "ipython",
    "version": 3
   },
   "file_extension": ".py",
   "mimetype": "text/x-python",
   "name": "python",
   "nbconvert_exporter": "python",
   "pygments_lexer": "ipython3",
   "version": "3.8.8"
  }
 },
 "nbformat": 4,
 "nbformat_minor": 5
}
