{
 "cells": [
  {
   "cell_type": "code",
   "execution_count": 237,
   "id": "6df83674-f396-4bcc-ad75-4f9f1eebfb90",
   "metadata": {},
   "outputs": [],
   "source": [
    "import numpy as np\n",
    "import pandas as pd\n",
    "import matplotlib.pyplot as plt\n",
    "from scipy import stats"
   ]
  },
  {
   "cell_type": "markdown",
   "id": "346afa62-0b58-4345-8204-975412ad913f",
   "metadata": {},
   "source": [
    "# Question 1 :\n",
    "## The time required to play a game of Battleship is uniformly distributed between 15 and 60 minutes."
   ]
  },
  {
   "cell_type": "markdown",
   "id": "7c3bcc4d-3884-4b14-a49c-896d6ef10526",
   "metadata": {},
   "source": [
    "### a. Find the expected value and variance of the time to complete the game."
   ]
  },
  {
   "cell_type": "code",
   "execution_count": 238,
   "id": "5537e311-ab6d-4eaa-8bee-9171d0c75f86",
   "metadata": {},
   "outputs": [
    {
     "data": {
      "text/plain": [
       "(array(37.5), array(168.75))"
      ]
     },
     "execution_count": 238,
     "metadata": {},
     "output_type": "execute_result"
    }
   ],
   "source": [
    "stats.uniform.stats(loc=15,scale=45,moments='mv')"
   ]
  },
  {
   "cell_type": "markdown",
   "id": "6eb74cd8-ac30-4371-8197-c54cb77ebc10",
   "metadata": {},
   "source": [
    "### b. What is the probability of finishing within 30 minutes?"
   ]
  },
  {
   "cell_type": "code",
   "execution_count": 239,
   "id": "cdd5e87b-83c9-4cf7-9d31-69f47d8f6257",
   "metadata": {},
   "outputs": [
    {
     "name": "stdout",
     "output_type": "stream",
     "text": [
      "probability for less than 30 min \n",
      " 0.3333333333333333\n"
     ]
    }
   ],
   "source": [
    "print(\"probability for less than 30 min \\n\",stats.uniform.cdf(x=30,loc=15,scale=45))"
   ]
  },
  {
   "cell_type": "markdown",
   "id": "7027d5d4-330f-47ec-9221-873b825fddfc",
   "metadata": {},
   "source": [
    "### c. What is the probability that the game would take longer than 40 minutes?"
   ]
  },
  {
   "cell_type": "code",
   "execution_count": 240,
   "id": "5c6d5d94-951c-4f7a-8f2c-02956385a851",
   "metadata": {},
   "outputs": [
    {
     "name": "stdout",
     "output_type": "stream",
     "text": [
      "probability for longer than 40 min \n",
      " 0.5555555555555556\n"
     ]
    }
   ],
   "source": [
    "print(\"probability for longer than 40 min \\n\",stats.uniform.cdf(x=40,loc=15,scale=45))"
   ]
  },
  {
   "cell_type": "markdown",
   "id": "60b704ab-2715-4359-85a8-6301c7f86993",
   "metadata": {},
   "source": [
    "# Question 2 : \n",
    "### The distribution of the SAT scores in math for an incoming class of business students has a mean of 590 and standard deviation of 22. Assume that the score are normally distributed."
   ]
  },
  {
   "cell_type": "markdown",
   "id": "6c5e05db-bcee-495e-aff8-66696b1f35cd",
   "metadata": {},
   "source": [
    "### a. Find the probability that an individual’s SAT score is less than 550."
   ]
  },
  {
   "cell_type": "code",
   "execution_count": 241,
   "id": "7a879fcf-b667-4bba-b17b-c3b01496f0e3",
   "metadata": {},
   "outputs": [
    {
     "name": "stdout",
     "output_type": "stream",
     "text": [
      "probability that an individual’s SAT score is less than 550\n",
      " 0.03451817399720763\n"
     ]
    }
   ],
   "source": [
    "prob_less_550=stats.norm.cdf(550,590,22)\n",
    "print(\"probability that an individual’s SAT score is less than 550\\n\",prob_less_550)"
   ]
  },
  {
   "cell_type": "markdown",
   "id": "a97b3ba7-3df2-4ca0-82d7-523ae288623f",
   "metadata": {},
   "source": [
    "### b. Find the probability that an individual’s SAT score is between 550 and 600."
   ]
  },
  {
   "cell_type": "code",
   "execution_count": 242,
   "id": "251c4b8a-a56d-482c-9417-861466faf39d",
   "metadata": {},
   "outputs": [
    {
     "name": "stdout",
     "output_type": "stream",
     "text": [
      "probability that an individual’s SAT score is between 550 and 600\n",
      " 0.6407636841394151\n"
     ]
    }
   ],
   "source": [
    "prob_less_600=stats.norm.cdf(600,590,22)\n",
    "print(\"probability that an individual’s SAT score is between 550 and 600\\n\",prob_less_600-prob_less_550)"
   ]
  },
  {
   "cell_type": "markdown",
   "id": "d3562902-4a07-41d9-a024-947342283619",
   "metadata": {},
   "source": [
    "### c. Find the probability that an individual’s SAT score is greater than 620."
   ]
  },
  {
   "cell_type": "code",
   "execution_count": 243,
   "id": "21b59a03-70e2-4e35-ae80-89fc5f7335ae",
   "metadata": {},
   "outputs": [
    {
     "name": "stdout",
     "output_type": "stream",
     "text": [
      "probability that an individual’s SAT score is greater than 620\n",
      " 0.08634102070937422\n"
     ]
    }
   ],
   "source": [
    "prob_less_620=stats.norm.cdf(620,590,22)\n",
    "print(\"probability that an individual’s SAT score is greater than 620\\n\",1-prob_less_620)"
   ]
  },
  {
   "cell_type": "markdown",
   "id": "46f4d20b-1d6f-425d-91f8-ffe55caff211",
   "metadata": {},
   "source": [
    "### d. What percentage of students will have score better than 700?"
   ]
  },
  {
   "cell_type": "code",
   "execution_count": 244,
   "id": "93febcd7-a316-4477-bafc-1ccc7326fdc7",
   "metadata": {},
   "outputs": [
    {
     "name": "stdout",
     "output_type": "stream",
     "text": [
      "percentage of students will have score better than 700\n",
      " 2.866515719235352e-05\n"
     ]
    }
   ],
   "source": [
    "prob_greater_700=1-stats.norm.cdf(700,590,22)\n",
    "print(\"percentage of students will have score better than 700\\n\",prob_greater_700*100)"
   ]
  },
  {
   "cell_type": "markdown",
   "id": "5b057df8-1ca8-4f96-a56c-eaa85434a316",
   "metadata": {},
   "source": [
    "### e. Find the standardized values for students scoring 550, 600, 650 and 700 on the test."
   ]
  },
  {
   "cell_type": "code",
   "execution_count": 245,
   "id": "78ff7080-b59b-48df-a59b-dd60c587c357",
   "metadata": {},
   "outputs": [],
   "source": [
    "def z_score(m,s,x):\n",
    "    return (x-m)/s"
   ]
  },
  {
   "cell_type": "code",
   "execution_count": 246,
   "id": "d827ebe4-fe94-408b-b45f-807f4b5a69c1",
   "metadata": {},
   "outputs": [
    {
     "name": "stdout",
     "output_type": "stream",
     "text": [
      "Standard value of 550 -1.8181818181818181\n",
      "Standard value of 600 0.45454545454545453\n",
      "Standard value of 650 2.727272727272727\n",
      "Standard value of 700 5.0\n"
     ]
    }
   ],
   "source": [
    "mean=590\n",
    "std=22\n",
    "lst=[550,600,650,700]\n",
    "for x in lst:\n",
    "    print(f\"Standard value of {x}\",z_score(mean,std,x))"
   ]
  },
  {
   "cell_type": "markdown",
   "id": "90018cf8-0cd6-4771-afe6-ed00ee1f600a",
   "metadata": {},
   "source": [
    "# Question 3 :\n",
    "### The actual delivery time from Giodanni’s Pizza is exponentially distributed with a mean of 20 minutes."
   ]
  },
  {
   "cell_type": "markdown",
   "id": "9670ac79-dc89-410f-adee-6304d6b9d5e4",
   "metadata": {},
   "source": [
    "### a. What is the probability that the delivery time will exceed 30 minutes?"
   ]
  },
  {
   "cell_type": "code",
   "execution_count": 247,
   "id": "7a43576e-fc83-4bee-838d-37a46706361a",
   "metadata": {},
   "outputs": [
    {
     "name": "stdout",
     "output_type": "stream",
     "text": [
      "probability that the delivery time will exceed 30 minutes\n",
      " 0.0025036640502020813\n"
     ]
    }
   ],
   "source": [
    "exp_less_30=stats.expon.cdf(30,loc=1/20,scale=5)\n",
    "print(\"probability that the delivery time will exceed 30 minutes\\n\",exp_greater_30)"
   ]
  },
  {
   "cell_type": "markdown",
   "id": "ccb09b5f-9bcc-4b22-9e42-3d777a24e3fc",
   "metadata": {},
   "source": [
    "### b. What portion of deliveries will be completed within 20 minutes?"
   ]
  },
  {
   "cell_type": "code",
   "execution_count": 248,
   "id": "63736e8d-ee24-4b99-96a2-c63be9d03d5d",
   "metadata": {},
   "outputs": [
    {
     "name": "stdout",
     "output_type": "stream",
     "text": [
      "portion of deliveries will be completed within 20 minutes in percentage\n",
      " 98.15002858801807\n"
     ]
    }
   ],
   "source": [
    "exp_less_20=stats.expon.cdf(20,loc=1/20,scale=5)\n",
    "exp_less_20\n",
    "print(\"portion of deliveries will be completed within 20 minutes in percentage\\n\",exp_less_20*100)"
   ]
  },
  {
   "cell_type": "markdown",
   "id": "238b7a1e-3db0-4c48-8a4f-e1da704ae07e",
   "metadata": {},
   "source": [
    "# Question 4 :"
   ]
  },
  {
   "cell_type": "markdown",
   "id": "d8d86241-36ca-4510-b1b4-f8ead9d4e6f3",
   "metadata": {},
   "source": [
    "## Perform Butler Inventory level simulation using python."
   ]
  },
  {
   "cell_type": "code",
   "execution_count": 249,
   "id": "b6aa9fab-a449-4116-85ac-0877122239e7",
   "metadata": {},
   "outputs": [],
   "source": [
    "def Simulation(demandList):\n",
    "    fan_cost=75\n",
    "    fan_price=125\n",
    "    replenish_Quantity=100\n",
    "    Holding_cost_per_order=15\n",
    "    Shortage_cost_per_order=30\n",
    "    Profit_per_Order=fan_price-fan_cost\n",
    "    df=pd.DataFrame(columns=['Month','Sales','Gross Profit','Holding Cost','Shortage Cost','Net Profit'])\n",
    "    i=1\n",
    "    for demand in demandList:\n",
    "        if(demand<replenish_Quantity):\n",
    "            Gross_Profit=Profit_per_Order*demand\n",
    "            Total_Holding_cost=Holding_cost_per_order*(replenish_Quantity-demand)\n",
    "            Net_Profit=Gross_Profit-Total_Holding_cost\n",
    "            Sales=demand\n",
    "            d={'Month':i,'Sales':Sales,'Gross Profit':Gross_Profit,'Holding Cost':Total_Holding_cost,'Shortage Cost':0,'Net Profit':Net_Profit}\n",
    "        else:\n",
    "            Gross_Profit=Profit_per_Order*replenish_Quantity\n",
    "            Total_Shortage_cost=Shortage_cost_per_order*(demand-replenish_Quantity)\n",
    "            Net_Profit=Gross_Profit-Total_Shortage_cost\n",
    "            Sales=replenish_Quantity\n",
    "            d={'Month':i,'Sales':Sales,'Gross Profit':Gross_Profit,'Holding Cost':0,'Shortage Cost':Total_Shortage_cost,'Net Profit':Net_Profit}\n",
    "            \n",
    "        print(d)\n",
    "        i=i+1\n",
    "    "
   ]
  },
  {
   "cell_type": "code",
   "execution_count": 250,
   "id": "ad0dd893-33bd-4206-9090-35f7708caa1e",
   "metadata": {},
   "outputs": [
    {
     "data": {
      "text/plain": [
       "array([102.,  58., 121.,  72., 111., 100., 125.,  62.,  88.,  76.,  61.,\n",
       "        88., 108.,  94., 107., 109.,  49., 112., 122., 136.])"
      ]
     },
     "execution_count": 250,
     "metadata": {},
     "output_type": "execute_result"
    }
   ],
   "source": [
    "Mean_Demand=100\n",
    "Std_Demand=30\n",
    "demandList=stats.norm.rvs(loc=Mean_demand,scale=Std_Demand,size=20).round()\n",
    "demand"
   ]
  },
  {
   "cell_type": "code",
   "execution_count": 251,
   "id": "2087ca23-0be5-43b2-93e8-e38728ecbb5e",
   "metadata": {},
   "outputs": [
    {
     "name": "stdout",
     "output_type": "stream",
     "text": [
      "{'Month': 1, 'Sales': 100, 'Gross Profit': 5000, 'Holding Cost': 0, 'Shortage Cost': 60.0, 'Net Profit': 4940.0}\n",
      "{'Month': 2, 'Sales': 58.0, 'Gross Profit': 2900.0, 'Holding Cost': 630.0, 'Shortage Cost': 0, 'Net Profit': 2270.0}\n",
      "{'Month': 3, 'Sales': 100, 'Gross Profit': 5000, 'Holding Cost': 0, 'Shortage Cost': 630.0, 'Net Profit': 4370.0}\n",
      "{'Month': 4, 'Sales': 72.0, 'Gross Profit': 3600.0, 'Holding Cost': 420.0, 'Shortage Cost': 0, 'Net Profit': 3180.0}\n",
      "{'Month': 5, 'Sales': 100, 'Gross Profit': 5000, 'Holding Cost': 0, 'Shortage Cost': 330.0, 'Net Profit': 4670.0}\n",
      "{'Month': 6, 'Sales': 100, 'Gross Profit': 5000, 'Holding Cost': 0, 'Shortage Cost': 0.0, 'Net Profit': 5000.0}\n",
      "{'Month': 7, 'Sales': 100, 'Gross Profit': 5000, 'Holding Cost': 0, 'Shortage Cost': 750.0, 'Net Profit': 4250.0}\n",
      "{'Month': 8, 'Sales': 62.0, 'Gross Profit': 3100.0, 'Holding Cost': 570.0, 'Shortage Cost': 0, 'Net Profit': 2530.0}\n",
      "{'Month': 9, 'Sales': 88.0, 'Gross Profit': 4400.0, 'Holding Cost': 180.0, 'Shortage Cost': 0, 'Net Profit': 4220.0}\n",
      "{'Month': 10, 'Sales': 76.0, 'Gross Profit': 3800.0, 'Holding Cost': 360.0, 'Shortage Cost': 0, 'Net Profit': 3440.0}\n",
      "{'Month': 11, 'Sales': 61.0, 'Gross Profit': 3050.0, 'Holding Cost': 585.0, 'Shortage Cost': 0, 'Net Profit': 2465.0}\n",
      "{'Month': 12, 'Sales': 88.0, 'Gross Profit': 4400.0, 'Holding Cost': 180.0, 'Shortage Cost': 0, 'Net Profit': 4220.0}\n",
      "{'Month': 13, 'Sales': 100, 'Gross Profit': 5000, 'Holding Cost': 0, 'Shortage Cost': 240.0, 'Net Profit': 4760.0}\n",
      "{'Month': 14, 'Sales': 94.0, 'Gross Profit': 4700.0, 'Holding Cost': 90.0, 'Shortage Cost': 0, 'Net Profit': 4610.0}\n",
      "{'Month': 15, 'Sales': 100, 'Gross Profit': 5000, 'Holding Cost': 0, 'Shortage Cost': 210.0, 'Net Profit': 4790.0}\n",
      "{'Month': 16, 'Sales': 100, 'Gross Profit': 5000, 'Holding Cost': 0, 'Shortage Cost': 270.0, 'Net Profit': 4730.0}\n",
      "{'Month': 17, 'Sales': 49.0, 'Gross Profit': 2450.0, 'Holding Cost': 765.0, 'Shortage Cost': 0, 'Net Profit': 1685.0}\n",
      "{'Month': 18, 'Sales': 100, 'Gross Profit': 5000, 'Holding Cost': 0, 'Shortage Cost': 360.0, 'Net Profit': 4640.0}\n",
      "{'Month': 19, 'Sales': 100, 'Gross Profit': 5000, 'Holding Cost': 0, 'Shortage Cost': 660.0, 'Net Profit': 4340.0}\n",
      "{'Month': 20, 'Sales': 100, 'Gross Profit': 5000, 'Holding Cost': 0, 'Shortage Cost': 1080.0, 'Net Profit': 3920.0}\n"
     ]
    }
   ],
   "source": [
    "Simulation(demand)"
   ]
  },
  {
   "cell_type": "code",
   "execution_count": null,
   "id": "a07b7870-2ea4-4d96-a77e-bafe81513cde",
   "metadata": {},
   "outputs": [],
   "source": [
    "df=pd.DataFrame(columns=['Month','Sales','Gross Profit','Holding Cost','Shortage Cost','Net Profit'])"
   ]
  }
 ],
 "metadata": {
  "kernelspec": {
   "display_name": "Python 3",
   "language": "python",
   "name": "python3"
  },
  "language_info": {
   "codemirror_mode": {
    "name": "ipython",
    "version": 3
   },
   "file_extension": ".py",
   "mimetype": "text/x-python",
   "name": "python",
   "nbconvert_exporter": "python",
   "pygments_lexer": "ipython3",
   "version": "3.8.8"
  }
 },
 "nbformat": 4,
 "nbformat_minor": 5
}
