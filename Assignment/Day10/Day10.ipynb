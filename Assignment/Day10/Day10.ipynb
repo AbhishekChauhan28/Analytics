{
 "cells": [
  {
   "cell_type": "code",
   "execution_count": 45,
   "id": "d8991b36-394a-4df6-99db-999651f8d2ae",
   "metadata": {},
   "outputs": [],
   "source": [
    "from collections import Counter\n",
    "from scipy.stats import norm\n",
    "from scipy.stats import t\n",
    "from scipy.stats import ttest_1samp\n",
    "from scipy import stats\n",
    "from scipy.stats import ttest_rel\n",
    "from scipy.stats import chi2_contingency\n",
    "from scipy.stats import f_oneway\n",
    "from scipy.stats import ttest_ind\n",
    "from statsmodels.stats.proportion import proportions_ztest\n",
    "import pandas as pd\n",
    "import numpy as np\n",
    "import math"
   ]
  },
  {
   "cell_type": "markdown",
   "id": "d1f90ee6-82af-4963-b787-f9157fe3ba9b",
   "metadata": {},
   "source": [
    "# Question 1 :"
   ]
  },
  {
   "cell_type": "code",
   "execution_count": 2,
   "id": "67bc0734-af15-4c6e-b2ab-11fc5b5a15c8",
   "metadata": {},
   "outputs": [
    {
     "name": "stderr",
     "output_type": "stream",
     "text": [
      "/home/abhishek/anaconda3/lib/python3.8/site-packages/openpyxl/worksheet/_reader.py:312: UserWarning: Unknown extension is not supported and will be removed\n",
      "  warn(msg)\n"
     ]
    }
   ],
   "source": [
    "df1 = pd.read_excel('/media/abhishek/589E61B39E618A782/C-DAC Document/Advanced Analytics/Assignment/Datasets/Sales Data.xlsx', skiprows = 2)"
   ]
  },
  {
   "cell_type": "code",
   "execution_count": 3,
   "id": "687c0af5-901f-4439-b3bc-b5dfee21c733",
   "metadata": {},
   "outputs": [
    {
     "data": {
      "text/html": [
       "<div>\n",
       "<style scoped>\n",
       "    .dataframe tbody tr th:only-of-type {\n",
       "        vertical-align: middle;\n",
       "    }\n",
       "\n",
       "    .dataframe tbody tr th {\n",
       "        vertical-align: top;\n",
       "    }\n",
       "\n",
       "    .dataframe thead th {\n",
       "        text-align: right;\n",
       "    }\n",
       "</style>\n",
       "<table border=\"1\" class=\"dataframe\">\n",
       "  <thead>\n",
       "    <tr style=\"text-align: right;\">\n",
       "      <th></th>\n",
       "      <th>Customer</th>\n",
       "      <th>Percent Gross Profit</th>\n",
       "      <th>Gross Sales</th>\n",
       "      <th>Gross Profit</th>\n",
       "      <th>Industry Code</th>\n",
       "      <th>Competitive Rating*</th>\n",
       "    </tr>\n",
       "  </thead>\n",
       "  <tbody>\n",
       "    <tr>\n",
       "      <th>0</th>\n",
       "      <td>1</td>\n",
       "      <td>0.51</td>\n",
       "      <td>170.0</td>\n",
       "      <td>86.70</td>\n",
       "      <td>1.0</td>\n",
       "      <td>2.0</td>\n",
       "    </tr>\n",
       "    <tr>\n",
       "      <th>1</th>\n",
       "      <td>2</td>\n",
       "      <td>0.32</td>\n",
       "      <td>181.0</td>\n",
       "      <td>57.92</td>\n",
       "      <td>3.0</td>\n",
       "      <td>4.0</td>\n",
       "    </tr>\n",
       "    <tr>\n",
       "      <th>2</th>\n",
       "      <td>3</td>\n",
       "      <td>0.20</td>\n",
       "      <td>203.0</td>\n",
       "      <td>40.60</td>\n",
       "      <td>2.0</td>\n",
       "      <td>2.0</td>\n",
       "    </tr>\n",
       "    <tr>\n",
       "      <th>3</th>\n",
       "      <td>4</td>\n",
       "      <td>0.22</td>\n",
       "      <td>249.0</td>\n",
       "      <td>54.78</td>\n",
       "      <td>5.0</td>\n",
       "      <td>1.0</td>\n",
       "    </tr>\n",
       "    <tr>\n",
       "      <th>4</th>\n",
       "      <td>5</td>\n",
       "      <td>0.21</td>\n",
       "      <td>476.0</td>\n",
       "      <td>99.96</td>\n",
       "      <td>5.0</td>\n",
       "      <td>1.0</td>\n",
       "    </tr>\n",
       "    <tr>\n",
       "      <th>...</th>\n",
       "      <td>...</td>\n",
       "      <td>...</td>\n",
       "      <td>...</td>\n",
       "      <td>...</td>\n",
       "      <td>...</td>\n",
       "      <td>...</td>\n",
       "    </tr>\n",
       "    <tr>\n",
       "      <th>57</th>\n",
       "      <td>58</td>\n",
       "      <td>0.13</td>\n",
       "      <td>115999.0</td>\n",
       "      <td>15079.87</td>\n",
       "      <td>4.0</td>\n",
       "      <td>5.0</td>\n",
       "    </tr>\n",
       "    <tr>\n",
       "      <th>58</th>\n",
       "      <td>59</td>\n",
       "      <td>0.21</td>\n",
       "      <td>120854.0</td>\n",
       "      <td>25379.34</td>\n",
       "      <td>5.0</td>\n",
       "      <td>4.0</td>\n",
       "    </tr>\n",
       "    <tr>\n",
       "      <th>59</th>\n",
       "      <td>60</td>\n",
       "      <td>0.14</td>\n",
       "      <td>179101.0</td>\n",
       "      <td>25074.14</td>\n",
       "      <td>6.0</td>\n",
       "      <td>3.0</td>\n",
       "    </tr>\n",
       "    <tr>\n",
       "      <th>60</th>\n",
       "      <td>NaN</td>\n",
       "      <td>NaN</td>\n",
       "      <td>NaN</td>\n",
       "      <td>NaN</td>\n",
       "      <td>NaN</td>\n",
       "      <td>NaN</td>\n",
       "    </tr>\n",
       "    <tr>\n",
       "      <th>61</th>\n",
       "      <td>*Rates the amount of competition for sales of ...</td>\n",
       "      <td>NaN</td>\n",
       "      <td>NaN</td>\n",
       "      <td>NaN</td>\n",
       "      <td>NaN</td>\n",
       "      <td>NaN</td>\n",
       "    </tr>\n",
       "  </tbody>\n",
       "</table>\n",
       "<p>62 rows × 6 columns</p>\n",
       "</div>"
      ],
      "text/plain": [
       "                                             Customer   Percent Gross Profit  \\\n",
       "0                                                   1                   0.51   \n",
       "1                                                   2                   0.32   \n",
       "2                                                   3                   0.20   \n",
       "3                                                   4                   0.22   \n",
       "4                                                   5                   0.21   \n",
       "..                                                ...                    ...   \n",
       "57                                                 58                   0.13   \n",
       "58                                                 59                   0.21   \n",
       "59                                                 60                   0.14   \n",
       "60                                                NaN                    NaN   \n",
       "61  *Rates the amount of competition for sales of ...                    NaN   \n",
       "\n",
       "    Gross Sales  Gross Profit  Industry Code  Competitive Rating*  \n",
       "0         170.0         86.70            1.0                  2.0  \n",
       "1         181.0         57.92            3.0                  4.0  \n",
       "2         203.0         40.60            2.0                  2.0  \n",
       "3         249.0         54.78            5.0                  1.0  \n",
       "4         476.0         99.96            5.0                  1.0  \n",
       "..          ...           ...            ...                  ...  \n",
       "57     115999.0      15079.87            4.0                  5.0  \n",
       "58     120854.0      25379.34            5.0                  4.0  \n",
       "59     179101.0      25074.14            6.0                  3.0  \n",
       "60          NaN           NaN            NaN                  NaN  \n",
       "61          NaN           NaN            NaN                  NaN  \n",
       "\n",
       "[62 rows x 6 columns]"
      ]
     },
     "execution_count": 3,
     "metadata": {},
     "output_type": "execute_result"
    }
   ],
   "source": [
    "df1"
   ]
  },
  {
   "cell_type": "code",
   "execution_count": 4,
   "id": "2026a661-2099-4d6c-9cdd-09f5605625ec",
   "metadata": {},
   "outputs": [],
   "source": [
    "alpha = 0.05"
   ]
  },
  {
   "cell_type": "code",
   "execution_count": 5,
   "id": "051037a8-e0b6-4c4d-8d86-163ff57b85f8",
   "metadata": {},
   "outputs": [],
   "source": [
    "df1_mean = np.mean(df1['Gross Profit'])"
   ]
  },
  {
   "cell_type": "code",
   "execution_count": 6,
   "id": "dad58d71-5d5d-4971-a682-c0ee30a83125",
   "metadata": {},
   "outputs": [],
   "source": [
    "Gross = df1['Gross Profit']"
   ]
  },
  {
   "cell_type": "code",
   "execution_count": 7,
   "id": "a0fa58f9-6ae8-4e42-a0fb-162a8a485978",
   "metadata": {},
   "outputs": [
    {
     "data": {
      "text/plain": [
       "4239.164583333333"
      ]
     },
     "execution_count": 7,
     "metadata": {},
     "output_type": "execute_result"
    }
   ],
   "source": [
    "df1_mean"
   ]
  },
  {
   "cell_type": "code",
   "execution_count": 12,
   "id": "8eac2108-a17c-4b2e-92c4-5cd74ad08f5c",
   "metadata": {},
   "outputs": [],
   "source": [
    "z_val = stats.norm.ppf(1 - alpha / 2)"
   ]
  },
  {
   "cell_type": "code",
   "execution_count": 15,
   "id": "db6c958b-e670-4246-a6e7-9f3beb728b9e",
   "metadata": {},
   "outputs": [
    {
     "data": {
      "text/plain": [
       "Ttest_1sampResult(statistic=nan, pvalue=nan)"
      ]
     },
     "execution_count": 15,
     "metadata": {},
     "output_type": "execute_result"
    }
   ],
   "source": [
    "stats.ttest_1samp(Gross,4500,alternative = 'greater')"
   ]
  },
  {
   "cell_type": "code",
   "execution_count": 14,
   "id": "600a9dd8-cfa1-4bb2-9402-8a62cdb8ca21",
   "metadata": {},
   "outputs": [
    {
     "name": "stdout",
     "output_type": "stream",
     "text": [
      "p-value : nan\n"
     ]
    }
   ],
   "source": [
    "print(\"p-value :\", pval)"
   ]
  },
  {
   "cell_type": "code",
   "execution_count": 38,
   "id": "634853e9-2b60-418a-8273-fa9d411bd2ba",
   "metadata": {},
   "outputs": [
    {
     "name": "stdout",
     "output_type": "stream",
     "text": [
      "we are accepting null hypothesis\n"
     ]
    }
   ],
   "source": [
    "if pval < alpha:   \n",
    "   print(\" we are rejecting null hypothesis\")\n",
    "else:\n",
    "  print(\"we are accepting null hypothesis\")"
   ]
  },
  {
   "cell_type": "markdown",
   "id": "035ea6c1-d69b-44b8-bcdc-93ad4643f501",
   "metadata": {},
   "source": [
    "# Question 2 :"
   ]
  },
  {
   "cell_type": "code",
   "execution_count": 39,
   "id": "bee7f754-61c4-450c-8e4f-6e99dfb3b0d5",
   "metadata": {},
   "outputs": [
    {
     "name": "stderr",
     "output_type": "stream",
     "text": [
      "/home/abhishek/anaconda3/lib/python3.8/site-packages/openpyxl/worksheet/_reader.py:312: UserWarning: Unknown extension is not supported and will be removed\n",
      "  warn(msg)\n"
     ]
    }
   ],
   "source": [
    "df2 = pd.read_excel('/media/abhishek/589E61B39E618A782/C-DAC Document/Advanced Analytics/Assignment/Datasets/Ohio Education Performance.xlsx', skiprows = 2)"
   ]
  },
  {
   "cell_type": "code",
   "execution_count": 40,
   "id": "bbeb4460-cf07-4c3c-a0da-c4c01a602994",
   "metadata": {},
   "outputs": [
    {
     "data": {
      "text/html": [
       "<div>\n",
       "<style scoped>\n",
       "    .dataframe tbody tr th:only-of-type {\n",
       "        vertical-align: middle;\n",
       "    }\n",
       "\n",
       "    .dataframe tbody tr th {\n",
       "        vertical-align: top;\n",
       "    }\n",
       "\n",
       "    .dataframe thead th {\n",
       "        text-align: right;\n",
       "    }\n",
       "</style>\n",
       "<table border=\"1\" class=\"dataframe\">\n",
       "  <thead>\n",
       "    <tr style=\"text-align: right;\">\n",
       "      <th></th>\n",
       "      <th>School District</th>\n",
       "      <th>Writing</th>\n",
       "      <th>Reading</th>\n",
       "      <th>Math</th>\n",
       "      <th>Citizenship</th>\n",
       "      <th>Science</th>\n",
       "      <th>All</th>\n",
       "    </tr>\n",
       "  </thead>\n",
       "  <tbody>\n",
       "    <tr>\n",
       "      <th>0</th>\n",
       "      <td>Indian Hill</td>\n",
       "      <td>95.0</td>\n",
       "      <td>98.0</td>\n",
       "      <td>89.0</td>\n",
       "      <td>95.0</td>\n",
       "      <td>91.0</td>\n",
       "      <td>83.0</td>\n",
       "    </tr>\n",
       "    <tr>\n",
       "      <th>1</th>\n",
       "      <td>Wyoming</td>\n",
       "      <td>98.0</td>\n",
       "      <td>96.0</td>\n",
       "      <td>86.0</td>\n",
       "      <td>93.0</td>\n",
       "      <td>87.0</td>\n",
       "      <td>81.0</td>\n",
       "    </tr>\n",
       "    <tr>\n",
       "      <th>2</th>\n",
       "      <td>Mason City</td>\n",
       "      <td>96.0</td>\n",
       "      <td>92.0</td>\n",
       "      <td>85.0</td>\n",
       "      <td>94.0</td>\n",
       "      <td>86.0</td>\n",
       "      <td>72.0</td>\n",
       "    </tr>\n",
       "    <tr>\n",
       "      <th>3</th>\n",
       "      <td>Madiera</td>\n",
       "      <td>94.0</td>\n",
       "      <td>95.0</td>\n",
       "      <td>88.0</td>\n",
       "      <td>82.0</td>\n",
       "      <td>88.0</td>\n",
       "      <td>69.0</td>\n",
       "    </tr>\n",
       "    <tr>\n",
       "      <th>4</th>\n",
       "      <td>Mariemont</td>\n",
       "      <td>99.0</td>\n",
       "      <td>92.0</td>\n",
       "      <td>74.0</td>\n",
       "      <td>89.0</td>\n",
       "      <td>88.0</td>\n",
       "      <td>68.0</td>\n",
       "    </tr>\n",
       "    <tr>\n",
       "      <th>5</th>\n",
       "      <td>Sycamore</td>\n",
       "      <td>85.0</td>\n",
       "      <td>88.0</td>\n",
       "      <td>80.0</td>\n",
       "      <td>87.0</td>\n",
       "      <td>84.0</td>\n",
       "      <td>68.0</td>\n",
       "    </tr>\n",
       "    <tr>\n",
       "      <th>6</th>\n",
       "      <td>Forest Hills</td>\n",
       "      <td>93.0</td>\n",
       "      <td>91.0</td>\n",
       "      <td>73.0</td>\n",
       "      <td>85.0</td>\n",
       "      <td>88.0</td>\n",
       "      <td>67.0</td>\n",
       "    </tr>\n",
       "    <tr>\n",
       "      <th>7</th>\n",
       "      <td>Kings Local</td>\n",
       "      <td>92.0</td>\n",
       "      <td>86.0</td>\n",
       "      <td>78.0</td>\n",
       "      <td>82.0</td>\n",
       "      <td>78.0</td>\n",
       "      <td>64.0</td>\n",
       "    </tr>\n",
       "    <tr>\n",
       "      <th>8</th>\n",
       "      <td>Lakota</td>\n",
       "      <td>90.0</td>\n",
       "      <td>88.0</td>\n",
       "      <td>73.0</td>\n",
       "      <td>85.0</td>\n",
       "      <td>81.0</td>\n",
       "      <td>64.0</td>\n",
       "    </tr>\n",
       "    <tr>\n",
       "      <th>9</th>\n",
       "      <td>Loveland</td>\n",
       "      <td>85.0</td>\n",
       "      <td>93.0</td>\n",
       "      <td>72.0</td>\n",
       "      <td>86.0</td>\n",
       "      <td>86.0</td>\n",
       "      <td>61.0</td>\n",
       "    </tr>\n",
       "  </tbody>\n",
       "</table>\n",
       "</div>"
      ],
      "text/plain": [
       "  School District  Writing  Reading  Math  Citizenship  Science   All\n",
       "0     Indian Hill     95.0     98.0  89.0         95.0     91.0  83.0\n",
       "1         Wyoming     98.0     96.0  86.0         93.0     87.0  81.0\n",
       "2      Mason City     96.0     92.0  85.0         94.0     86.0  72.0\n",
       "3         Madiera     94.0     95.0  88.0         82.0     88.0  69.0\n",
       "4       Mariemont     99.0     92.0  74.0         89.0     88.0  68.0\n",
       "5        Sycamore     85.0     88.0  80.0         87.0     84.0  68.0\n",
       "6    Forest Hills     93.0     91.0  73.0         85.0     88.0  67.0\n",
       "7     Kings Local     92.0     86.0  78.0         82.0     78.0  64.0\n",
       "8          Lakota     90.0     88.0  73.0         85.0     81.0  64.0\n",
       "9        Loveland     85.0     93.0  72.0         86.0     86.0  61.0"
      ]
     },
     "execution_count": 40,
     "metadata": {},
     "output_type": "execute_result"
    }
   ],
   "source": [
    "df2.head(10)"
   ]
  },
  {
   "cell_type": "code",
   "execution_count": 45,
   "id": "a8e9e4d3-ff31-451c-b8ff-6f2ee23008ed",
   "metadata": {},
   "outputs": [],
   "source": [
    "alpha = 0.05"
   ]
  },
  {
   "cell_type": "code",
   "execution_count": 41,
   "id": "4b2fa552-513c-4331-a0ab-7a1b8605720a",
   "metadata": {},
   "outputs": [],
   "source": [
    "data1 = df2['Writing']\n",
    "data2 = df2['Reading']\n",
    "data3 = df2['Math']\n",
    "data4 = df2['Science']"
   ]
  },
  {
   "cell_type": "code",
   "execution_count": 42,
   "id": "d0fccfe5-9ab5-4486-86e6-0de939395de1",
   "metadata": {},
   "outputs": [],
   "source": [
    "stat, pval = ttest_rel(data1, data2)"
   ]
  },
  {
   "cell_type": "code",
   "execution_count": 43,
   "id": "c46d1804-2d66-476e-aef9-1c9699429127",
   "metadata": {},
   "outputs": [
    {
     "data": {
      "text/plain": [
       "nan"
      ]
     },
     "execution_count": 43,
     "metadata": {},
     "output_type": "execute_result"
    }
   ],
   "source": [
    "pval"
   ]
  },
  {
   "cell_type": "code",
   "execution_count": 44,
   "id": "106f3a00-5156-464b-83e5-f150a0027a49",
   "metadata": {},
   "outputs": [
    {
     "data": {
      "text/plain": [
       "nan"
      ]
     },
     "execution_count": 44,
     "metadata": {},
     "output_type": "execute_result"
    }
   ],
   "source": [
    "stat"
   ]
  },
  {
   "cell_type": "code",
   "execution_count": 46,
   "id": "fe119134-6455-49b2-8c70-277299b58ac6",
   "metadata": {},
   "outputs": [
    {
     "name": "stdout",
     "output_type": "stream",
     "text": [
      "we are accepting null hypothesis\n"
     ]
    }
   ],
   "source": [
    "if pval > alpha:\n",
    "\tprint('we are rejecting null hypothesis')\n",
    "else:\n",
    "\tprint('we are accepting null hypothesis')"
   ]
  },
  {
   "cell_type": "code",
   "execution_count": 50,
   "id": "1c90084a-798f-47ca-ad1b-d83f47d5b1ad",
   "metadata": {},
   "outputs": [],
   "source": [
    "stat1, pval1 = ttest_rel(data3, data4)"
   ]
  },
  {
   "cell_type": "code",
   "execution_count": 53,
   "id": "713d7bde-d6cf-49f3-9403-790990a85bb5",
   "metadata": {},
   "outputs": [
    {
     "data": {
      "text/plain": [
       "nan"
      ]
     },
     "execution_count": 53,
     "metadata": {},
     "output_type": "execute_result"
    }
   ],
   "source": [
    "pval1"
   ]
  },
  {
   "cell_type": "code",
   "execution_count": 54,
   "id": "f7f502ff-4ca3-4a3e-a929-a2ede8605281",
   "metadata": {},
   "outputs": [
    {
     "data": {
      "text/plain": [
       "nan"
      ]
     },
     "execution_count": 54,
     "metadata": {},
     "output_type": "execute_result"
    }
   ],
   "source": [
    "stat1"
   ]
  },
  {
   "cell_type": "code",
   "execution_count": 55,
   "id": "a7390220-7bc5-430b-988c-529251a96f92",
   "metadata": {},
   "outputs": [
    {
     "name": "stdout",
     "output_type": "stream",
     "text": [
      "we are accepting null hypothesis\n"
     ]
    }
   ],
   "source": [
    "if pval1 > alpha:\n",
    "\tprint('we are rejecting null hypothesis')\n",
    "else:\n",
    "\tprint('we are accepting null hypothesis')"
   ]
  },
  {
   "cell_type": "markdown",
   "id": "7e16ea7c-8d8f-4499-8c90-1b1c6e54d169",
   "metadata": {},
   "source": [
    "# Question 3 :"
   ]
  },
  {
   "cell_type": "code",
   "execution_count": 2,
   "id": "8ad02bb9-58fb-4560-b11e-2bf2e69fb7d0",
   "metadata": {},
   "outputs": [],
   "source": [
    "df3 = pd.read_excel('/media/abhishek/589E61B39E618A782/C-DAC Document/Advanced Analytics/Assignment/Datasets/Facebook Survey.xlsx', skiprows = 2)"
   ]
  },
  {
   "cell_type": "code",
   "execution_count": 3,
   "id": "0102e459-5b79-44d1-9d93-ed7472b84139",
   "metadata": {},
   "outputs": [
    {
     "data": {
      "text/html": [
       "<div>\n",
       "<style scoped>\n",
       "    .dataframe tbody tr th:only-of-type {\n",
       "        vertical-align: middle;\n",
       "    }\n",
       "\n",
       "    .dataframe tbody tr th {\n",
       "        vertical-align: top;\n",
       "    }\n",
       "\n",
       "    .dataframe thead th {\n",
       "        text-align: right;\n",
       "    }\n",
       "</style>\n",
       "<table border=\"1\" class=\"dataframe\">\n",
       "  <thead>\n",
       "    <tr style=\"text-align: right;\">\n",
       "      <th></th>\n",
       "      <th>Student</th>\n",
       "      <th>Gender</th>\n",
       "      <th>Hours online/week</th>\n",
       "      <th>Friends</th>\n",
       "      <th>Unnamed: 4</th>\n",
       "      <th>Unnamed: 5</th>\n",
       "      <th>Unnamed: 6</th>\n",
       "    </tr>\n",
       "  </thead>\n",
       "  <tbody>\n",
       "    <tr>\n",
       "      <th>0</th>\n",
       "      <td>1</td>\n",
       "      <td>female</td>\n",
       "      <td>4</td>\n",
       "      <td>150</td>\n",
       "      <td>NaN</td>\n",
       "      <td>NaN</td>\n",
       "      <td>NaN</td>\n",
       "    </tr>\n",
       "    <tr>\n",
       "      <th>1</th>\n",
       "      <td>2</td>\n",
       "      <td>female</td>\n",
       "      <td>10</td>\n",
       "      <td>400</td>\n",
       "      <td>NaN</td>\n",
       "      <td>NaN</td>\n",
       "      <td>NaN</td>\n",
       "    </tr>\n",
       "    <tr>\n",
       "      <th>2</th>\n",
       "      <td>3</td>\n",
       "      <td>male</td>\n",
       "      <td>7</td>\n",
       "      <td>120</td>\n",
       "      <td>NaN</td>\n",
       "      <td>NaN</td>\n",
       "      <td>NaN</td>\n",
       "    </tr>\n",
       "    <tr>\n",
       "      <th>3</th>\n",
       "      <td>4</td>\n",
       "      <td>male</td>\n",
       "      <td>15</td>\n",
       "      <td>500</td>\n",
       "      <td>NaN</td>\n",
       "      <td>NaN</td>\n",
       "      <td>NaN</td>\n",
       "    </tr>\n",
       "    <tr>\n",
       "      <th>4</th>\n",
       "      <td>5</td>\n",
       "      <td>female</td>\n",
       "      <td>9</td>\n",
       "      <td>260</td>\n",
       "      <td>NaN</td>\n",
       "      <td>NaN</td>\n",
       "      <td>NaN</td>\n",
       "    </tr>\n",
       "  </tbody>\n",
       "</table>\n",
       "</div>"
      ],
      "text/plain": [
       "   Student  Gender  Hours online/week  Friends  Unnamed: 4  Unnamed: 5  \\\n",
       "0        1  female                  4      150         NaN         NaN   \n",
       "1        2  female                 10      400         NaN         NaN   \n",
       "2        3    male                  7      120         NaN         NaN   \n",
       "3        4    male                 15      500         NaN         NaN   \n",
       "4        5  female                  9      260         NaN         NaN   \n",
       "\n",
       "   Unnamed: 6  \n",
       "0         NaN  \n",
       "1         NaN  \n",
       "2         NaN  \n",
       "3         NaN  \n",
       "4         NaN  "
      ]
     },
     "execution_count": 3,
     "metadata": {},
     "output_type": "execute_result"
    }
   ],
   "source": [
    "df3.head(5)"
   ]
  },
  {
   "cell_type": "code",
   "execution_count": 99,
   "id": "3fa0f2dd-8000-43d9-8a2e-681455ff5d6d",
   "metadata": {},
   "outputs": [
    {
     "data": {
      "text/plain": [
       "Gender               33\n",
       "Hours online/week    33\n",
       "dtype: int64"
      ]
     },
     "execution_count": 99,
     "metadata": {},
     "output_type": "execute_result"
    }
   ],
   "source": [
    "df3.iloc[:,1:3].count() "
   ]
  },
  {
   "cell_type": "code",
   "execution_count": 4,
   "id": "b2023125-7979-4c18-8313-ee5473f87d0a",
   "metadata": {},
   "outputs": [],
   "source": [
    "table=pd.crosstab(df3[\"Gender\"],df3[\"Hours online/week\"])"
   ]
  },
  {
   "cell_type": "code",
   "execution_count": 5,
   "id": "fae990d3-66d4-4921-b87b-62e0479b0d63",
   "metadata": {},
   "outputs": [
    {
     "data": {
      "text/html": [
       "<div>\n",
       "<style scoped>\n",
       "    .dataframe tbody tr th:only-of-type {\n",
       "        vertical-align: middle;\n",
       "    }\n",
       "\n",
       "    .dataframe tbody tr th {\n",
       "        vertical-align: top;\n",
       "    }\n",
       "\n",
       "    .dataframe thead th {\n",
       "        text-align: right;\n",
       "    }\n",
       "</style>\n",
       "<table border=\"1\" class=\"dataframe\">\n",
       "  <thead>\n",
       "    <tr style=\"text-align: right;\">\n",
       "      <th>Hours online/week</th>\n",
       "      <th>2</th>\n",
       "      <th>3</th>\n",
       "      <th>4</th>\n",
       "      <th>5</th>\n",
       "      <th>6</th>\n",
       "      <th>7</th>\n",
       "      <th>8</th>\n",
       "      <th>9</th>\n",
       "      <th>10</th>\n",
       "      <th>12</th>\n",
       "      <th>15</th>\n",
       "    </tr>\n",
       "    <tr>\n",
       "      <th>Gender</th>\n",
       "      <th></th>\n",
       "      <th></th>\n",
       "      <th></th>\n",
       "      <th></th>\n",
       "      <th></th>\n",
       "      <th></th>\n",
       "      <th></th>\n",
       "      <th></th>\n",
       "      <th></th>\n",
       "      <th></th>\n",
       "      <th></th>\n",
       "    </tr>\n",
       "  </thead>\n",
       "  <tbody>\n",
       "    <tr>\n",
       "      <th>female</th>\n",
       "      <td>4</td>\n",
       "      <td>0</td>\n",
       "      <td>3</td>\n",
       "      <td>2</td>\n",
       "      <td>2</td>\n",
       "      <td>3</td>\n",
       "      <td>1</td>\n",
       "      <td>2</td>\n",
       "      <td>1</td>\n",
       "      <td>2</td>\n",
       "      <td>0</td>\n",
       "    </tr>\n",
       "    <tr>\n",
       "      <th>male</th>\n",
       "      <td>0</td>\n",
       "      <td>1</td>\n",
       "      <td>3</td>\n",
       "      <td>2</td>\n",
       "      <td>3</td>\n",
       "      <td>1</td>\n",
       "      <td>1</td>\n",
       "      <td>0</td>\n",
       "      <td>1</td>\n",
       "      <td>0</td>\n",
       "      <td>1</td>\n",
       "    </tr>\n",
       "  </tbody>\n",
       "</table>\n",
       "</div>"
      ],
      "text/plain": [
       "Hours online/week  2   3   4   5   6   7   8   9   10  12  15\n",
       "Gender                                                       \n",
       "female              4   0   3   2   2   3   1   2   1   2   0\n",
       "male                0   1   3   2   3   1   1   0   1   0   1"
      ]
     },
     "execution_count": 5,
     "metadata": {},
     "output_type": "execute_result"
    }
   ],
   "source": [
    "table"
   ]
  },
  {
   "cell_type": "code",
   "execution_count": 102,
   "id": "4852bdbe-99e3-417a-aa2e-035ffe1c004b",
   "metadata": {},
   "outputs": [],
   "source": [
    "f_obs=table.loc[\"female\"].tolist()+table.loc[\"male\"].tolist()\n",
    "f_obs_arr=np.array(f_obs)\n",
    "f_obs_arr.shape=( 2,11)"
   ]
  },
  {
   "cell_type": "code",
   "execution_count": 103,
   "id": "e424798d-db55-4852-b736-b364e127534f",
   "metadata": {},
   "outputs": [
    {
     "data": {
      "text/plain": [
       "[4, 0, 3, 2, 2, 3, 1, 2, 1, 2, 0, 0, 1, 3, 2, 3, 1, 1, 0, 1, 0, 1]"
      ]
     },
     "execution_count": 103,
     "metadata": {},
     "output_type": "execute_result"
    }
   ],
   "source": [
    "f_obs"
   ]
  },
  {
   "cell_type": "code",
   "execution_count": 104,
   "id": "e546c33e-cf6f-4de6-8d48-5ab749b03014",
   "metadata": {},
   "outputs": [
    {
     "name": "stdout",
     "output_type": "stream",
     "text": [
      "Observation Array\n",
      "[[4 0 3 2 2 3 1 2 1 2 0]\n",
      " [0 1 3 2 3 1 1 0 1 0 1]]\n",
      "(10.172884615384614, 0.42545879976665707, 10, array([[2.42424242, 0.60606061, 3.63636364, 2.42424242, 3.03030303,\n",
      "        2.42424242, 1.21212121, 1.21212121, 1.21212121, 1.21212121,\n",
      "        0.60606061],\n",
      "       [1.57575758, 0.39393939, 2.36363636, 1.57575758, 1.96969697,\n",
      "        1.57575758, 0.78787879, 0.78787879, 0.78787879, 0.78787879,\n",
      "        0.39393939]]))\n"
     ]
    }
   ],
   "source": [
    "print(\"Observation Array\")\n",
    "print(f_obs_arr)\n",
    "print(chi2_contingency(f_obs_arr))"
   ]
  },
  {
   "cell_type": "code",
   "execution_count": 7,
   "id": "6b2bb7fb-8f46-4dde-87de-c26109bd1c7d",
   "metadata": {},
   "outputs": [
    {
     "ename": "TypeError",
     "evalue": "unsupported operand type(s) for -: 'str' and 'int'",
     "output_type": "error",
     "traceback": [
      "\u001b[0;31m---------------------------------------------------------------------------\u001b[0m",
      "\u001b[0;31mTypeError\u001b[0m                                 Traceback (most recent call last)",
      "\u001b[0;32m<ipython-input-7-59d8dc3be0ae>\u001b[0m in \u001b[0;36m<module>\u001b[0;34m\u001b[0m\n\u001b[0;32m----> 1\u001b[0;31m \u001b[0mt\u001b[0m \u001b[0;34m=\u001b[0m \u001b[0mstats\u001b[0m\u001b[0;34m.\u001b[0m\u001b[0mttest_rel\u001b[0m\u001b[0;34m(\u001b[0m\u001b[0mdf3\u001b[0m\u001b[0;34m[\u001b[0m\u001b[0;34m\"Gender\"\u001b[0m\u001b[0;34m]\u001b[0m\u001b[0;34m,\u001b[0m\u001b[0mdf3\u001b[0m\u001b[0;34m[\u001b[0m\u001b[0;34m\"Hours online/week\"\u001b[0m\u001b[0;34m]\u001b[0m\u001b[0;34m)\u001b[0m\u001b[0;34m\u001b[0m\u001b[0;34m\u001b[0m\u001b[0m\n\u001b[0m",
      "\u001b[0;32m~/.local/lib/python3.8/site-packages/scipy/stats/stats.py\u001b[0m in \u001b[0;36mttest_rel\u001b[0;34m(a, b, axis, nan_policy, alternative)\u001b[0m\n\u001b[1;32m   6451\u001b[0m     \u001b[0mdf\u001b[0m \u001b[0;34m=\u001b[0m \u001b[0mn\u001b[0m \u001b[0;34m-\u001b[0m \u001b[0;36m1\u001b[0m\u001b[0;34m\u001b[0m\u001b[0;34m\u001b[0m\u001b[0m\n\u001b[1;32m   6452\u001b[0m \u001b[0;34m\u001b[0m\u001b[0m\n\u001b[0;32m-> 6453\u001b[0;31m     \u001b[0md\u001b[0m \u001b[0;34m=\u001b[0m \u001b[0;34m(\u001b[0m\u001b[0ma\u001b[0m \u001b[0;34m-\u001b[0m \u001b[0mb\u001b[0m\u001b[0;34m)\u001b[0m\u001b[0;34m.\u001b[0m\u001b[0mastype\u001b[0m\u001b[0;34m(\u001b[0m\u001b[0mnp\u001b[0m\u001b[0;34m.\u001b[0m\u001b[0mfloat64\u001b[0m\u001b[0;34m)\u001b[0m\u001b[0;34m\u001b[0m\u001b[0;34m\u001b[0m\u001b[0m\n\u001b[0m\u001b[1;32m   6454\u001b[0m     \u001b[0mv\u001b[0m \u001b[0;34m=\u001b[0m \u001b[0mnp\u001b[0m\u001b[0;34m.\u001b[0m\u001b[0mvar\u001b[0m\u001b[0;34m(\u001b[0m\u001b[0md\u001b[0m\u001b[0;34m,\u001b[0m \u001b[0maxis\u001b[0m\u001b[0;34m,\u001b[0m \u001b[0mddof\u001b[0m\u001b[0;34m=\u001b[0m\u001b[0;36m1\u001b[0m\u001b[0;34m)\u001b[0m\u001b[0;34m\u001b[0m\u001b[0;34m\u001b[0m\u001b[0m\n\u001b[1;32m   6455\u001b[0m     \u001b[0mdm\u001b[0m \u001b[0;34m=\u001b[0m \u001b[0mnp\u001b[0m\u001b[0;34m.\u001b[0m\u001b[0mmean\u001b[0m\u001b[0;34m(\u001b[0m\u001b[0md\u001b[0m\u001b[0;34m,\u001b[0m \u001b[0maxis\u001b[0m\u001b[0;34m)\u001b[0m\u001b[0;34m\u001b[0m\u001b[0;34m\u001b[0m\u001b[0m\n",
      "\u001b[0;31mTypeError\u001b[0m: unsupported operand type(s) for -: 'str' and 'int'"
     ]
    }
   ],
   "source": [
    "t = stats.ttest_rel(df3[\"Gender\"],df3[\"Hours online/week\"])"
   ]
  },
  {
   "cell_type": "markdown",
   "id": "b674d550-78b7-43fa-b532-7fbbfb045524",
   "metadata": {},
   "source": [
    "# Question 4 :"
   ]
  },
  {
   "cell_type": "code",
   "execution_count": 34,
   "id": "abd710da-ef68-4ff4-96d0-09ee5ddd8ed7",
   "metadata": {},
   "outputs": [],
   "source": [
    "df4 = pd.read_excel('/media/abhishek/589E61B39E618A782/C-DAC Document/Advanced Analytics/Assignment/Datasets/Consumer Transportation Survey.xlsx', skiprows = 2)"
   ]
  },
  {
   "cell_type": "code",
   "execution_count": 35,
   "id": "c39956e9-5429-431a-b50b-51cb88dd0e68",
   "metadata": {},
   "outputs": [
    {
     "data": {
      "text/html": [
       "<div>\n",
       "<style scoped>\n",
       "    .dataframe tbody tr th:only-of-type {\n",
       "        vertical-align: middle;\n",
       "    }\n",
       "\n",
       "    .dataframe tbody tr th {\n",
       "        vertical-align: top;\n",
       "    }\n",
       "\n",
       "    .dataframe thead th {\n",
       "        text-align: right;\n",
       "    }\n",
       "</style>\n",
       "<table border=\"1\" class=\"dataframe\">\n",
       "  <thead>\n",
       "    <tr style=\"text-align: right;\">\n",
       "      <th></th>\n",
       "      <th>Vehicle Driven</th>\n",
       "      <th>Type</th>\n",
       "      <th>Satisfaction with vehicle</th>\n",
       "      <th>Gender</th>\n",
       "      <th>Age</th>\n",
       "      <th># of hours per week in vehicle</th>\n",
       "      <th>Miles driven per week</th>\n",
       "      <th>NumberOfChildren</th>\n",
       "      <th>Average number of riders</th>\n",
       "      <th>Miles from work</th>\n",
       "      <th>...</th>\n",
       "      <th>Unnamed: 41</th>\n",
       "      <th>Unnamed: 42</th>\n",
       "      <th>Unnamed: 43</th>\n",
       "      <th>Unnamed: 44</th>\n",
       "      <th>Unnamed: 45</th>\n",
       "      <th>Unnamed: 46</th>\n",
       "      <th>Unnamed: 47</th>\n",
       "      <th>Unnamed: 48</th>\n",
       "      <th>Unnamed: 49</th>\n",
       "      <th>Unnamed: 50</th>\n",
       "    </tr>\n",
       "  </thead>\n",
       "  <tbody>\n",
       "    <tr>\n",
       "      <th>0</th>\n",
       "      <td>Truck</td>\n",
       "      <td>Domestic</td>\n",
       "      <td>Yes</td>\n",
       "      <td>Male</td>\n",
       "      <td>31.0</td>\n",
       "      <td>10.0</td>\n",
       "      <td>450.0</td>\n",
       "      <td>0.0</td>\n",
       "      <td>1.0</td>\n",
       "      <td>30.0</td>\n",
       "      <td>...</td>\n",
       "      <td>NaN</td>\n",
       "      <td>NaN</td>\n",
       "      <td>NaN</td>\n",
       "      <td>NaN</td>\n",
       "      <td>NaN</td>\n",
       "      <td>NaN</td>\n",
       "      <td>NaN</td>\n",
       "      <td>NaN</td>\n",
       "      <td>NaN</td>\n",
       "      <td>NaN</td>\n",
       "    </tr>\n",
       "    <tr>\n",
       "      <th>1</th>\n",
       "      <td>Truck</td>\n",
       "      <td>Domestic</td>\n",
       "      <td>Yes</td>\n",
       "      <td>Male</td>\n",
       "      <td>29.0</td>\n",
       "      <td>5.0</td>\n",
       "      <td>370.0</td>\n",
       "      <td>1.0</td>\n",
       "      <td>1.0</td>\n",
       "      <td>22.0</td>\n",
       "      <td>...</td>\n",
       "      <td>NaN</td>\n",
       "      <td>NaN</td>\n",
       "      <td>NaN</td>\n",
       "      <td>NaN</td>\n",
       "      <td>NaN</td>\n",
       "      <td>NaN</td>\n",
       "      <td>NaN</td>\n",
       "      <td>NaN</td>\n",
       "      <td>NaN</td>\n",
       "      <td>NaN</td>\n",
       "    </tr>\n",
       "    <tr>\n",
       "      <th>2</th>\n",
       "      <td>Truck</td>\n",
       "      <td>Foreign</td>\n",
       "      <td>No</td>\n",
       "      <td>Male</td>\n",
       "      <td>26.0</td>\n",
       "      <td>12.0</td>\n",
       "      <td>580.0</td>\n",
       "      <td>0.0</td>\n",
       "      <td>1.0</td>\n",
       "      <td>15.0</td>\n",
       "      <td>...</td>\n",
       "      <td>NaN</td>\n",
       "      <td>NaN</td>\n",
       "      <td>NaN</td>\n",
       "      <td>NaN</td>\n",
       "      <td>NaN</td>\n",
       "      <td>NaN</td>\n",
       "      <td>NaN</td>\n",
       "      <td>NaN</td>\n",
       "      <td>NaN</td>\n",
       "      <td>NaN</td>\n",
       "    </tr>\n",
       "    <tr>\n",
       "      <th>3</th>\n",
       "      <td>Truck</td>\n",
       "      <td>Domestic</td>\n",
       "      <td>No</td>\n",
       "      <td>Male</td>\n",
       "      <td>18.0</td>\n",
       "      <td>6.0</td>\n",
       "      <td>300.0</td>\n",
       "      <td>0.0</td>\n",
       "      <td>1.0</td>\n",
       "      <td>20.0</td>\n",
       "      <td>...</td>\n",
       "      <td>NaN</td>\n",
       "      <td>NaN</td>\n",
       "      <td>NaN</td>\n",
       "      <td>NaN</td>\n",
       "      <td>NaN</td>\n",
       "      <td>NaN</td>\n",
       "      <td>NaN</td>\n",
       "      <td>NaN</td>\n",
       "      <td>NaN</td>\n",
       "      <td>NaN</td>\n",
       "    </tr>\n",
       "    <tr>\n",
       "      <th>4</th>\n",
       "      <td>SUV</td>\n",
       "      <td>Domestic</td>\n",
       "      <td>Yes</td>\n",
       "      <td>Male</td>\n",
       "      <td>49.0</td>\n",
       "      <td>21.0</td>\n",
       "      <td>1000.0</td>\n",
       "      <td>0.0</td>\n",
       "      <td>1.0</td>\n",
       "      <td>22.0</td>\n",
       "      <td>...</td>\n",
       "      <td>NaN</td>\n",
       "      <td>NaN</td>\n",
       "      <td>NaN</td>\n",
       "      <td>NaN</td>\n",
       "      <td>NaN</td>\n",
       "      <td>NaN</td>\n",
       "      <td>NaN</td>\n",
       "      <td>NaN</td>\n",
       "      <td>NaN</td>\n",
       "      <td>NaN</td>\n",
       "    </tr>\n",
       "  </tbody>\n",
       "</table>\n",
       "<p>5 rows × 51 columns</p>\n",
       "</div>"
      ],
      "text/plain": [
       "  Vehicle Driven      Type Satisfaction with vehicle Gender   Age  \\\n",
       "0          Truck  Domestic                       Yes   Male  31.0   \n",
       "1          Truck  Domestic                       Yes   Male  29.0   \n",
       "2          Truck   Foreign                        No   Male  26.0   \n",
       "3          Truck  Domestic                        No   Male  18.0   \n",
       "4            SUV  Domestic                       Yes   Male  49.0   \n",
       "\n",
       "   # of hours per week in vehicle  Miles driven per week  NumberOfChildren   \\\n",
       "0                            10.0                  450.0                0.0   \n",
       "1                             5.0                  370.0                1.0   \n",
       "2                            12.0                  580.0                0.0   \n",
       "3                             6.0                  300.0                0.0   \n",
       "4                            21.0                 1000.0                0.0   \n",
       "\n",
       "   Average number of riders  Miles from work  ...  Unnamed: 41  Unnamed: 42  \\\n",
       "0                       1.0             30.0  ...          NaN          NaN   \n",
       "1                       1.0             22.0  ...          NaN          NaN   \n",
       "2                       1.0             15.0  ...          NaN          NaN   \n",
       "3                       1.0             20.0  ...          NaN          NaN   \n",
       "4                       1.0             22.0  ...          NaN          NaN   \n",
       "\n",
       "   Unnamed: 43  Unnamed: 44  Unnamed: 45  Unnamed: 46  Unnamed: 47  \\\n",
       "0          NaN          NaN          NaN          NaN          NaN   \n",
       "1          NaN          NaN          NaN          NaN          NaN   \n",
       "2          NaN          NaN          NaN          NaN          NaN   \n",
       "3          NaN          NaN          NaN          NaN          NaN   \n",
       "4          NaN          NaN          NaN          NaN          NaN   \n",
       "\n",
       "   Unnamed: 48  Unnamed: 49  Unnamed: 50  \n",
       "0          NaN          NaN          NaN  \n",
       "1          NaN          NaN          NaN  \n",
       "2          NaN          NaN          NaN  \n",
       "3          NaN          NaN          NaN  \n",
       "4          NaN          NaN          NaN  \n",
       "\n",
       "[5 rows x 51 columns]"
      ]
     },
     "execution_count": 35,
     "metadata": {},
     "output_type": "execute_result"
    }
   ],
   "source": [
    "df4.head(5)"
   ]
  },
  {
   "cell_type": "markdown",
   "id": "de740de9-51c8-4ee4-b26a-ff13a0341d2d",
   "metadata": {},
   "source": [
    "## 1 : Individual spend at least 8 hours per week in their vehicles."
   ]
  },
  {
   "cell_type": "code",
   "execution_count": 36,
   "id": "a9270dd4-a76e-4aaa-8205-156082470485",
   "metadata": {},
   "outputs": [
    {
     "name": "stdout",
     "output_type": "stream",
     "text": [
      "t = nan \n",
      "Lower critical value = -1.6759050245283318 \n",
      "p = nan\n"
     ]
    }
   ],
   "source": [
    "H0=\" Individual spend at least 8 hours per week in their vehicles.\"\n",
    "H1=\" Individual spend less than 8 hours per week in their vehicles.\"\n",
    "alpha=0.05\n",
    "t,p=stats.ttest_1samp(df4['# of hours per week in vehicle'],8)\n",
    "Lower_critical_value=stats.t.ppf(alpha,len(df4)-1)\n",
    "print(\"t =\",t,\"\\nLower critical value =\",Lower_critical_value,\"\\np =\",p)"
   ]
  },
  {
   "cell_type": "code",
   "execution_count": 37,
   "id": "d977ba87-b317-4c0f-8a1b-0452e3a67e39",
   "metadata": {},
   "outputs": [
    {
     "name": "stdout",
     "output_type": "stream",
     "text": [
      "\n",
      "We reject Null Hypothesis. \n",
      "Conclusion :  Individual spend less than 8 hours per week in their vehicles.\n"
     ]
    }
   ],
   "source": [
    "if Lower_critical_value<t:\n",
    "    print(\"\\nWe accept Null Hypothesis. \\nConclusion :\",H0)\n",
    "else:\n",
    "    print(\"\\nWe reject Null Hypothesis. \\nConclusion :\",H1)"
   ]
  },
  {
   "cell_type": "markdown",
   "id": "5bafa918-0151-4662-a358-987cdac5d142",
   "metadata": {},
   "source": [
    "## 2 : Individuals drive an average of 600 miles per week."
   ]
  },
  {
   "cell_type": "code",
   "execution_count": 39,
   "id": "b8fde5d0-ee4c-4960-b06d-5b23fb702491",
   "metadata": {},
   "outputs": [
    {
     "name": "stdout",
     "output_type": "stream",
     "text": [
      "t = nan \n",
      "c_val = 2.008559109715206 \n",
      "p = nan \n",
      "\n"
     ]
    }
   ],
   "source": [
    "H0=\"Individuals drive an average of 600 miles per week.\"\n",
    "H1=\"Individuals does not drive an average of 600 miles per week.\"\n",
    "alpha=0.05\n",
    "t,p=ttest_1samp(df4['Miles driven per week'],600)\n",
    "c_val=stats.t.ppf(1-alpha/2,len(df4)-1)\n",
    "print(\"t =\",t,\"\\nc_val =\",c_val,\"\\np =\",p,\"\\n\")"
   ]
  },
  {
   "cell_type": "code",
   "execution_count": 40,
   "id": "be8ae008-55bc-463a-a480-391207b0d6f4",
   "metadata": {},
   "outputs": [
    {
     "name": "stdout",
     "output_type": "stream",
     "text": [
      "We reject Null Hypothesis. \n",
      "Conclusion : Individuals does not drive an average of 600 miles per week.\n"
     ]
    }
   ],
   "source": [
    "if t<c_val:\n",
    "    print(\"We accept Null Hypothesis. \\nConclusion :\",H0)\n",
    "else:\n",
    "    print(\"We reject Null Hypothesis. \\nConclusion :\",H1)"
   ]
  },
  {
   "cell_type": "markdown",
   "id": "42560edd-0d0a-4598-90ce-0da7dca08d7a",
   "metadata": {},
   "source": [
    "## 3 : The average age of SUV drivers is no greater than 35"
   ]
  },
  {
   "cell_type": "code",
   "execution_count": 42,
   "id": "5575ca75-bf2c-4374-bb93-f473c176d244",
   "metadata": {},
   "outputs": [
    {
     "name": "stdout",
     "output_type": "stream",
     "text": [
      "t = 2.2210983164738285 \n",
      "Upper critical value = 1.7613101357748562 \n",
      "p = 0.043349319430440215\n"
     ]
    }
   ],
   "source": [
    "H0=\"The average age of SUV drivers is no greater than 35.\"\n",
    "H1=\"The average age of SUV drivers is greater than 35.\"\n",
    "alpha=0.05\n",
    "pd=df4[df4['Vehicle Driven']=='SUV']\n",
    "t,p=ttest_1samp(pd['Age'],35)\n",
    "upper_critical_value=stats.t.ppf(1-alpha,len(pd)-1)\n",
    "print(\"t =\",t,\"\\nUpper critical value =\",upper_critical_value,\"\\np =\",p)"
   ]
  },
  {
   "cell_type": "code",
   "execution_count": 43,
   "id": "30016424-18a0-4bd0-b857-6f67a391095d",
   "metadata": {},
   "outputs": [
    {
     "name": "stdout",
     "output_type": "stream",
     "text": [
      "\n",
      "We reject Null Hypothesis. \n",
      "Conclusion : The average age of SUV drivers is greater than 35.\n"
     ]
    }
   ],
   "source": [
    "if t<upper_critical_value:\n",
    "    print(\"\\nWe accept Null Hypothesis. \\nConclusion :\",H0)\n",
    "else:\n",
    "    print(\"\\nWe reject Null Hypothesis. \\nConclusion :\",H1)"
   ]
  },
  {
   "cell_type": "markdown",
   "id": "478272ee-dd31-471e-b601-553bce38b8ad",
   "metadata": {},
   "source": [
    "## 4 : At least 80% of individuals are satisfied with their vehicles."
   ]
  },
  {
   "cell_type": "code",
   "execution_count": 46,
   "id": "86f28fea-71db-41c2-9e8b-b19ec42ad3a5",
   "metadata": {},
   "outputs": [
    {
     "name": "stdout",
     "output_type": "stream",
     "text": [
      "Z = -1.7503265001544308 \n",
      "p-value = 0.9599690046474415\n"
     ]
    }
   ],
   "source": [
    "H0=\"At least 80% of individuals are satisfied with their vehicles.\"\n",
    "H1=\"At least 80% of individuals are not satisfied with their vehicles.\"\n",
    "alpha=0.05\n",
    "n=len(df4[df4['Satisfaction with vehicle']=='Yes'])\n",
    "N=len(df4)\n",
    "p=0.80\n",
    "z,pval=proportions_ztest(n,N,p,alternative='larger')\n",
    "print(\"Z =\",z,\"\\np-value =\",pval)"
   ]
  },
  {
   "cell_type": "code",
   "execution_count": 47,
   "id": "e91f0bb9-bea9-4c5f-84fb-3a9220057f9f",
   "metadata": {},
   "outputs": [
    {
     "name": "stdout",
     "output_type": "stream",
     "text": [
      "\n",
      "We accept Null Hypothesis. \n",
      "Conclusion : At least 80% of individuals are satisfied with their vehicles.\n"
     ]
    }
   ],
   "source": [
    "if pval<alpha:\n",
    "    print(\"\\nWe reject Null  Hypothesis. \\nConlusion :\",H1)\n",
    "else:\n",
    "    print(\"\\nWe accept Null Hypothesis. \\nConclusion :\",H0)"
   ]
  },
  {
   "cell_type": "markdown",
   "id": "2e6c9ad9-c700-4bd1-b2ce-939edadba15f",
   "metadata": {},
   "source": [
    "# Question 5 : "
   ]
  },
  {
   "cell_type": "code",
   "execution_count": 19,
   "id": "8b8568a5-e85a-469a-b177-62020ac37113",
   "metadata": {},
   "outputs": [
    {
     "name": "stderr",
     "output_type": "stream",
     "text": [
      "/home/abhishek/anaconda3/lib/python3.8/site-packages/openpyxl/worksheet/_reader.py:312: UserWarning: Unknown extension is not supported and will be removed\n",
      "  warn(msg)\n"
     ]
    }
   ],
   "source": [
    "df5 = pd.read_excel('/media/abhishek/589E61B39E618A782/C-DAC Document/Advanced Analytics/Assignment/Datasets/Vacation Survey.xlsx', skiprows = 2)"
   ]
  },
  {
   "cell_type": "code",
   "execution_count": 20,
   "id": "f7b30e5c-7b56-40b6-bfbf-164c2b684e23",
   "metadata": {},
   "outputs": [
    {
     "data": {
      "text/html": [
       "<div>\n",
       "<style scoped>\n",
       "    .dataframe tbody tr th:only-of-type {\n",
       "        vertical-align: middle;\n",
       "    }\n",
       "\n",
       "    .dataframe tbody tr th {\n",
       "        vertical-align: top;\n",
       "    }\n",
       "\n",
       "    .dataframe thead th {\n",
       "        text-align: right;\n",
       "    }\n",
       "</style>\n",
       "<table border=\"1\" class=\"dataframe\">\n",
       "  <thead>\n",
       "    <tr style=\"text-align: right;\">\n",
       "      <th></th>\n",
       "      <th>Age</th>\n",
       "      <th>Gender</th>\n",
       "      <th>Relationship Status</th>\n",
       "      <th>Vacations per Year</th>\n",
       "      <th>Number of Children</th>\n",
       "    </tr>\n",
       "  </thead>\n",
       "  <tbody>\n",
       "    <tr>\n",
       "      <th>0</th>\n",
       "      <td>24</td>\n",
       "      <td>Male</td>\n",
       "      <td>Married</td>\n",
       "      <td>2</td>\n",
       "      <td>0</td>\n",
       "    </tr>\n",
       "    <tr>\n",
       "      <th>1</th>\n",
       "      <td>26</td>\n",
       "      <td>Female</td>\n",
       "      <td>Married</td>\n",
       "      <td>4</td>\n",
       "      <td>0</td>\n",
       "    </tr>\n",
       "    <tr>\n",
       "      <th>2</th>\n",
       "      <td>28</td>\n",
       "      <td>Male</td>\n",
       "      <td>Married</td>\n",
       "      <td>2</td>\n",
       "      <td>2</td>\n",
       "    </tr>\n",
       "    <tr>\n",
       "      <th>3</th>\n",
       "      <td>33</td>\n",
       "      <td>Male</td>\n",
       "      <td>Married</td>\n",
       "      <td>4</td>\n",
       "      <td>0</td>\n",
       "    </tr>\n",
       "    <tr>\n",
       "      <th>4</th>\n",
       "      <td>45</td>\n",
       "      <td>Male</td>\n",
       "      <td>Married</td>\n",
       "      <td>2</td>\n",
       "      <td>0</td>\n",
       "    </tr>\n",
       "    <tr>\n",
       "      <th>5</th>\n",
       "      <td>49</td>\n",
       "      <td>Male</td>\n",
       "      <td>Married</td>\n",
       "      <td>1</td>\n",
       "      <td>2</td>\n",
       "    </tr>\n",
       "    <tr>\n",
       "      <th>6</th>\n",
       "      <td>29</td>\n",
       "      <td>Male</td>\n",
       "      <td>Married</td>\n",
       "      <td>4</td>\n",
       "      <td>0</td>\n",
       "    </tr>\n",
       "    <tr>\n",
       "      <th>7</th>\n",
       "      <td>37</td>\n",
       "      <td>Male</td>\n",
       "      <td>Married</td>\n",
       "      <td>1</td>\n",
       "      <td>2</td>\n",
       "    </tr>\n",
       "    <tr>\n",
       "      <th>8</th>\n",
       "      <td>37</td>\n",
       "      <td>Male</td>\n",
       "      <td>Married</td>\n",
       "      <td>5</td>\n",
       "      <td>1</td>\n",
       "    </tr>\n",
       "    <tr>\n",
       "      <th>9</th>\n",
       "      <td>38</td>\n",
       "      <td>Male</td>\n",
       "      <td>Married</td>\n",
       "      <td>1</td>\n",
       "      <td>5</td>\n",
       "    </tr>\n",
       "  </tbody>\n",
       "</table>\n",
       "</div>"
      ],
      "text/plain": [
       "   Age  Gender Relationship Status   Vacations per Year  Number of Children\n",
       "0   24    Male             Married                    2                   0\n",
       "1   26  Female             Married                    4                   0\n",
       "2   28    Male             Married                    2                   2\n",
       "3   33    Male             Married                    4                   0\n",
       "4   45    Male             Married                    2                   0\n",
       "5   49    Male             Married                    1                   2\n",
       "6   29    Male             Married                    4                   0\n",
       "7   37    Male             Married                    1                   2\n",
       "8   37    Male             Married                    5                   1\n",
       "9   38    Male             Married                    1                   5"
      ]
     },
     "execution_count": 20,
     "metadata": {},
     "output_type": "execute_result"
    }
   ],
   "source": [
    "df5.head(10)"
   ]
  },
  {
   "cell_type": "code",
   "execution_count": 24,
   "id": "3ea1b69a-eed5-4fba-80a5-b705d34a2726",
   "metadata": {},
   "outputs": [
    {
     "name": "stdout",
     "output_type": "stream",
     "text": [
      "t = -2.2666884468718296 \n",
      "p = 0.03030494245929161 \n",
      "lb1 = -1.652248085992657 \n",
      "lb2 = -2.344496972099134\n"
     ]
    }
   ],
   "source": [
    "H0=\"The mean number of vacations taken by married individuals is less than the number taken by single/divorced individuals.\"\n",
    "H1=\"The mean number of vacations taken by married individuals is not less than the number taken by single/divorced individuals.\"\n",
    "alpha1=0.05\n",
    "alpha2=0.01\n",
    "pd1=df5[df5['Relationship Status']==\"Married\"]\n",
    "pd2=df5[df5['Relationship Status']!=\"Married\"]\n",
    "t,p=ttest_ind(pd1[' Vacations per Year'],pd2[' Vacations per Year'])\n",
    "lb1=stats.t.ppf(alpha1,(len(pd1)-1)*(len(pd2)-1))\n",
    "lb2=stats.t.ppf(alpha2,(len(pd1)-1)*(len(pd2)-1))\n",
    "print(\"t =\",t,\"\\np =\",p,\"\\nlb1 =\",lb1,\"\\nlb2 =\",lb2)"
   ]
  },
  {
   "cell_type": "code",
   "execution_count": 25,
   "id": "cbda8645-df2c-4262-b6b7-67d6771f8097",
   "metadata": {},
   "outputs": [
    {
     "name": "stdout",
     "output_type": "stream",
     "text": [
      "\n",
      "We reject Null Hypothesis at  0.05 significance. \n",
      "Conclusion : The mean number of vacations taken by married individuals is not less than the number taken by single/divorced individuals.\n",
      "\n",
      "We accept Null Hypothesis at  0.01 significance. \n",
      "Conclusion : The mean number of vacations taken by married individuals is less than the number taken by single/divorced individuals.\n"
     ]
    }
   ],
   "source": [
    "if p>alpha1:\n",
    "    print(\"\\nWe accept Null Hypothesis at \",alpha1,\"significance. \\nConclusion :\",H0)\n",
    "else:\n",
    "    print(\"\\nWe reject Null Hypothesis at \",alpha1,\"significance. \\nConclusion :\",H1)\n",
    "if p>alpha2:\n",
    "    print(\"\\nWe accept Null Hypothesis at \",alpha2,\"significance. \\nConclusion :\",H0)\n",
    "else:\n",
    "    print(\"\\nWe reject Null Hypothesis at \",alpha2,\"significance. \\nConclusion :\",H1)"
   ]
  },
  {
   "cell_type": "code",
   "execution_count": 26,
   "id": "44158869-cf11-43c6-b571-7a8adfe14e3f",
   "metadata": {},
   "outputs": [
    {
     "name": "stdout",
     "output_type": "stream",
     "text": [
      "\n",
      "We reject Null Hypothesis at  0.05 significance. \n",
      "Conclusion : The mean number of vacations taken by married individuals is not less than the number taken by single/divorced individuals.\n",
      "\n",
      "We accept Null Hypothesis at  0.01 significance. \n",
      "Conclusion : The mean number of vacations taken by married individuals is less than the number taken by single/divorced individuals.\n"
     ]
    }
   ],
   "source": [
    "if lb1<t:\n",
    "    print(\"\\nWe accept Null Hypothesis at \",alpha1,\"significance. \\nConclusion :\",H0)\n",
    "else:\n",
    "    print(\"\\nWe reject Null Hypothesis at \",alpha1,\"significance. \\nConclusion :\",H1)\n",
    "if lb2<t:\n",
    "    print(\"\\nWe accept Null Hypothesis at \",alpha2,\"significance. \\nConclusion :\",H0)\n",
    "else:\n",
    "    print(\"\\nWe reject Null Hypothesis at \",alpha2,\"significance. \\nConclusion :\",H1)"
   ]
  },
  {
   "cell_type": "markdown",
   "id": "aa71a84c-30cc-4ce8-b26b-b7dd1eae539c",
   "metadata": {},
   "source": [
    "# Question 6 :"
   ]
  },
  {
   "cell_type": "code",
   "execution_count": 77,
   "id": "a725b052-f87d-42cc-83ca-1fa00ef8bfb8",
   "metadata": {},
   "outputs": [
    {
     "name": "stderr",
     "output_type": "stream",
     "text": [
      "/home/abhishek/anaconda3/lib/python3.8/site-packages/openpyxl/worksheet/_reader.py:312: UserWarning: Unknown extension is not supported and will be removed\n",
      "  warn(msg)\n"
     ]
    }
   ],
   "source": [
    "df6 = pd.read_excel('/media/abhishek/589E61B39E618A782/C-DAC Document/Advanced Analytics/Assignment/Datasets/Cell Phone Survey.xlsx', skiprows = 2)"
   ]
  },
  {
   "cell_type": "code",
   "execution_count": 78,
   "id": "3a51f9e6-7e3f-437c-bc0a-1fdfb7a73eee",
   "metadata": {},
   "outputs": [
    {
     "data": {
      "text/html": [
       "<div>\n",
       "<style scoped>\n",
       "    .dataframe tbody tr th:only-of-type {\n",
       "        vertical-align: middle;\n",
       "    }\n",
       "\n",
       "    .dataframe tbody tr th {\n",
       "        vertical-align: top;\n",
       "    }\n",
       "\n",
       "    .dataframe thead th {\n",
       "        text-align: right;\n",
       "    }\n",
       "</style>\n",
       "<table border=\"1\" class=\"dataframe\">\n",
       "  <thead>\n",
       "    <tr style=\"text-align: right;\">\n",
       "      <th></th>\n",
       "      <th>Gender</th>\n",
       "      <th>Carrier</th>\n",
       "      <th>Type</th>\n",
       "      <th>Usage</th>\n",
       "      <th>Signal strength</th>\n",
       "      <th>Value for the Dollar</th>\n",
       "      <th>Customer Service</th>\n",
       "    </tr>\n",
       "  </thead>\n",
       "  <tbody>\n",
       "    <tr>\n",
       "      <th>0</th>\n",
       "      <td>M</td>\n",
       "      <td>AT&amp;T</td>\n",
       "      <td>Smart</td>\n",
       "      <td>High</td>\n",
       "      <td>5</td>\n",
       "      <td>4</td>\n",
       "      <td>4</td>\n",
       "    </tr>\n",
       "    <tr>\n",
       "      <th>1</th>\n",
       "      <td>M</td>\n",
       "      <td>AT&amp;T</td>\n",
       "      <td>Smart</td>\n",
       "      <td>High</td>\n",
       "      <td>5</td>\n",
       "      <td>4</td>\n",
       "      <td>2</td>\n",
       "    </tr>\n",
       "    <tr>\n",
       "      <th>2</th>\n",
       "      <td>M</td>\n",
       "      <td>AT&amp;T</td>\n",
       "      <td>Smart</td>\n",
       "      <td>Average</td>\n",
       "      <td>4</td>\n",
       "      <td>4</td>\n",
       "      <td>4</td>\n",
       "    </tr>\n",
       "    <tr>\n",
       "      <th>3</th>\n",
       "      <td>M</td>\n",
       "      <td>AT&amp;T</td>\n",
       "      <td>Smart</td>\n",
       "      <td>Very high</td>\n",
       "      <td>2</td>\n",
       "      <td>3</td>\n",
       "      <td>3</td>\n",
       "    </tr>\n",
       "    <tr>\n",
       "      <th>4</th>\n",
       "      <td>M</td>\n",
       "      <td>AT&amp;T</td>\n",
       "      <td>Smart</td>\n",
       "      <td>Very high</td>\n",
       "      <td>5</td>\n",
       "      <td>5</td>\n",
       "      <td>2</td>\n",
       "    </tr>\n",
       "  </tbody>\n",
       "</table>\n",
       "</div>"
      ],
      "text/plain": [
       "  Gender Carrier   Type      Usage  Signal strength  Value for the Dollar  \\\n",
       "0      M    AT&T  Smart       High                5                     4   \n",
       "1      M    AT&T  Smart       High                5                     4   \n",
       "2      M    AT&T  Smart    Average                4                     4   \n",
       "3      M    AT&T  Smart  Very high                2                     3   \n",
       "4      M    AT&T  Smart  Very high                5                     5   \n",
       "\n",
       "   Customer Service  \n",
       "0                 4  \n",
       "1                 2  \n",
       "2                 4  \n",
       "3                 3  \n",
       "4                 2  "
      ]
     },
     "execution_count": 78,
     "metadata": {},
     "output_type": "execute_result"
    }
   ],
   "source": [
    "df6.head(5)"
   ]
  },
  {
   "cell_type": "code",
   "execution_count": 79,
   "id": "0940f108-6403-4f15-8531-48f30d0557f3",
   "metadata": {},
   "outputs": [
    {
     "data": {
      "text/plain": [
       "Index(['Gender', 'Carrier', 'Type', 'Usage', 'Signal strength',\n",
       "       'Value for the Dollar', 'Customer Service'],\n",
       "      dtype='object')"
      ]
     },
     "execution_count": 79,
     "metadata": {},
     "output_type": "execute_result"
    }
   ],
   "source": [
    "df6.columns"
   ]
  },
  {
   "cell_type": "code",
   "execution_count": 82,
   "id": "161e7696-5350-4fb9-b230-f60d1c494922",
   "metadata": {},
   "outputs": [],
   "source": [
    "d1=df6.loc[df6[\"Type\"]==\"Smart\"][\"Value for the Dollar\"]\n",
    "d2=df6.loc[df6[\"Type\"]==\"Camera\"][\"Value for the Dollar\"]\n",
    "d3=df6.loc[df6[\"Type\"]==\"Basic\"][\"Value for the Dollar\"]"
   ]
  },
  {
   "cell_type": "code",
   "execution_count": 84,
   "id": "e39a3ff4-28df-4d39-96b7-a046c318193c",
   "metadata": {},
   "outputs": [
    {
     "name": "stdout",
     "output_type": "stream",
     "text": [
      "F_onewayResult(statistic=3.111194352801031, pvalue=0.05345420071280545)\n"
     ]
    }
   ],
   "source": [
    "print(f_oneway(d1,d2,d3))"
   ]
  },
  {
   "cell_type": "markdown",
   "id": "0b0c04b3-2676-4712-bdb8-bba209b04fa0",
   "metadata": {},
   "source": [
    "# Question 7 :"
   ]
  },
  {
   "cell_type": "code",
   "execution_count": 85,
   "id": "fe88bb36-2afa-4f03-9315-6b73d5f0de42",
   "metadata": {},
   "outputs": [
    {
     "name": "stderr",
     "output_type": "stream",
     "text": [
      "/home/abhishek/anaconda3/lib/python3.8/site-packages/openpyxl/worksheet/_reader.py:312: UserWarning: Unknown extension is not supported and will be removed\n",
      "  warn(msg)\n"
     ]
    }
   ],
   "source": [
    "df7 = pd.read_excel('/media/abhishek/589E61B39E618A782/C-DAC Document/Advanced Analytics/Assignment/Datasets/Accounting Professionals.xlsx', skiprows = 2)"
   ]
  },
  {
   "cell_type": "code",
   "execution_count": 87,
   "id": "4f7a4e6a-4f9f-438a-af25-04ab359c2785",
   "metadata": {},
   "outputs": [
    {
     "data": {
      "text/html": [
       "<div>\n",
       "<style scoped>\n",
       "    .dataframe tbody tr th:only-of-type {\n",
       "        vertical-align: middle;\n",
       "    }\n",
       "\n",
       "    .dataframe tbody tr th {\n",
       "        vertical-align: top;\n",
       "    }\n",
       "\n",
       "    .dataframe thead th {\n",
       "        text-align: right;\n",
       "    }\n",
       "</style>\n",
       "<table border=\"1\" class=\"dataframe\">\n",
       "  <thead>\n",
       "    <tr style=\"text-align: right;\">\n",
       "      <th></th>\n",
       "      <th>Employee</th>\n",
       "      <th>Gender</th>\n",
       "      <th>Years of Service</th>\n",
       "      <th>Years Undergraduate Study</th>\n",
       "      <th>Graduate Degree?</th>\n",
       "      <th>CPA?</th>\n",
       "      <th>Age Group</th>\n",
       "      <th>Unnamed: 7</th>\n",
       "      <th>Unnamed: 8</th>\n",
       "      <th>Unnamed: 9</th>\n",
       "    </tr>\n",
       "  </thead>\n",
       "  <tbody>\n",
       "    <tr>\n",
       "      <th>0</th>\n",
       "      <td>1</td>\n",
       "      <td>F</td>\n",
       "      <td>17</td>\n",
       "      <td>4</td>\n",
       "      <td>N</td>\n",
       "      <td>Y</td>\n",
       "      <td>41-45</td>\n",
       "      <td>NaN</td>\n",
       "      <td>NaN</td>\n",
       "      <td>NaN</td>\n",
       "    </tr>\n",
       "    <tr>\n",
       "      <th>1</th>\n",
       "      <td>2</td>\n",
       "      <td>F</td>\n",
       "      <td>6</td>\n",
       "      <td>2</td>\n",
       "      <td>N</td>\n",
       "      <td>N</td>\n",
       "      <td>26-30</td>\n",
       "      <td>NaN</td>\n",
       "      <td>NaN</td>\n",
       "      <td>NaN</td>\n",
       "    </tr>\n",
       "    <tr>\n",
       "      <th>2</th>\n",
       "      <td>3</td>\n",
       "      <td>M</td>\n",
       "      <td>8</td>\n",
       "      <td>4</td>\n",
       "      <td>Y</td>\n",
       "      <td>Y</td>\n",
       "      <td>31-35</td>\n",
       "      <td>NaN</td>\n",
       "      <td>NaN</td>\n",
       "      <td>NaN</td>\n",
       "    </tr>\n",
       "    <tr>\n",
       "      <th>3</th>\n",
       "      <td>4</td>\n",
       "      <td>F</td>\n",
       "      <td>8</td>\n",
       "      <td>4</td>\n",
       "      <td>Y</td>\n",
       "      <td>N</td>\n",
       "      <td>31-35</td>\n",
       "      <td>NaN</td>\n",
       "      <td>NaN</td>\n",
       "      <td>NaN</td>\n",
       "    </tr>\n",
       "    <tr>\n",
       "      <th>4</th>\n",
       "      <td>5</td>\n",
       "      <td>M</td>\n",
       "      <td>16</td>\n",
       "      <td>4</td>\n",
       "      <td>Y</td>\n",
       "      <td>Y</td>\n",
       "      <td>36-40</td>\n",
       "      <td>NaN</td>\n",
       "      <td>NaN</td>\n",
       "      <td>NaN</td>\n",
       "    </tr>\n",
       "    <tr>\n",
       "      <th>5</th>\n",
       "      <td>6</td>\n",
       "      <td>F</td>\n",
       "      <td>21</td>\n",
       "      <td>1</td>\n",
       "      <td>N</td>\n",
       "      <td>Y</td>\n",
       "      <td>51-55</td>\n",
       "      <td>NaN</td>\n",
       "      <td>NaN</td>\n",
       "      <td>NaN</td>\n",
       "    </tr>\n",
       "    <tr>\n",
       "      <th>6</th>\n",
       "      <td>7</td>\n",
       "      <td>M</td>\n",
       "      <td>27</td>\n",
       "      <td>4</td>\n",
       "      <td>N</td>\n",
       "      <td>N</td>\n",
       "      <td>51-55</td>\n",
       "      <td>NaN</td>\n",
       "      <td>NaN</td>\n",
       "      <td>NaN</td>\n",
       "    </tr>\n",
       "    <tr>\n",
       "      <th>7</th>\n",
       "      <td>8</td>\n",
       "      <td>F</td>\n",
       "      <td>7</td>\n",
       "      <td>4</td>\n",
       "      <td>Y</td>\n",
       "      <td>Y</td>\n",
       "      <td>26-30</td>\n",
       "      <td>NaN</td>\n",
       "      <td>NaN</td>\n",
       "      <td>NaN</td>\n",
       "    </tr>\n",
       "    <tr>\n",
       "      <th>8</th>\n",
       "      <td>9</td>\n",
       "      <td>M</td>\n",
       "      <td>8</td>\n",
       "      <td>4</td>\n",
       "      <td>N</td>\n",
       "      <td>N</td>\n",
       "      <td>31-35</td>\n",
       "      <td>NaN</td>\n",
       "      <td>NaN</td>\n",
       "      <td>NaN</td>\n",
       "    </tr>\n",
       "    <tr>\n",
       "      <th>9</th>\n",
       "      <td>10</td>\n",
       "      <td>M</td>\n",
       "      <td>23</td>\n",
       "      <td>2</td>\n",
       "      <td>N</td>\n",
       "      <td>Y</td>\n",
       "      <td>41-45</td>\n",
       "      <td>NaN</td>\n",
       "      <td>NaN</td>\n",
       "      <td>NaN</td>\n",
       "    </tr>\n",
       "  </tbody>\n",
       "</table>\n",
       "</div>"
      ],
      "text/plain": [
       "   Employee Gender  Years of Service  Years Undergraduate Study  \\\n",
       "0         1      F                17                          4   \n",
       "1         2      F                 6                          2   \n",
       "2         3      M                 8                          4   \n",
       "3         4      F                 8                          4   \n",
       "4         5      M                16                          4   \n",
       "5         6      F                21                          1   \n",
       "6         7      M                27                          4   \n",
       "7         8      F                 7                          4   \n",
       "8         9      M                 8                          4   \n",
       "9        10      M                23                          2   \n",
       "\n",
       "  Graduate Degree? CPA? Age Group  Unnamed: 7  Unnamed: 8  Unnamed: 9  \n",
       "0                N    Y     41-45         NaN         NaN         NaN  \n",
       "1                N    N     26-30         NaN         NaN         NaN  \n",
       "2                Y    Y     31-35         NaN         NaN         NaN  \n",
       "3                Y    N     31-35         NaN         NaN         NaN  \n",
       "4                Y    Y     36-40         NaN         NaN         NaN  \n",
       "5                N    Y     51-55         NaN         NaN         NaN  \n",
       "6                N    N     51-55         NaN         NaN         NaN  \n",
       "7                Y    Y     26-30         NaN         NaN         NaN  \n",
       "8                N    N     31-35         NaN         NaN         NaN  \n",
       "9                N    Y     41-45         NaN         NaN         NaN  "
      ]
     },
     "execution_count": 87,
     "metadata": {},
     "output_type": "execute_result"
    }
   ],
   "source": [
    "df7.head(10)"
   ]
  },
  {
   "cell_type": "code",
   "execution_count": 89,
   "id": "a9e16f6a-c5d4-46b6-972c-d42090d868af",
   "metadata": {},
   "outputs": [],
   "source": [
    "table=pd.crosstab(df7.iloc[:,4],df7[\"Age Group\"])"
   ]
  },
  {
   "cell_type": "code",
   "execution_count": 90,
   "id": "d80aa31b-1c05-4074-9a4a-ab7777289ea9",
   "metadata": {},
   "outputs": [
    {
     "data": {
      "text/html": [
       "<div>\n",
       "<style scoped>\n",
       "    .dataframe tbody tr th:only-of-type {\n",
       "        vertical-align: middle;\n",
       "    }\n",
       "\n",
       "    .dataframe tbody tr th {\n",
       "        vertical-align: top;\n",
       "    }\n",
       "\n",
       "    .dataframe thead th {\n",
       "        text-align: right;\n",
       "    }\n",
       "</style>\n",
       "<table border=\"1\" class=\"dataframe\">\n",
       "  <thead>\n",
       "    <tr style=\"text-align: right;\">\n",
       "      <th>Age Group</th>\n",
       "      <th>21-25</th>\n",
       "      <th>26-30</th>\n",
       "      <th>31-35</th>\n",
       "      <th>36-40</th>\n",
       "      <th>41-45</th>\n",
       "      <th>46-50</th>\n",
       "      <th>51-55</th>\n",
       "    </tr>\n",
       "    <tr>\n",
       "      <th>Graduate Degree?</th>\n",
       "      <th></th>\n",
       "      <th></th>\n",
       "      <th></th>\n",
       "      <th></th>\n",
       "      <th></th>\n",
       "      <th></th>\n",
       "      <th></th>\n",
       "    </tr>\n",
       "  </thead>\n",
       "  <tbody>\n",
       "    <tr>\n",
       "      <th>N</th>\n",
       "      <td>1</td>\n",
       "      <td>4</td>\n",
       "      <td>2</td>\n",
       "      <td>1</td>\n",
       "      <td>2</td>\n",
       "      <td>2</td>\n",
       "      <td>5</td>\n",
       "    </tr>\n",
       "    <tr>\n",
       "      <th>Y</th>\n",
       "      <td>0</td>\n",
       "      <td>2</td>\n",
       "      <td>3</td>\n",
       "      <td>3</td>\n",
       "      <td>0</td>\n",
       "      <td>1</td>\n",
       "      <td>1</td>\n",
       "    </tr>\n",
       "  </tbody>\n",
       "</table>\n",
       "</div>"
      ],
      "text/plain": [
       "Age Group         21-25  26-30  31-35  36-40  41-45  46-50  51-55\n",
       "Graduate Degree?                                                 \n",
       "N                     1      4      2      1      2      2      5\n",
       "Y                     0      2      3      3      0      1      1"
      ]
     },
     "execution_count": 90,
     "metadata": {},
     "output_type": "execute_result"
    }
   ],
   "source": [
    "table"
   ]
  },
  {
   "cell_type": "code",
   "execution_count": 93,
   "id": "7d2ec156-5361-4c47-a4aa-210bcb08a1ea",
   "metadata": {},
   "outputs": [],
   "source": [
    "f_obs=table.loc[\"N\"].tolist()+table.loc[\"Y\"].tolist()\n",
    "f_obs_arr=np.array(f_obs)\n",
    "f_obs_arr.shape=( 2, 7 )"
   ]
  },
  {
   "cell_type": "code",
   "execution_count": 94,
   "id": "915405de-d12a-4709-b797-8f0604a51cdc",
   "metadata": {},
   "outputs": [
    {
     "data": {
      "text/plain": [
       "(6.4879411764705885,\n",
       " 0.370802780240566,\n",
       " 6,\n",
       " array([[0.62962963, 3.77777778, 3.14814815, 2.51851852, 1.25925926,\n",
       "         1.88888889, 3.77777778],\n",
       "        [0.37037037, 2.22222222, 1.85185185, 1.48148148, 0.74074074,\n",
       "         1.11111111, 2.22222222]]))"
      ]
     },
     "execution_count": 94,
     "metadata": {},
     "output_type": "execute_result"
    }
   ],
   "source": [
    "chi2_contingency(f_obs_arr)"
   ]
  },
  {
   "cell_type": "code",
   "execution_count": null,
   "id": "fd892cdc-cc4f-4dd9-ae6f-14d4726765a3",
   "metadata": {},
   "outputs": [],
   "source": []
  }
 ],
 "metadata": {
  "kernelspec": {
   "display_name": "Python 3",
   "language": "python",
   "name": "python3"
  },
  "language_info": {
   "codemirror_mode": {
    "name": "ipython",
    "version": 3
   },
   "file_extension": ".py",
   "mimetype": "text/x-python",
   "name": "python",
   "nbconvert_exporter": "python",
   "pygments_lexer": "ipython3",
   "version": "3.8.8"
  }
 },
 "nbformat": 4,
 "nbformat_minor": 5
}
