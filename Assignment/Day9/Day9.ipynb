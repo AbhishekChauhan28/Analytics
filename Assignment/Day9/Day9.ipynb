{
 "cells": [
  {
   "cell_type": "code",
   "execution_count": 2,
   "id": "465e0fa4-af4a-46ce-b8ef-6fc59c1f48a3",
   "metadata": {},
   "outputs": [],
   "source": [
    "from collections import Counter\n",
    "from scipy.stats import norm\n",
    "from scipy.stats import t\n",
    "import pandas as pd\n",
    "import numpy as np\n",
    "import math"
   ]
  },
  {
   "cell_type": "markdown",
   "id": "60be45be-a717-4321-8582-4eff1e032662",
   "metadata": {},
   "source": [
    "# Question 2 :"
   ]
  },
  {
   "cell_type": "code",
   "execution_count": 11,
   "id": "bf0b5723-09bc-4875-8f52-1808c8da7295",
   "metadata": {},
   "outputs": [],
   "source": [
    "m = 215\n",
    "n = 25\n",
    "alpha = 0.05"
   ]
  },
  {
   "cell_type": "code",
   "execution_count": 12,
   "id": "75b21139-61f9-4e0f-b7f2-dff2d7cdb968",
   "metadata": {},
   "outputs": [],
   "source": [
    "std_err = 10/math.sqrt(n)\n",
    "zval = norm.ppf(1 - alpha / 2)\n",
    "h1 = std_err * zval"
   ]
  },
  {
   "cell_type": "code",
   "execution_count": 13,
   "id": "e8795fc1-4563-4281-83bf-5767218a445d",
   "metadata": {},
   "outputs": [
    {
     "data": {
      "text/plain": [
       "211.0800720309199"
      ]
     },
     "execution_count": 13,
     "metadata": {},
     "output_type": "execute_result"
    }
   ],
   "source": [
    "m - h1"
   ]
  },
  {
   "cell_type": "code",
   "execution_count": 14,
   "id": "a2e78f87-0110-48a6-888a-53f8625f66c1",
   "metadata": {},
   "outputs": [
    {
     "data": {
      "text/plain": [
       "218.9199279690801"
      ]
     },
     "execution_count": 14,
     "metadata": {},
     "output_type": "execute_result"
    }
   ],
   "source": [
    "m + h1"
   ]
  },
  {
   "cell_type": "markdown",
   "id": "18d130d7-185e-48cf-9a8e-5756d16c5b98",
   "metadata": {},
   "source": [
    "# Question 3 :"
   ]
  },
  {
   "cell_type": "code",
   "execution_count": 15,
   "id": "b9c5ed14-de57-4832-8436-73a817bd82be",
   "metadata": {},
   "outputs": [],
   "source": [
    "confidence = 0.99\n",
    "m = 2.88\n",
    "n = 25\n",
    "std_dev = 1.59"
   ]
  },
  {
   "cell_type": "code",
   "execution_count": 16,
   "id": "eb504b46-1997-47f1-94a9-609977967d71",
   "metadata": {},
   "outputs": [],
   "source": [
    "std_err = std_dev/math.sqrt(n)"
   ]
  },
  {
   "cell_type": "code",
   "execution_count": 17,
   "id": "1a16f023-58ad-412c-b05e-eb57edc23caf",
   "metadata": {},
   "outputs": [],
   "source": [
    "h = std_err * t.ppf((1 - confidence) / 2, n - 1)"
   ]
  },
  {
   "cell_type": "code",
   "execution_count": 18,
   "id": "5ca7b836-b102-4549-a108-88cdd9bc38ef",
   "metadata": {},
   "outputs": [
    {
     "data": {
      "text/plain": [
       "3.7694267625177513"
      ]
     },
     "execution_count": 18,
     "metadata": {},
     "output_type": "execute_result"
    }
   ],
   "source": [
    "m - h"
   ]
  },
  {
   "cell_type": "code",
   "execution_count": 19,
   "id": "3df7e137-06b4-4959-92cd-482c3f888d2f",
   "metadata": {},
   "outputs": [
    {
     "data": {
      "text/plain": [
       "1.9905732374822482"
      ]
     },
     "execution_count": 19,
     "metadata": {},
     "output_type": "execute_result"
    }
   ],
   "source": [
    "m + h"
   ]
  },
  {
   "cell_type": "markdown",
   "id": "2df30a7c-c2c1-4bec-ae71-85126aff6e14",
   "metadata": {},
   "source": [
    "# Question 4 :"
   ]
  },
  {
   "cell_type": "code",
   "execution_count": 3,
   "id": "89ce393e-b3a3-465d-b32c-9b8b020a5a24",
   "metadata": {},
   "outputs": [],
   "source": [
    "df1 = pd.read_excel('/media/abhishek/589E61B39E618A782/C-DAC Document/Advanced Analytics/Assignment/Datasets/Consumer Transportation Survey.xlsx', skiprows = 2)"
   ]
  },
  {
   "cell_type": "code",
   "execution_count": 4,
   "id": "5409f211-ff14-4287-8763-c489b29dc9eb",
   "metadata": {},
   "outputs": [
    {
     "data": {
      "text/html": [
       "<div>\n",
       "<style scoped>\n",
       "    .dataframe tbody tr th:only-of-type {\n",
       "        vertical-align: middle;\n",
       "    }\n",
       "\n",
       "    .dataframe tbody tr th {\n",
       "        vertical-align: top;\n",
       "    }\n",
       "\n",
       "    .dataframe thead th {\n",
       "        text-align: right;\n",
       "    }\n",
       "</style>\n",
       "<table border=\"1\" class=\"dataframe\">\n",
       "  <thead>\n",
       "    <tr style=\"text-align: right;\">\n",
       "      <th></th>\n",
       "      <th>Vehicle Driven</th>\n",
       "      <th>Type</th>\n",
       "      <th>Satisfaction with vehicle</th>\n",
       "      <th>Gender</th>\n",
       "      <th>Age</th>\n",
       "      <th># of hours per week in vehicle</th>\n",
       "      <th>Miles driven per week</th>\n",
       "      <th>NumberOfChildren</th>\n",
       "      <th>Average number of riders</th>\n",
       "      <th>Miles from work</th>\n",
       "      <th>...</th>\n",
       "      <th>Unnamed: 41</th>\n",
       "      <th>Unnamed: 42</th>\n",
       "      <th>Unnamed: 43</th>\n",
       "      <th>Unnamed: 44</th>\n",
       "      <th>Unnamed: 45</th>\n",
       "      <th>Unnamed: 46</th>\n",
       "      <th>Unnamed: 47</th>\n",
       "      <th>Unnamed: 48</th>\n",
       "      <th>Unnamed: 49</th>\n",
       "      <th>Unnamed: 50</th>\n",
       "    </tr>\n",
       "  </thead>\n",
       "  <tbody>\n",
       "    <tr>\n",
       "      <th>0</th>\n",
       "      <td>Truck</td>\n",
       "      <td>Domestic</td>\n",
       "      <td>Yes</td>\n",
       "      <td>Male</td>\n",
       "      <td>31.0</td>\n",
       "      <td>10.0</td>\n",
       "      <td>450.0</td>\n",
       "      <td>0.0</td>\n",
       "      <td>1.0</td>\n",
       "      <td>30.0</td>\n",
       "      <td>...</td>\n",
       "      <td>NaN</td>\n",
       "      <td>NaN</td>\n",
       "      <td>NaN</td>\n",
       "      <td>NaN</td>\n",
       "      <td>NaN</td>\n",
       "      <td>NaN</td>\n",
       "      <td>NaN</td>\n",
       "      <td>NaN</td>\n",
       "      <td>NaN</td>\n",
       "      <td>NaN</td>\n",
       "    </tr>\n",
       "    <tr>\n",
       "      <th>1</th>\n",
       "      <td>Truck</td>\n",
       "      <td>Domestic</td>\n",
       "      <td>Yes</td>\n",
       "      <td>Male</td>\n",
       "      <td>29.0</td>\n",
       "      <td>5.0</td>\n",
       "      <td>370.0</td>\n",
       "      <td>1.0</td>\n",
       "      <td>1.0</td>\n",
       "      <td>22.0</td>\n",
       "      <td>...</td>\n",
       "      <td>NaN</td>\n",
       "      <td>NaN</td>\n",
       "      <td>NaN</td>\n",
       "      <td>NaN</td>\n",
       "      <td>NaN</td>\n",
       "      <td>NaN</td>\n",
       "      <td>NaN</td>\n",
       "      <td>NaN</td>\n",
       "      <td>NaN</td>\n",
       "      <td>NaN</td>\n",
       "    </tr>\n",
       "    <tr>\n",
       "      <th>2</th>\n",
       "      <td>Truck</td>\n",
       "      <td>Foreign</td>\n",
       "      <td>No</td>\n",
       "      <td>Male</td>\n",
       "      <td>26.0</td>\n",
       "      <td>12.0</td>\n",
       "      <td>580.0</td>\n",
       "      <td>0.0</td>\n",
       "      <td>1.0</td>\n",
       "      <td>15.0</td>\n",
       "      <td>...</td>\n",
       "      <td>NaN</td>\n",
       "      <td>NaN</td>\n",
       "      <td>NaN</td>\n",
       "      <td>NaN</td>\n",
       "      <td>NaN</td>\n",
       "      <td>NaN</td>\n",
       "      <td>NaN</td>\n",
       "      <td>NaN</td>\n",
       "      <td>NaN</td>\n",
       "      <td>NaN</td>\n",
       "    </tr>\n",
       "    <tr>\n",
       "      <th>3</th>\n",
       "      <td>Truck</td>\n",
       "      <td>Domestic</td>\n",
       "      <td>No</td>\n",
       "      <td>Male</td>\n",
       "      <td>18.0</td>\n",
       "      <td>6.0</td>\n",
       "      <td>300.0</td>\n",
       "      <td>0.0</td>\n",
       "      <td>1.0</td>\n",
       "      <td>20.0</td>\n",
       "      <td>...</td>\n",
       "      <td>NaN</td>\n",
       "      <td>NaN</td>\n",
       "      <td>NaN</td>\n",
       "      <td>NaN</td>\n",
       "      <td>NaN</td>\n",
       "      <td>NaN</td>\n",
       "      <td>NaN</td>\n",
       "      <td>NaN</td>\n",
       "      <td>NaN</td>\n",
       "      <td>NaN</td>\n",
       "    </tr>\n",
       "    <tr>\n",
       "      <th>4</th>\n",
       "      <td>SUV</td>\n",
       "      <td>Domestic</td>\n",
       "      <td>Yes</td>\n",
       "      <td>Male</td>\n",
       "      <td>49.0</td>\n",
       "      <td>21.0</td>\n",
       "      <td>1000.0</td>\n",
       "      <td>0.0</td>\n",
       "      <td>1.0</td>\n",
       "      <td>22.0</td>\n",
       "      <td>...</td>\n",
       "      <td>NaN</td>\n",
       "      <td>NaN</td>\n",
       "      <td>NaN</td>\n",
       "      <td>NaN</td>\n",
       "      <td>NaN</td>\n",
       "      <td>NaN</td>\n",
       "      <td>NaN</td>\n",
       "      <td>NaN</td>\n",
       "      <td>NaN</td>\n",
       "      <td>NaN</td>\n",
       "    </tr>\n",
       "    <tr>\n",
       "      <th>5</th>\n",
       "      <td>SUV</td>\n",
       "      <td>Foreign</td>\n",
       "      <td>Yes</td>\n",
       "      <td>Male</td>\n",
       "      <td>50.0</td>\n",
       "      <td>16.0</td>\n",
       "      <td>840.0</td>\n",
       "      <td>2.0</td>\n",
       "      <td>1.0</td>\n",
       "      <td>45.0</td>\n",
       "      <td>...</td>\n",
       "      <td>NaN</td>\n",
       "      <td>NaN</td>\n",
       "      <td>NaN</td>\n",
       "      <td>NaN</td>\n",
       "      <td>NaN</td>\n",
       "      <td>NaN</td>\n",
       "      <td>NaN</td>\n",
       "      <td>NaN</td>\n",
       "      <td>NaN</td>\n",
       "      <td>NaN</td>\n",
       "    </tr>\n",
       "    <tr>\n",
       "      <th>6</th>\n",
       "      <td>SUV</td>\n",
       "      <td>Domestic</td>\n",
       "      <td>Yes</td>\n",
       "      <td>Male</td>\n",
       "      <td>48.0</td>\n",
       "      <td>15.0</td>\n",
       "      <td>1400.0</td>\n",
       "      <td>3.0</td>\n",
       "      <td>4.0</td>\n",
       "      <td>25.0</td>\n",
       "      <td>...</td>\n",
       "      <td>NaN</td>\n",
       "      <td>NaN</td>\n",
       "      <td>NaN</td>\n",
       "      <td>NaN</td>\n",
       "      <td>NaN</td>\n",
       "      <td>NaN</td>\n",
       "      <td>NaN</td>\n",
       "      <td>NaN</td>\n",
       "      <td>NaN</td>\n",
       "      <td>NaN</td>\n",
       "    </tr>\n",
       "    <tr>\n",
       "      <th>7</th>\n",
       "      <td>SUV</td>\n",
       "      <td>Foreign</td>\n",
       "      <td>Yes</td>\n",
       "      <td>Male</td>\n",
       "      <td>45.0</td>\n",
       "      <td>5.0</td>\n",
       "      <td>300.0</td>\n",
       "      <td>2.0</td>\n",
       "      <td>2.0</td>\n",
       "      <td>20.0</td>\n",
       "      <td>...</td>\n",
       "      <td>NaN</td>\n",
       "      <td>NaN</td>\n",
       "      <td>NaN</td>\n",
       "      <td>NaN</td>\n",
       "      <td>NaN</td>\n",
       "      <td>NaN</td>\n",
       "      <td>NaN</td>\n",
       "      <td>NaN</td>\n",
       "      <td>NaN</td>\n",
       "      <td>NaN</td>\n",
       "    </tr>\n",
       "    <tr>\n",
       "      <th>8</th>\n",
       "      <td>SUV</td>\n",
       "      <td>Domestic</td>\n",
       "      <td>Yes</td>\n",
       "      <td>Male</td>\n",
       "      <td>45.0</td>\n",
       "      <td>15.0</td>\n",
       "      <td>850.0</td>\n",
       "      <td>0.0</td>\n",
       "      <td>1.0</td>\n",
       "      <td>25.0</td>\n",
       "      <td>...</td>\n",
       "      <td>NaN</td>\n",
       "      <td>NaN</td>\n",
       "      <td>NaN</td>\n",
       "      <td>NaN</td>\n",
       "      <td>NaN</td>\n",
       "      <td>NaN</td>\n",
       "      <td>NaN</td>\n",
       "      <td>NaN</td>\n",
       "      <td>NaN</td>\n",
       "      <td>NaN</td>\n",
       "    </tr>\n",
       "    <tr>\n",
       "      <th>9</th>\n",
       "      <td>SUV</td>\n",
       "      <td>Domestic</td>\n",
       "      <td>Yes</td>\n",
       "      <td>Male</td>\n",
       "      <td>44.0</td>\n",
       "      <td>10.0</td>\n",
       "      <td>700.0</td>\n",
       "      <td>2.0</td>\n",
       "      <td>1.0</td>\n",
       "      <td>40.0</td>\n",
       "      <td>...</td>\n",
       "      <td>NaN</td>\n",
       "      <td>NaN</td>\n",
       "      <td>NaN</td>\n",
       "      <td>NaN</td>\n",
       "      <td>NaN</td>\n",
       "      <td>NaN</td>\n",
       "      <td>NaN</td>\n",
       "      <td>NaN</td>\n",
       "      <td>NaN</td>\n",
       "      <td>NaN</td>\n",
       "    </tr>\n",
       "  </tbody>\n",
       "</table>\n",
       "<p>10 rows × 51 columns</p>\n",
       "</div>"
      ],
      "text/plain": [
       "  Vehicle Driven      Type Satisfaction with vehicle Gender   Age  \\\n",
       "0          Truck  Domestic                       Yes   Male  31.0   \n",
       "1          Truck  Domestic                       Yes   Male  29.0   \n",
       "2          Truck   Foreign                        No   Male  26.0   \n",
       "3          Truck  Domestic                        No   Male  18.0   \n",
       "4            SUV  Domestic                       Yes   Male  49.0   \n",
       "5            SUV   Foreign                       Yes   Male  50.0   \n",
       "6            SUV  Domestic                       Yes   Male  48.0   \n",
       "7            SUV   Foreign                       Yes   Male  45.0   \n",
       "8            SUV  Domestic                       Yes   Male  45.0   \n",
       "9            SUV  Domestic                       Yes   Male  44.0   \n",
       "\n",
       "   # of hours per week in vehicle  Miles driven per week  NumberOfChildren   \\\n",
       "0                            10.0                  450.0                0.0   \n",
       "1                             5.0                  370.0                1.0   \n",
       "2                            12.0                  580.0                0.0   \n",
       "3                             6.0                  300.0                0.0   \n",
       "4                            21.0                 1000.0                0.0   \n",
       "5                            16.0                  840.0                2.0   \n",
       "6                            15.0                 1400.0                3.0   \n",
       "7                             5.0                  300.0                2.0   \n",
       "8                            15.0                  850.0                0.0   \n",
       "9                            10.0                  700.0                2.0   \n",
       "\n",
       "   Average number of riders  Miles from work  ...  Unnamed: 41  Unnamed: 42  \\\n",
       "0                       1.0             30.0  ...          NaN          NaN   \n",
       "1                       1.0             22.0  ...          NaN          NaN   \n",
       "2                       1.0             15.0  ...          NaN          NaN   \n",
       "3                       1.0             20.0  ...          NaN          NaN   \n",
       "4                       1.0             22.0  ...          NaN          NaN   \n",
       "5                       1.0             45.0  ...          NaN          NaN   \n",
       "6                       4.0             25.0  ...          NaN          NaN   \n",
       "7                       2.0             20.0  ...          NaN          NaN   \n",
       "8                       1.0             25.0  ...          NaN          NaN   \n",
       "9                       1.0             40.0  ...          NaN          NaN   \n",
       "\n",
       "   Unnamed: 43  Unnamed: 44  Unnamed: 45  Unnamed: 46  Unnamed: 47  \\\n",
       "0          NaN          NaN          NaN          NaN          NaN   \n",
       "1          NaN          NaN          NaN          NaN          NaN   \n",
       "2          NaN          NaN          NaN          NaN          NaN   \n",
       "3          NaN          NaN          NaN          NaN          NaN   \n",
       "4          NaN          NaN          NaN          NaN          NaN   \n",
       "5          NaN          NaN          NaN          NaN          NaN   \n",
       "6          NaN          NaN          NaN          NaN          NaN   \n",
       "7          NaN          NaN          NaN          NaN          NaN   \n",
       "8          NaN          NaN          NaN          NaN          NaN   \n",
       "9          NaN          NaN          NaN          NaN          NaN   \n",
       "\n",
       "   Unnamed: 48  Unnamed: 49  Unnamed: 50  \n",
       "0          NaN          NaN          NaN  \n",
       "1          NaN          NaN          NaN  \n",
       "2          NaN          NaN          NaN  \n",
       "3          NaN          NaN          NaN  \n",
       "4          NaN          NaN          NaN  \n",
       "5          NaN          NaN          NaN  \n",
       "6          NaN          NaN          NaN  \n",
       "7          NaN          NaN          NaN  \n",
       "8          NaN          NaN          NaN  \n",
       "9          NaN          NaN          NaN  \n",
       "\n",
       "[10 rows x 51 columns]"
      ]
     },
     "execution_count": 4,
     "metadata": {},
     "output_type": "execute_result"
    }
   ],
   "source": [
    "df1.head(10)"
   ]
  },
  {
   "cell_type": "markdown",
   "id": "553a67b2-621d-48e7-9ec6-2c64661eb6e5",
   "metadata": {},
   "source": [
    "## 1st Part :"
   ]
  },
  {
   "cell_type": "code",
   "execution_count": 5,
   "id": "cfcbf2de-abaf-44cc-803a-d9cccb9ca250",
   "metadata": {},
   "outputs": [
    {
     "name": "stdout",
     "output_type": "stream",
     "text": [
      "1.0\n",
      "1.0\n"
     ]
    }
   ],
   "source": [
    "alpha=0.05\n",
    "zval=norm.ppf(1-alpha/2)\n",
    "len1=len(df1.iloc[:,2]==\"Yes\")\n",
    "n=len(df1)\n",
    "prop1=len1/n\n",
    "pval=zval*math.sqrt(prop1*(1-prop1)/len1)\n",
    "print(prop1-pval)\n",
    "print(prop1+pval)"
   ]
  },
  {
   "cell_type": "markdown",
   "id": "387fdf40-9f36-4d0c-b9d5-f7d076c84e0e",
   "metadata": {},
   "source": [
    "## 2nd Part :"
   ]
  },
  {
   "cell_type": "code",
   "execution_count": 23,
   "id": "8b2b9698-6ff4-42fd-9626-24e06bce1cd1",
   "metadata": {},
   "outputs": [],
   "source": [
    "#no_of_chi = df.loc[(df.iloc[:,7] >= 1)]"
   ]
  },
  {
   "cell_type": "code",
   "execution_count": 24,
   "id": "3c9b4921-70e9-410f-8b7b-46105b000638",
   "metadata": {},
   "outputs": [
    {
     "name": "stdout",
     "output_type": "stream",
     "text": [
      "0.3411407185743016\n",
      "0.7176828108374631\n"
     ]
    }
   ],
   "source": [
    "#no_of_chi.count()\n",
    "len2=len(df1[df1.iloc[:,7]>=1]==True)\n",
    "prop2=len2/n\n",
    "pval=zval*math.sqrt(prop2*(1-prop2)/len2)\n",
    "print(prop2-pval)\n",
    "print(prop2+pval)"
   ]
  },
  {
   "cell_type": "code",
   "execution_count": 25,
   "id": "6a72b4b2-badf-4088-ac3e-c42734676999",
   "metadata": {},
   "outputs": [],
   "source": [
    "#propo_of_at_least_one_children = 27 / Total"
   ]
  },
  {
   "cell_type": "code",
   "execution_count": 9,
   "id": "d483065a-bd25-4f6a-a483-39097d49fb6a",
   "metadata": {},
   "outputs": [],
   "source": [
    "#propo_of_at_least_one_children *100"
   ]
  },
  {
   "cell_type": "code",
   "execution_count": null,
   "id": "b1f570e3-7488-431b-9c39-4e2221ab2614",
   "metadata": {},
   "outputs": [],
   "source": []
  }
 ],
 "metadata": {
  "kernelspec": {
   "display_name": "Python 3",
   "language": "python",
   "name": "python3"
  },
  "language_info": {
   "codemirror_mode": {
    "name": "ipython",
    "version": 3
   },
   "file_extension": ".py",
   "mimetype": "text/x-python",
   "name": "python",
   "nbconvert_exporter": "python",
   "pygments_lexer": "ipython3",
   "version": "3.8.8"
  }
 },
 "nbformat": 4,
 "nbformat_minor": 5
}
